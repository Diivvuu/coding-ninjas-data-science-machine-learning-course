{
 "cells": [
  {
   "cell_type": "markdown",
   "metadata": {},
   "source": [
    "# Print the data of first 3 movies\n",
    "\n",
    "From this link,\n",
    "\n",
    "Find and print the name and genre of the first 3 titles\n",
    "\n",
    "Output Format :\n",
    "\n",
    "title_name_1 ; genre1_1, genre1_2 ..\n",
    "\n",
    "title_name_2 ; genre2_1, genre2_2 ..\n",
    "\n",
    "title_name_2 ; genre3_1, genre3_2 ..\n"
   ]
  },
  {
   "cell_type": "code",
   "execution_count": 2,
   "metadata": {},
   "outputs": [],
   "source": [
    "from bs4 import BeautifulSoup\n",
    "import requests"
   ]
  },
  {
   "cell_type": "code",
   "execution_count": 3,
   "metadata": {},
   "outputs": [],
   "source": [
    "response = requests.get('https://www.imdb.com/search/title/?release_date=2018&sort=num_votes,desc&page=1&ref_=adv_nxt')"
   ]
  },
  {
   "cell_type": "code",
   "execution_count": 4,
   "metadata": {},
   "outputs": [],
   "source": [
    "data = BeautifulSoup(response.text, 'html.parser')\n",
    "# data"
   ]
  },
  {
   "cell_type": "code",
   "execution_count": 5,
   "metadata": {},
   "outputs": [
    {
     "name": "stdout",
     "output_type": "stream",
     "text": [
      "Avengers: Infinity War ; Action, Adventure, Sci-Fi\n",
      "Black Panther ; Action, Adventure, Sci-Fi\n",
      "Deadpool 2 ; Action, Adventure, Comedy\n"
     ]
    }
   ],
   "source": [
    "movies = data.find_all(class_ = \"lister-item-content\")\n",
    "    # print(i)\n",
    "movies_list = []\n",
    "genre_list = []\n",
    "for i in movies[:3]:\n",
    "    movies_list.append(i.a.string)\n",
    "    genre_list.append(list(i.find(class_ = \"genre\").stripped_strings)[0])\n",
    "    # print(i.a.string, end = \";\")\n",
    "    # print(list(i.find(class_ = \"genre\").stripped_strings)[0])\n",
    "    # print(end = \";\")\n",
    "for i in range(3):\n",
    "    print(movies_list[i],\";\" , genre_list[i])"
   ]
  },
  {
   "cell_type": "markdown",
   "metadata": {},
   "source": [
    "# title with most votes\n",
    "\n",
    "Print the names of movies with highest number of votes from year 2010 to 2014\n",
    "\n",
    "Note : Print the titles line wise starting from year 2010\n",
    "\n",
    "Output Format :\n",
    "\n",
    "title_name_1\n",
    "\n",
    "title_name_2\n",
    "\n",
    "title_name_3\n",
    ".\n",
    ".\n"
   ]
  },
  {
   "cell_type": "code",
   "execution_count": 10,
   "metadata": {},
   "outputs": [
    {
     "name": "stdout",
     "output_type": "stream",
     "text": [
      "Inception\n",
      "Game of Thrones\n",
      "The Dark Knight Rises\n",
      "The Wolf of Wall Street\n",
      "Interstellar\n"
     ]
    }
   ],
   "source": [
    "movies = []\n",
    "for i in range(2010, 2015):\n",
    "    response = requests.get('https://www.imdb.com/search/title/?release_date=' + str(i) + '&sort=num_votes,desc&page=1&ref_=adv_nxt')\n",
    "    data = BeautifulSoup(response.text, 'html.parser')\n",
    "    print(data.h3.a.string)\n",
    "    "
   ]
  },
  {
   "cell_type": "code",
   "execution_count": 18,
   "metadata": {},
   "outputs": [],
   "source": [
    "import requests\n",
    "import time\n",
    "from bs4 import BeautifulSoup\n",
    "from random import randint"
   ]
  },
  {
   "cell_type": "code",
   "execution_count": 38,
   "metadata": {},
   "outputs": [],
   "source": [
    "dct = {}\n",
    "for i in range(1, 250, 50):\n",
    "    response = requests.get('https://www.imdb.com/search/title/?release_date=2018&sort=num_votes,desc&page=' + str(i) + '&ref_=adv_nxt')\n",
    "    data = BeautifulSoup(response.text, 'html.parser')\n",
    "    tags = data.find_all( class_ = \"lister-item\")\n",
    "    for j in tags:\n",
    "        if j.find( class_ = \"runtime\"):\n",
    "            head = j.find( class_ = \"lister-item-header\")\n",
    "            dur = j.find( class_ = \"runtime\")\n",
    "            t = int(dur.text.strip().split(\" \")[0])\n",
    "            dct[head.a.string] = t\n",
    "    # time.sleep(randint(0,3))\n",
    "maxdur = -1\n",
    "maxname = 0\n",
    "for k, v in dct.items():\n",
    "    if v > maxdur:\n",
    "        maxdur = v\n",
    "        maxname = k\n",
    "print(maxname, maxdur)"
   ]
  },
  {
   "cell_type": "code",
   "execution_count": 20,
   "metadata": {},
   "outputs": [
    {
     "name": "stdout",
     "output_type": "stream",
     "text": [
      "The Haunting of Hill House 572\n"
     ]
    }
   ],
   "source": [
    "import time\n",
    "from random import randint\n",
    "dct = {}\n",
    "for i in range(1, 250, 50):\n",
    "    res = requests.get('https://www.imdb.com/search/title/?release_date=2018&sort=num_votes,desc&page=' + str(i) + '&ref_=adv_nxt')\n",
    "    data = BeautifulSoup(res.text,\"html.parser\")\n",
    "    tags = data.find_all('div',class_='lister-item')\n",
    "    for j in tags:\n",
    "        if j.find('span',class_='runtime'):\n",
    "            head = j.find('h3',class_='lister-item-header')\n",
    "            dur = j.find('span',class_='runtime')\n",
    "            t= int(dur.text.strip().split(' ')[0])\n",
    "            dct[head.a.string] = t\n",
    "    time.sleep(randint(0,3))\n",
    "maxdur = -1\n",
    "maxnum = 0\n",
    "for k,v in dct.items():\n",
    "    if v>maxdur:\n",
    "        maxdur = v\n",
    "        maxname = k\n",
    "print(maxname,maxdur)"
   ]
  },
  {
   "cell_type": "code",
   "execution_count": null,
   "metadata": {},
   "outputs": [],
   "source": []
  },
  {
   "cell_type": "code",
   "execution_count": null,
   "metadata": {},
   "outputs": [],
   "source": []
  },
  {
   "cell_type": "code",
   "execution_count": 6,
   "metadata": {},
   "outputs": [
    {
     "name": "stdout",
     "output_type": "stream",
     "text": [
      "Inception\n",
      "Game of Thrones\n",
      "The Dark Knight Rises\n",
      "The Wolf of Wall Street\n",
      "Interstellar\n"
     ]
    }
   ],
   "source": [
    "from bs4 import BeautifulSoup\n",
    "import requests\n",
    "urls = ['https://www.imdb.com/search/title/?release_date=2010-01-01,2010-12-31&sort=num_votes,desc&ref_=adv_prv', 'https://www.imdb.com/search/title/?release_date=2011-01-01,2011-12-31&sort=num_votes,desc&ref_=adv_prv',\n",
    "       'https://www.imdb.com/search/title/?release_date=2012-01-01,2012-12-31&sort=num_votes,desc&ref_=adv_prv', 'https://www.imdb.com/search/title/?release_date=2013-01-01,2013-12-31&sort=num_votes,desc&ref_=adv_prv',\n",
    "       'https://www.imdb.com/search/title/?release_date=2014-01-01,2014-12-31&sort=num_votes,desc&ref_=adv_prv']\n",
    "for i in urls:\n",
    "    res = requests.get(i)\n",
    "    data = BeautifulSoup(res.text,\"html.parser\")\n",
    "    a = data.find(class_ = \"lister-item mode-advanced\")\n",
    "    name = a.find(class_ = \"lister-item-content\").a.string\n",
    "    print(name)"
   ]
  },
  {
   "cell_type": "code",
   "execution_count": null,
   "metadata": {},
   "outputs": [],
   "source": []
  }
 ],
 "metadata": {
  "kernelspec": {
   "display_name": "Python 3.10.5 64-bit",
   "language": "python",
   "name": "python3"
  },
  "language_info": {
   "codemirror_mode": {
    "name": "ipython",
    "version": 3
   },
   "file_extension": ".py",
   "mimetype": "text/x-python",
   "name": "python",
   "nbconvert_exporter": "python",
   "pygments_lexer": "ipython3",
   "version": "3.10.5"
  },
  "orig_nbformat": 4,
  "vscode": {
   "interpreter": {
    "hash": "26de051ba29f2982a8de78e945f0abaf191376122a1563185a90213a26c5da77"
   }
  }
 },
 "nbformat": 4,
 "nbformat_minor": 2
}
