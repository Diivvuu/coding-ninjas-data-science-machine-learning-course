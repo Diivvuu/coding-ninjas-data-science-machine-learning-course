{
 "cells": [
  {
   "cell_type": "code",
   "execution_count": 1,
   "metadata": {},
   "outputs": [],
   "source": [
    "from selenium.webdriver.chrome.service import Service"
   ]
  },
  {
   "cell_type": "code",
   "execution_count": 2,
   "metadata": {},
   "outputs": [],
   "source": [
    "from selenium import webdriver"
   ]
  },
  {
   "cell_type": "code",
   "execution_count": 3,
   "metadata": {},
   "outputs": [],
   "source": [
    "from selenium.webdriver.common.by import By"
   ]
  },
  {
   "cell_type": "code",
   "execution_count": 4,
   "metadata": {},
   "outputs": [
    {
     "name": "stderr",
     "output_type": "stream",
     "text": [
      "C:\\Users\\WELCOME\\AppData\\Local\\Temp\\ipykernel_41968\\4101960720.py:1: DeprecationWarning: executable_path has been deprecated, please pass in a Service object\n",
      "  driver = webdriver.Chrome(executable_path=\"C:/Users/admin/Downloads/Chromedriver/chromedriver.exe\")\n"
     ]
    },
    {
     "data": {
      "text/plain": [
       "<selenium.webdriver.chrome.webdriver.WebDriver (session=\"2ee1e2be856aa87ca8b0ce316822a01d\")>"
      ]
     },
     "execution_count": 4,
     "metadata": {},
     "output_type": "execute_result"
    }
   ],
   "source": [
    "driver = webdriver.Chrome(executable_path=\"C:/Users/admin/Downloads/Chromedriver/chromedriver.exe\")\n",
    "driver.get('https://www.codingninjas.com/codestudio')\n",
    "driver"
   ]
  },
  {
   "cell_type": "code",
   "execution_count": 5,
   "metadata": {},
   "outputs": [],
   "source": [
    "driver.back()"
   ]
  },
  {
   "cell_type": "code",
   "execution_count": 6,
   "metadata": {},
   "outputs": [],
   "source": [
    "driver.forward()"
   ]
  },
  {
   "cell_type": "code",
   "execution_count": 7,
   "metadata": {},
   "outputs": [],
   "source": [
    "# driver.save_screenshot(\"test.png\")"
   ]
  },
  {
   "cell_type": "code",
   "execution_count": 16,
   "metadata": {},
   "outputs": [],
   "source": [
    "driver  = driver.find_elements(By.LINK_TEXT, 'ADVANCED ALGORITHMS')"
   ]
  },
  {
   "cell_type": "code",
   "execution_count": 18,
   "metadata": {},
   "outputs": [
    {
     "ename": "AttributeError",
     "evalue": "'list' object has no attribute 'click'",
     "output_type": "error",
     "traceback": [
      "\u001b[1;31m---------------------------------------------------------------------------\u001b[0m",
      "\u001b[1;31mAttributeError\u001b[0m                            Traceback (most recent call last)",
      "Cell \u001b[1;32mIn [18], line 1\u001b[0m\n\u001b[1;32m----> 1\u001b[0m driver\u001b[39m.\u001b[39;49mclick()\n",
      "\u001b[1;31mAttributeError\u001b[0m: 'list' object has no attribute 'click'"
     ]
    }
   ],
   "source": [
    "driver.click()"
   ]
  },
  {
   "cell_type": "code",
   "execution_count": 19,
   "metadata": {},
   "outputs": [
    {
     "name": "stderr",
     "output_type": "stream",
     "text": [
      "C:\\Users\\WELCOME\\AppData\\Local\\Temp\\ipykernel_41968\\3508044238.py:2: DeprecationWarning: executable_path has been deprecated, please pass in a Service object\n",
      "  driver = webdriver.Chrome(executable_path = 'C:/Users/admin/Downloads/Chromedriver/chromedriver.exe')\n"
     ]
    },
    {
     "name": "stdout",
     "output_type": "stream",
     "text": [
      "Google Images\n"
     ]
    }
   ],
   "source": [
    "from selenium import webdriver\n",
    "driver = webdriver.Chrome(executable_path = 'C:/Users/admin/Downloads/Chromedriver/chromedriver.exe')\n",
    "driver.get('https://www.google.com/')\n",
    "button = driver.find_element(By.PARTIAL_LINK_TEXT, 'mage')\n",
    "button.click()\n",
    "print(driver.title)\n",
    "driver.back()\n",
    "driver.close()"
   ]
  },
  {
   "cell_type": "code",
   "execution_count": 20,
   "metadata": {},
   "outputs": [
    {
     "name": "stderr",
     "output_type": "stream",
     "text": [
      "C:\\Users\\WELCOME\\AppData\\Local\\Temp\\ipykernel_41968\\1038117498.py:3: DeprecationWarning: executable_path has been deprecated, please pass in a Service object\n",
      "  driver = webdriver.Chrome(executable_path = 'C:/Users/admin/Downloads/Chromedriver/chromedriver.exe')\n"
     ]
    },
    {
     "ename": "NoSuchElementException",
     "evalue": "Message: no such element: Unable to locate element: {\"method\":\"xpath\",\"selector\":\"//*[@id=\"codezen-content\"]/codezen-dashboard/div/div[2]/div/codezen-dashboard-practice/main/codezen-dashboard-practice-item[3]/a/div/div[2]\"}\n  (Session info: chrome=107.0.5304.108)\nStacktrace:\nBacktrace:\n\tOrdinal0 [0x0108ACD3+2075859]\n\tOrdinal0 [0x0101EE61+1633889]\n\tOrdinal0 [0x00F1B7BD+571325]\n\tOrdinal0 [0x00F4AC2F+764975]\n\tOrdinal0 [0x00F4AE1B+765467]\n\tOrdinal0 [0x00F7D0F2+970994]\n\tOrdinal0 [0x00F67364+881508]\n\tOrdinal0 [0x00F7B56A+963946]\n\tOrdinal0 [0x00F67136+880950]\n\tOrdinal0 [0x00F3FEFD+720637]\n\tOrdinal0 [0x00F40F3F+724799]\n\tGetHandleVerifier [0x0133EED2+2769538]\n\tGetHandleVerifier [0x01330D95+2711877]\n\tGetHandleVerifier [0x0111A03A+521194]\n\tGetHandleVerifier [0x01118DA0+516432]\n\tOrdinal0 [0x0102682C+1665068]\n\tOrdinal0 [0x0102B128+1683752]\n\tOrdinal0 [0x0102B215+1683989]\n\tOrdinal0 [0x01036484+1729668]\n\tBaseThreadInitThunk [0x76BCFEF9+25]\n\tRtlGetAppContainerNamedObjectPath [0x77037BBE+286]\n\tRtlGetAppContainerNamedObjectPath [0x77037B8E+238]\n",
     "output_type": "error",
     "traceback": [
      "\u001b[1;31m---------------------------------------------------------------------------\u001b[0m",
      "\u001b[1;31mNoSuchElementException\u001b[0m                    Traceback (most recent call last)",
      "Cell \u001b[1;32mIn [20], line 6\u001b[0m\n\u001b[0;32m      4\u001b[0m driver\u001b[39m.\u001b[39mget(\u001b[39m'\u001b[39m\u001b[39mhttps://codezen.codingninjas.com/dashboard\u001b[39m\u001b[39m'\u001b[39m)\n\u001b[0;32m      5\u001b[0m xp \u001b[39m=\u001b[39m \u001b[39m'\u001b[39m\u001b[39m//*[@id=\u001b[39m\u001b[39m\"\u001b[39m\u001b[39mcodezen-content\u001b[39m\u001b[39m\"\u001b[39m\u001b[39m]/codezen-dashboard/div/div[2]/div/codezen-dashboard-practice/main/codezen-dashboard-practice-item[3]/a/div/div[2]\u001b[39m\u001b[39m'\u001b[39m\n\u001b[1;32m----> 6\u001b[0m driver\u001b[39m.\u001b[39;49mfind_element(By\u001b[39m.\u001b[39;49mXPATH, xp)\u001b[39m.\u001b[39mclick()\n",
      "File \u001b[1;32m~\\AppData\\Roaming\\Python\\Python310\\site-packages\\selenium\\webdriver\\remote\\webdriver.py:861\u001b[0m, in \u001b[0;36mWebDriver.find_element\u001b[1;34m(self, by, value)\u001b[0m\n\u001b[0;32m    858\u001b[0m     by \u001b[39m=\u001b[39m By\u001b[39m.\u001b[39mCSS_SELECTOR\n\u001b[0;32m    859\u001b[0m     value \u001b[39m=\u001b[39m \u001b[39m'\u001b[39m\u001b[39m[name=\u001b[39m\u001b[39m\"\u001b[39m\u001b[39m%s\u001b[39;00m\u001b[39m\"\u001b[39m\u001b[39m]\u001b[39m\u001b[39m'\u001b[39m \u001b[39m%\u001b[39m value\n\u001b[1;32m--> 861\u001b[0m \u001b[39mreturn\u001b[39;00m \u001b[39mself\u001b[39;49m\u001b[39m.\u001b[39;49mexecute(Command\u001b[39m.\u001b[39;49mFIND_ELEMENT, {\u001b[39m\"\u001b[39;49m\u001b[39musing\u001b[39;49m\u001b[39m\"\u001b[39;49m: by, \u001b[39m\"\u001b[39;49m\u001b[39mvalue\u001b[39;49m\u001b[39m\"\u001b[39;49m: value})[\u001b[39m\"\u001b[39m\u001b[39mvalue\u001b[39m\u001b[39m\"\u001b[39m]\n",
      "File \u001b[1;32m~\\AppData\\Roaming\\Python\\Python310\\site-packages\\selenium\\webdriver\\remote\\webdriver.py:444\u001b[0m, in \u001b[0;36mWebDriver.execute\u001b[1;34m(self, driver_command, params)\u001b[0m\n\u001b[0;32m    442\u001b[0m response \u001b[39m=\u001b[39m \u001b[39mself\u001b[39m\u001b[39m.\u001b[39mcommand_executor\u001b[39m.\u001b[39mexecute(driver_command, params)\n\u001b[0;32m    443\u001b[0m \u001b[39mif\u001b[39;00m response:\n\u001b[1;32m--> 444\u001b[0m     \u001b[39mself\u001b[39;49m\u001b[39m.\u001b[39;49merror_handler\u001b[39m.\u001b[39;49mcheck_response(response)\n\u001b[0;32m    445\u001b[0m     response[\u001b[39m\"\u001b[39m\u001b[39mvalue\u001b[39m\u001b[39m\"\u001b[39m] \u001b[39m=\u001b[39m \u001b[39mself\u001b[39m\u001b[39m.\u001b[39m_unwrap_value(response\u001b[39m.\u001b[39mget(\u001b[39m\"\u001b[39m\u001b[39mvalue\u001b[39m\u001b[39m\"\u001b[39m, \u001b[39mNone\u001b[39;00m))\n\u001b[0;32m    446\u001b[0m     \u001b[39mreturn\u001b[39;00m response\n",
      "File \u001b[1;32m~\\AppData\\Roaming\\Python\\Python310\\site-packages\\selenium\\webdriver\\remote\\errorhandler.py:249\u001b[0m, in \u001b[0;36mErrorHandler.check_response\u001b[1;34m(self, response)\u001b[0m\n\u001b[0;32m    247\u001b[0m         alert_text \u001b[39m=\u001b[39m value[\u001b[39m\"\u001b[39m\u001b[39malert\u001b[39m\u001b[39m\"\u001b[39m]\u001b[39m.\u001b[39mget(\u001b[39m\"\u001b[39m\u001b[39mtext\u001b[39m\u001b[39m\"\u001b[39m)\n\u001b[0;32m    248\u001b[0m     \u001b[39mraise\u001b[39;00m exception_class(message, screen, stacktrace, alert_text)  \u001b[39m# type: ignore[call-arg]  # mypy is not smart enough here\u001b[39;00m\n\u001b[1;32m--> 249\u001b[0m \u001b[39mraise\u001b[39;00m exception_class(message, screen, stacktrace)\n",
      "\u001b[1;31mNoSuchElementException\u001b[0m: Message: no such element: Unable to locate element: {\"method\":\"xpath\",\"selector\":\"//*[@id=\"codezen-content\"]/codezen-dashboard/div/div[2]/div/codezen-dashboard-practice/main/codezen-dashboard-practice-item[3]/a/div/div[2]\"}\n  (Session info: chrome=107.0.5304.108)\nStacktrace:\nBacktrace:\n\tOrdinal0 [0x0108ACD3+2075859]\n\tOrdinal0 [0x0101EE61+1633889]\n\tOrdinal0 [0x00F1B7BD+571325]\n\tOrdinal0 [0x00F4AC2F+764975]\n\tOrdinal0 [0x00F4AE1B+765467]\n\tOrdinal0 [0x00F7D0F2+970994]\n\tOrdinal0 [0x00F67364+881508]\n\tOrdinal0 [0x00F7B56A+963946]\n\tOrdinal0 [0x00F67136+880950]\n\tOrdinal0 [0x00F3FEFD+720637]\n\tOrdinal0 [0x00F40F3F+724799]\n\tGetHandleVerifier [0x0133EED2+2769538]\n\tGetHandleVerifier [0x01330D95+2711877]\n\tGetHandleVerifier [0x0111A03A+521194]\n\tGetHandleVerifier [0x01118DA0+516432]\n\tOrdinal0 [0x0102682C+1665068]\n\tOrdinal0 [0x0102B128+1683752]\n\tOrdinal0 [0x0102B215+1683989]\n\tOrdinal0 [0x01036484+1729668]\n\tBaseThreadInitThunk [0x76BCFEF9+25]\n\tRtlGetAppContainerNamedObjectPath [0x77037BBE+286]\n\tRtlGetAppContainerNamedObjectPath [0x77037B8E+238]\n"
     ]
    }
   ],
   "source": [
    "from selenium import webdriver\n",
    "import time\n",
    "driver = webdriver.Chrome(executable_path = 'C:/Users/admin/Downloads/Chromedriver/chromedriver.exe')\n",
    "driver.get('https://codezen.codingninjas.com/dashboard')\n",
    "xp = '//*[@id=\"codezen-content\"]/codezen-dashboard/div/div[2]/div/codezen-dashboard-practice/main/codezen-dashboard-practice-item[3]/a/div/div[2]'\n",
    "driver.find_element(By.XPATH, xp).click()\n",
    "#driver.close()"
   ]
  },
  {
   "cell_type": "code",
   "execution_count": null,
   "metadata": {},
   "outputs": [],
   "source": []
  }
 ],
 "metadata": {
  "kernelspec": {
   "display_name": "Python 3.10.5 64-bit",
   "language": "python",
   "name": "python3"
  },
  "language_info": {
   "codemirror_mode": {
    "name": "ipython",
    "version": 3
   },
   "file_extension": ".py",
   "mimetype": "text/x-python",
   "name": "python",
   "nbconvert_exporter": "python",
   "pygments_lexer": "ipython3",
   "version": "3.10.5"
  },
  "orig_nbformat": 4,
  "vscode": {
   "interpreter": {
    "hash": "26de051ba29f2982a8de78e945f0abaf191376122a1563185a90213a26c5da77"
   }
  }
 },
 "nbformat": 4,
 "nbformat_minor": 2
}
