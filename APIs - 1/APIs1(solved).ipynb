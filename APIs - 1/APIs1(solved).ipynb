{
 "cells": [
  {
   "cell_type": "markdown",
   "id": "df18eef8",
   "metadata": {},
   "source": [
    "# Content - type"
   ]
  },
  {
   "cell_type": "code",
   "execution_count": 21,
   "id": "a6f707d9",
   "metadata": {},
   "outputs": [
    {
     "data": {
      "text/plain": [
       "'application/json'"
      ]
     },
     "execution_count": 21,
     "metadata": {},
     "output_type": "execute_result"
    }
   ],
   "source": [
    "#http://api.open-notify.org/iss-pass.\n",
    "import requests\n",
    "response = requests.get('https://codingninjas.in/api/v3/events')\n",
    "response.headers['content-type']"
   ]
  },
  {
   "cell_type": "markdown",
   "id": "d9d4758d",
   "metadata": {},
   "source": [
    "# Hound sub-breeds"
   ]
  },
  {
   "cell_type": "code",
   "execution_count": null,
   "id": "bb3ff01a",
   "metadata": {},
   "outputs": [],
   "source": []
  },
  {
   "cell_type": "code",
   "execution_count": null,
   "id": "a26a630f",
   "metadata": {},
   "outputs": [],
   "source": []
  },
  {
   "cell_type": "code",
   "execution_count": null,
   "id": "7d4e9da2",
   "metadata": {},
   "outputs": [],
   "source": []
  },
  {
   "cell_type": "code",
   "execution_count": null,
   "id": "5d00bad1",
   "metadata": {},
   "outputs": [],
   "source": []
  },
  {
   "cell_type": "code",
   "execution_count": null,
   "id": "ee3977ec",
   "metadata": {},
   "outputs": [],
   "source": []
  },
  {
   "cell_type": "markdown",
   "id": "542c7928",
   "metadata": {},
   "source": []
  }
 ],
 "metadata": {
  "kernelspec": {
   "display_name": "Python 3.10.5 64-bit",
   "language": "python",
   "name": "python3"
  },
  "language_info": {
   "codemirror_mode": {
    "name": "ipython",
    "version": 3
   },
   "file_extension": ".py",
   "mimetype": "text/x-python",
   "name": "python",
   "nbconvert_exporter": "python",
   "pygments_lexer": "ipython3",
   "version": "3.10.5"
  },
  "vscode": {
   "interpreter": {
    "hash": "26de051ba29f2982a8de78e945f0abaf191376122a1563185a90213a26c5da77"
   }
  }
 },
 "nbformat": 4,
 "nbformat_minor": 5
}
