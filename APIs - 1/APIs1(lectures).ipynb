{
 "cells": [
  {
   "cell_type": "code",
   "execution_count": 1,
   "metadata": {},
   "outputs": [
    {
     "data": {
      "text/plain": [
       "'application/json'"
      ]
     },
     "execution_count": 1,
     "metadata": {},
     "output_type": "execute_result"
    }
   ],
   "source": [
    "#http://api.open-notify.org/iss-pass.\n",
    "import requests\n",
    "response = requests.get('https://codingninjas.in/api/v3/courses')\n",
    "response.headers['content-type']"
   ]
  },
  {
   "cell_type": "code",
   "execution_count": 2,
   "metadata": {},
   "outputs": [
    {
     "name": "stdout",
     "output_type": "stream",
     "text": [
      "C++ & Data Structures\n",
      "Premium Android Course\n",
      "Data structures and Algorithms [C++/Java/Python]\n",
      "Premium Machine Learning Course\n",
      "Premium Data Science Course\n",
      "Front End (React)\n",
      "Competitive Programmer\n",
      "Premium Competitive Course\n",
      "Premium Web Dev Course\n",
      "System Design Course\n",
      "Machine Learning\n",
      "Java & Data Structures\n",
      "Web Dev (Full Stack)\n",
      "Android Developer\n",
      "Interview Preparation\n",
      "Python & Web Dev (MERN)\n",
      "Grokking the Operating Systems Interview\n",
      "Data Science\n",
      "C++ & Web Dev (Node.js)\n",
      "Competitive Programming\n",
      "Android (Kotlin)\n",
      "Data Scientist\n",
      "Python & Data Structures\n",
      "Aptitude Preparation\n",
      "Machine Learning\n",
      "25\n"
     ]
    }
   ],
   "source": [
    "import json\n",
    "from turtle import title\n",
    "python_data = json.loads(response.text)\n",
    "# print(type(python_data))\n",
    "all_courses=python_data['data']['courses']\n",
    "# print(all_courses)\n",
    "\n",
    "for i in all_courses:\n",
    "    print(i['title'])\n",
    "print(len(all_courses))\n"
   ]
  },
  {
   "cell_type": "markdown",
   "metadata": {},
   "source": [
    "# DOG API"
   ]
  },
  {
   "cell_type": "code",
   "execution_count": 23,
   "metadata": {},
   "outputs": [
    {
     "name": "stdout",
     "output_type": "stream",
     "text": [
      "<class 'dict'>\n",
      "blenheim\n",
      "brittany\n",
      "cocker\n",
      "irish\n",
      "japanese\n",
      "sussex\n",
      "welsh\n"
     ]
    }
   ],
   "source": [
    "p = requests.get('https://dog.ceo/api/breeds/list/all')\n",
    "# print(p.text)\n",
    "python_p = p.json()\n",
    "print(type(python_p))\n",
    "\n",
    "# for key, val in python_p['message'].items():\n",
    "    # print(key, \" : \", len(val))\n",
    "\n",
    "for i in python_p['message']['spaniel']:\n",
    "    print(i)"
   ]
  },
  {
   "cell_type": "markdown",
   "metadata": {},
   "source": []
  }
 ],
 "metadata": {
  "kernelspec": {
   "display_name": "Python 3.10.5 64-bit",
   "language": "python",
   "name": "python3"
  },
  "language_info": {
   "codemirror_mode": {
    "name": "ipython",
    "version": 3
   },
   "file_extension": ".py",
   "mimetype": "text/x-python",
   "name": "python",
   "nbconvert_exporter": "python",
   "pygments_lexer": "ipython3",
   "version": "3.10.5"
  },
  "orig_nbformat": 4,
  "vscode": {
   "interpreter": {
    "hash": "26de051ba29f2982a8de78e945f0abaf191376122a1563185a90213a26c5da77"
   }
  }
 },
 "nbformat": 4,
 "nbformat_minor": 2
}
