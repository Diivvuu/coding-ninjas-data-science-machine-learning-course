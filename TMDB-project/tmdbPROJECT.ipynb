{
 "cells": [
  {
   "cell_type": "markdown",
   "metadata": {},
   "source": [
    "# TMDB 1.1\n",
    "Find the 'id' of the movie \"Andhadhun\" using TMDb API.\n",
    "\n",
    "\n",
    "Output Format:\n",
    "\n",
    "Print the id of the movie."
   ]
  },
  {
   "cell_type": "code",
   "execution_count": 2,
   "metadata": {},
   "outputs": [],
   "source": [
    "import requests"
   ]
  },
  {
   "cell_type": "code",
   "execution_count": 3,
   "metadata": {},
   "outputs": [],
   "source": [
    "api_key = 'bc90f5a334afce9ecea0b9b60f813e6f'"
   ]
  },
  {
   "cell_type": "code",
   "execution_count": 4,
   "metadata": {},
   "outputs": [
    {
     "name": "stdout",
     "output_type": "stream",
     "text": [
      "534780\n"
     ]
    },
    {
     "data": {
      "text/plain": [
       "'https://api.themoviedb.org/3/search/movie?api_key=bc90f5a334afce9ecea0b9b60f813e6f&query=Andhadhun'"
      ]
     },
     "execution_count": 4,
     "metadata": {},
     "output_type": "execute_result"
    }
   ],
   "source": [
    "res = requests.get('https://api.themoviedb.org/3/search/movie', params = {'api_key' : 'bc90f5a334afce9ecea0b9b60f813e6f', 'query' : 'Andhadhun'})\n",
    "r = res.json()\n",
    "print(r['results'][0]['id'])\n",
    "res.url"
   ]
  },
  {
   "cell_type": "markdown",
   "metadata": {},
   "source": [
    "# TMDB 1.2\n",
    "Fetch the company id company 'Marvel Studios' using TMDb. \n",
    "\n",
    "Print the id."
   ]
  },
  {
   "cell_type": "code",
   "execution_count": 5,
   "metadata": {},
   "outputs": [
    {
     "name": "stdout",
     "output_type": "stream",
     "text": [
      "420\n"
     ]
    }
   ],
   "source": [
    "res = requests.get('https://api.themoviedb.org/3/search/company', params = {'api_key' : 'bc90f5a334afce9ecea0b9b60f813e6f', 'query' : 'Marvel Studios'})\n",
    "r = res.json()\n",
    "print(r['results'][0]['id'])"
   ]
  },
  {
   "cell_type": "markdown",
   "metadata": {},
   "source": [
    "# TMDB 1.3\n",
    "Find the vote count and vote average of the movie \"3 Idiots\" using the TMDb API\n",
    "\n",
    "Output format: Vote Count , Vote Average"
   ]
  },
  {
   "cell_type": "code",
   "execution_count": 6,
   "metadata": {},
   "outputs": [
    {
     "name": "stdout",
     "output_type": "stream",
     "text": [
      "1939 8\n"
     ]
    }
   ],
   "source": [
    "res = requests.get('https://api.themoviedb.org/3/search/movie', params = {'api_key' : 'bc90f5a334afce9ecea0b9b60f813e6f', 'query' : '3 Idiots'})\n",
    "r = res.json()\n",
    "print(r['results'][0]['vote_count'], r['results'][0]['vote_average'])"
   ]
  },
  {
   "cell_type": "markdown",
   "metadata": {},
   "source": [
    "# TMDB 1.4\n",
    "\n",
    "Fetch the names of top 5 similar movies to 'Inception' from the TMDb API.\n",
    "\n",
    "Output Format:\n",
    "\n",
    "Print the name of the movies in a new line.\n",
    "\n",
    "movie_name_1\n",
    "\n",
    "movie_name_2\n",
    "\n",
    "and so on"
   ]
  },
  {
   "cell_type": "code",
   "execution_count": 7,
   "metadata": {},
   "outputs": [
    {
     "name": "stdout",
     "output_type": "stream",
     "text": [
      "27205\n",
      "846190\n"
     ]
    }
   ],
   "source": [
    "res = requests.get('https://api.themoviedb.org/3/search/movie',params={'api_key':api_key,'query':'Inception'}) \n",
    "data=res.json()\n",
    "for i in data['results']:\n",
    "    if i['title']=='Inception':\n",
    "        print(i['id'])\n",
    "        "
   ]
  },
  {
   "cell_type": "code",
   "execution_count": 8,
   "metadata": {},
   "outputs": [
    {
     "name": "stdout",
     "output_type": "stream",
     "text": [
      "Inception\n",
      "Horseplay\n",
      "Adanis: Kutsal Kavga\n",
      "Savages: The Wolf's Tale\n",
      "Promise of a Wild Love\n"
     ]
    }
   ],
   "source": [
    "res1= requests.get('https://api.themoviedb.org/3/movie/846190/similar',params={'api_key':api_key}) \n",
    "data1=res1.json()\n",
    "\n",
    "for i in data1['results'][:5]:\n",
    "    print(i['title'])\n",
    "\n"
   ]
  },
  {
   "cell_type": "markdown",
   "metadata": {},
   "source": [
    "# TMDB 1.5\n",
    "\n",
    "Fetch the top rated english movies in the US region using the TMDb API. From the result, print the first 10 movies which have original language as english. Also \n",
    "\n",
    "print their genres.\n",
    "\n",
    "Note: Do not use the search/movies API for finding genres.\n",
    "\n",
    "Output Format:\n",
    "\n",
    "movie_name_1 - genre_1, genre_2 ....\n",
    "\n",
    "and so on.."
   ]
  },
  {
   "cell_type": "code",
   "execution_count": 9,
   "metadata": {},
   "outputs": [
    {
     "data": {
      "text/plain": [
       "{28: 'Action',\n",
       " 12: 'Adventure',\n",
       " 16: 'Animation',\n",
       " 35: 'Comedy',\n",
       " 80: 'Crime',\n",
       " 99: 'Documentary',\n",
       " 18: 'Drama',\n",
       " 10751: 'Family',\n",
       " 14: 'Fantasy',\n",
       " 36: 'History',\n",
       " 27: 'Horror',\n",
       " 10402: 'Music',\n",
       " 9648: 'Mystery',\n",
       " 10749: 'Romance',\n",
       " 878: 'Science Fiction',\n",
       " 10770: 'TV Movie',\n",
       " 53: 'Thriller',\n",
       " 10752: 'War',\n",
       " 37: 'Western'}"
      ]
     },
     "execution_count": 9,
     "metadata": {},
     "output_type": "execute_result"
    }
   ],
   "source": [
    "res = requests.get('https://api.themoviedb.org/3/genre/movie/list', params={'api_key':api_key})\n",
    "data = res.json()\n",
    "genres = {}\n",
    "for i in data['genres']:\n",
    "    genres[i['id']] = i['name']\n",
    "genres"
   ]
  },
  {
   "cell_type": "code",
   "execution_count": 10,
   "metadata": {},
   "outputs": [
    {
     "name": "stdout",
     "output_type": "stream",
     "text": [
      "The Godfather - Drama, Crime, \n",
      "The Shawshank Redemption - Drama, Crime, \n",
      "The Godfather Part II - Drama, Crime, \n",
      "Schindler's List - Drama, History, War, \n",
      "12 Angry Men - Drama, \n",
      "The Green Mile - Fantasy, Drama, Crime, \n",
      "Gabriel's Inferno: Part II - Romance, \n",
      "The Dark Knight - Drama, Action, Crime, Thriller, \n",
      "Gabriel's Inferno - Romance, \n",
      "Pulp Fiction - Thriller, Crime, \n"
     ]
    }
   ],
   "source": [
    "res = requests.get('https://api.themoviedb.org/3/movie/top_rated',params={'api_key':api_key, 'region' : 'US'}) \n",
    "data=res.json()\n",
    "count = 0\n",
    "for i in data['results']:\n",
    "    if(i['original_language'] == 'en'):\n",
    "        print(i['title'], end = \" - \")\n",
    "        for j in i['genre_ids']:\n",
    "            print(genres[j], end = \", \")\n",
    "        print()\n",
    "        count+=1\n",
    "    if(count == 10):\n",
    "        break"
   ]
  },
  {
   "cell_type": "markdown",
   "metadata": {},
   "source": [
    "# TMDB 2.1\n",
    "\n",
    "Find the name and birthplace of the present most popular person according to TMDb API.\n",
    "\n",
    "Output Format:\n",
    "\n",
    "id\n",
    "\n",
    "name - birthplace\n"
   ]
  },
  {
   "cell_type": "code",
   "execution_count": 11,
   "metadata": {},
   "outputs": [],
   "source": [
    "import requests"
   ]
  },
  {
   "cell_type": "code",
   "execution_count": 12,
   "metadata": {},
   "outputs": [
    {
     "data": {
      "text/plain": [
       "3194176"
      ]
     },
     "execution_count": 12,
     "metadata": {},
     "output_type": "execute_result"
    }
   ],
   "source": [
    "res = requests.get('https://api.themoviedb.org/3/person/popular',params={'api_key':api_key}) \n",
    "data=res.json()\n",
    "data=data['results'][0]\n",
    "MostPopularId=data['id']\n",
    "MostPopularId"
   ]
  },
  {
   "cell_type": "code",
   "execution_count": 13,
   "metadata": {},
   "outputs": [
    {
     "name": "stdout",
     "output_type": "stream",
     "text": [
      "Angeli Khang - Mandaluyong City, Philippines\n"
     ]
    }
   ],
   "source": [
    "res = requests.get('https://api.themoviedb.org/3/person/3194176',params={'api_key':api_key}) \n",
    "data=res.json()\n",
    "print(data['name'],'-',data['place_of_birth'])"
   ]
  },
  {
   "cell_type": "markdown",
   "metadata": {},
   "source": [
    "# TMDB 2.2\n",
    "\n",
    "Fetch the Instagram and Twitter handle of Indian Actress \"Alia Bhatt\" from the TMDb API.\n",
    "\n",
    "Output Format\n",
    "\n",
    "Print the Instagram and Twitter IDs space separated.\n",
    "\n",
    "instagram_id twitter_id\n"
   ]
  },
  {
   "cell_type": "code",
   "execution_count": 14,
   "metadata": {},
   "outputs": [
    {
     "data": {
      "text/plain": [
       "1108120"
      ]
     },
     "execution_count": 14,
     "metadata": {},
     "output_type": "execute_result"
    }
   ],
   "source": [
    "res = requests.get('https://api.themoviedb.org/3/search/person',params={'api_key':api_key, 'query' : 'Alia Bhatt'}) \n",
    "data=res.json()\n",
    "data['results'][0]['id']"
   ]
  },
  {
   "cell_type": "code",
   "execution_count": 15,
   "metadata": {},
   "outputs": [
    {
     "name": "stdout",
     "output_type": "stream",
     "text": [
      "aliaabhatt Aliaa08\n"
     ]
    }
   ],
   "source": [
    "res1 = requests.get('https://api.themoviedb.org/3/person/1108120/external_ids', params={'api_key':api_key})\n",
    "data1 = res1.json()\n",
    "print(data1['instagram_id'], data1['twitter_id'])"
   ]
  },
  {
   "cell_type": "markdown",
   "metadata": {},
   "source": [
    "# TMDB 2.3\n",
    "\n",
    "Fetch the names of the character played by Tom Cruise in the movies:\n",
    "\n",
    "Top Gun\n",
    "\n",
    "Mission: Impossible - Fallout\n",
    "\n",
    "Minority Report\n",
    "\n",
    "Edge of Tomorrow\n",
    "\n",
    "Output Format:\n",
    "\n",
    "Print the names of the characters played by Tom Cruise line separated, in the respective order given in question."
   ]
  },
  {
   "cell_type": "code",
   "execution_count": 16,
   "metadata": {},
   "outputs": [
    {
     "data": {
      "text/plain": [
       "500"
      ]
     },
     "execution_count": 16,
     "metadata": {},
     "output_type": "execute_result"
    }
   ],
   "source": [
    "res = requests.get('https://api.themoviedb.org/3/search/person', params = {'api_key' : api_key, 'query' : 'Tom Cruise'})\n",
    "data = res.json()\n",
    "data['results'][0]['id']"
   ]
  },
  {
   "cell_type": "code",
   "execution_count": 17,
   "metadata": {},
   "outputs": [
    {
     "name": "stdout",
     "output_type": "stream",
     "text": [
      "Lt. Pete 'Maverick' Mitchell\n",
      "Ethan Hunt\n",
      "Chief John Anderton\n",
      "Maj. William 'Bill' Cage\n"
     ]
    }
   ],
   "source": [
    "res1 = requests.get('https://api.themoviedb.org/3/person/500/movie_credits', params = {'api_key' : api_key})\n",
    "data1 = res1.json()\n",
    "for i in data1['cast']:\n",
    "    if i['title'] == 'Top Gun' : \n",
    "        print(i['character'])\n",
    "        break\n",
    "for i in data1['cast']:\n",
    "    if i['title'] == 'Mission: Impossible - Fallout' : \n",
    "        print(i['character'])\n",
    "        break\n",
    "for i in data1['cast']:\n",
    "    if i['title'] == 'Minority Report' : \n",
    "        print(i['character'])\n",
    "        break\n",
    "for i in data1['cast']:\n",
    "    if i['title'] == 'Edge of Tomorrow' : \n",
    "        print(i['character'])\n",
    "        break"
   ]
  },
  {
   "cell_type": "markdown",
   "metadata": {},
   "source": [
    "# TMDB 2.4\n",
    "Did James McAvoy play a role in the movie Deadpool 2. Print Yes or No."
   ]
  },
  {
   "cell_type": "code",
   "execution_count": 21,
   "metadata": {},
   "outputs": [
    {
     "data": {
      "text/plain": [
       "383498"
      ]
     },
     "execution_count": 21,
     "metadata": {},
     "output_type": "execute_result"
    }
   ],
   "source": [
    "res = requests.get('https://api.themoviedb.org/3/search/movie', params = {'api_key' : api_key, 'query' : 'Deadpool 2'})\n",
    "data = res.json()\n",
    "data['results'][0]['id']"
   ]
  },
  {
   "cell_type": "code",
   "execution_count": 32,
   "metadata": {},
   "outputs": [
    {
     "name": "stdout",
     "output_type": "stream",
     "text": [
      "True\n"
     ]
    }
   ],
   "source": [
    "res1 = requests.get('https://api.themoviedb.org/3/movie/383498/credits', params = {'api_key' : api_key})\n",
    "data1 = res1.json()\n",
    "for i in data1['cast'] : \n",
    "    if i['name'] == 'James McAvoy' :\n",
    "        print(\"True\")"
   ]
  },
  {
   "cell_type": "markdown",
   "metadata": {},
   "source": [
    "# TMDB 2.5\n",
    "\n",
    "Using the result obtained in previous question, find out if James McAvoy was credited for his role in movie Deadpool 2. Print Yes or No."
   ]
  },
  {
   "cell_type": "code",
   "execution_count": 34,
   "metadata": {},
   "outputs": [
    {
     "data": {
      "text/plain": [
       "5530"
      ]
     },
     "execution_count": 34,
     "metadata": {},
     "output_type": "execute_result"
    }
   ],
   "source": [
    "res = requests.get('https://api.themoviedb.org/3/search/person', params={'api_key' : api_key, 'query' : 'James McAvoy'})\n",
    "data = res.json()\n",
    "data['results'][0]['id']"
   ]
  },
  {
   "cell_type": "code",
   "execution_count": 42,
   "metadata": {},
   "outputs": [
    {
     "name": "stdout",
     "output_type": "stream",
     "text": [
      "No\n"
     ]
    }
   ],
   "source": [
    "res1 = requests.get('https://api.themoviedb.org/3/person/5530/movie_credits', params={'api_key' : api_key})\n",
    "data1 = res1.json()\n",
    "for i in data1['cast']:\n",
    "    if i['original_title'] == 'Deadpool 2':\n",
    "        a = i['character']\n",
    "\n",
    "if 'uncredited' in a :\n",
    "    print('No') \n",
    "else:\n",
    "    print('Yes')"
   ]
  },
  {
   "cell_type": "markdown",
   "metadata": {},
   "source": [
    "# TMDB 3.1\n",
    "\n",
    "Fetch the overview of the TV Show \"FRIENDS\" using TMDb API.\n",
    "\n",
    "Output Format:\n",
    "\n",
    "Print the Overview."
   ]
  },
  {
   "cell_type": "code",
   "execution_count": 44,
   "metadata": {},
   "outputs": [
    {
     "data": {
      "text/plain": [
       "1668"
      ]
     },
     "execution_count": 44,
     "metadata": {},
     "output_type": "execute_result"
    }
   ],
   "source": [
    "res = requests.get('https://api.themoviedb.org/3/search/tv', params={'api_key' : api_key, 'query' : 'FRIENDS'})\n",
    "data = res.json()\n",
    "data['results'][0]['id']"
   ]
  },
  {
   "cell_type": "code",
   "execution_count": 46,
   "metadata": {},
   "outputs": [
    {
     "name": "stdout",
     "output_type": "stream",
     "text": [
      "Six young people from New York City, on their own and struggling to survive in the real world, find the companionship, comfort and support they get from each other to be the perfect antidote to the pressures of life.\n"
     ]
    }
   ],
   "source": [
    "res1 = requests.get('https://api.themoviedb.org/3/tv/1668', params = {'api_key' : api_key})\n",
    "data1 = res1.json()\n",
    "print(data1['overview'])"
   ]
  },
  {
   "cell_type": "markdown",
   "metadata": {},
   "source": [
    "# TMDB 3.2\n",
    "\n",
    "Fetch the name and air date of S06E05 of the TV Show 'The Big Bang Theory' from TMDb API.\n",
    "\n",
    "Output Format:\n",
    "\n",
    "episode_name - air_date"
   ]
  },
  {
   "cell_type": "code",
   "execution_count": null,
   "metadata": {},
   "outputs": [],
   "source": []
  },
  {
   "cell_type": "code",
   "execution_count": null,
   "metadata": {},
   "outputs": [],
   "source": []
  },
  {
   "cell_type": "code",
   "execution_count": null,
   "metadata": {},
   "outputs": [],
   "source": []
  },
  {
   "cell_type": "code",
   "execution_count": null,
   "metadata": {},
   "outputs": [],
   "source": []
  },
  {
   "cell_type": "code",
   "execution_count": null,
   "metadata": {},
   "outputs": [],
   "source": []
  },
  {
   "cell_type": "code",
   "execution_count": null,
   "metadata": {},
   "outputs": [],
   "source": []
  },
  {
   "cell_type": "markdown",
   "metadata": {},
   "source": [
    "res1 = requests.get()"
   ]
  }
 ],
 "metadata": {
  "kernelspec": {
   "display_name": "Python 3.10.5 64-bit",
   "language": "python",
   "name": "python3"
  },
  "language_info": {
   "codemirror_mode": {
    "name": "ipython",
    "version": 3
   },
   "file_extension": ".py",
   "mimetype": "text/x-python",
   "name": "python",
   "nbconvert_exporter": "python",
   "pygments_lexer": "ipython3",
   "version": "3.10.5"
  },
  "orig_nbformat": 4,
  "vscode": {
   "interpreter": {
    "hash": "26de051ba29f2982a8de78e945f0abaf191376122a1563185a90213a26c5da77"
   }
  }
 },
 "nbformat": 4,
 "nbformat_minor": 2
}
