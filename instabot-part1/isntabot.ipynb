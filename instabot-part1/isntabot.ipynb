{
 "cells": [
  {
   "attachments": {},
   "cell_type": "markdown",
   "metadata": {},
   "source": [
    "#  Importing Libraries"
   ]
  },
  {
   "cell_type": "code",
   "execution_count": 166,
   "metadata": {},
   "outputs": [],
   "source": [
    "import time\n",
    "from selenium import webdriver\n",
    "from webdriver_manager.chrome import ChromeDriverManager\n",
    "from bs4 import BeautifulSoup\n",
    "from selenium.webdriver.common.by import By\n",
    "from selenium.webdriver.support.ui import WebDriverWait\n",
    "from selenium.webdriver.support import expected_conditions as EC\n",
    "from selenium.webdriver.chrome.service import Service"
   ]
  },
  {
   "cell_type": "code",
   "execution_count": 167,
   "metadata": {},
   "outputs": [
    {
     "name": "stderr",
     "output_type": "stream",
     "text": [
      "C:\\Users\\WELCOME\\AppData\\Local\\Temp\\ipykernel_36652\\365059496.py:1: DeprecationWarning: executable_path has been deprecated, please pass in a Service object\n",
      "  driver=webdriver.Chrome(ChromeDriverManager().install())\n"
     ]
    }
   ],
   "source": [
    "driver=webdriver.Chrome(ChromeDriverManager().install())"
   ]
  },
  {
   "attachments": {},
   "cell_type": "markdown",
   "metadata": {},
   "source": [
    "## Login to your Instagram Handle\n",
    "#### Submit with sample username and password"
   ]
  },
  {
   "cell_type": "code",
   "execution_count": 168,
   "metadata": {},
   "outputs": [],
   "source": [
    "driver.get('https://www.instagram.com/')\n",
    "driver.maximize_window()\n",
    "driver.implicitly_wait(5)\n",
    "# waiter=WebDriverWait(driver, 10).until(EC.presence_of_element_located((By.LINK_TEXT, \"Log in\")))"
   ]
  },
  {
   "attachments": {},
   "cell_type": "markdown",
   "metadata": {},
   "source": [
    "#### Logging in instagram"
   ]
  },
  {
   "cell_type": "code",
   "execution_count": 169,
   "metadata": {},
   "outputs": [],
   "source": [
    "SAMPLE_USERNAME = 'testAccountselenium' #testAccountselenium\n",
    "SAMPLE_PASSWORD = 'selenium123' #selenium123\n",
    "username = driver.find_element(By.NAME, 'username')\n",
    "username.send_keys(SAMPLE_USERNAME)\n",
    "password = driver.find_element(By.NAME, 'password')\n",
    "password.send_keys(SAMPLE_PASSWORD)\n",
    "driver.implicitly_wait(5)"
   ]
  },
  {
   "cell_type": "code",
   "execution_count": 170,
   "metadata": {},
   "outputs": [
    {
     "data": {
      "text/plain": [
       "<selenium.webdriver.remote.webelement.WebElement (session=\"5acca0b44862e5daf776f90cb18e3059\", element=\"08da4ecb-ef3a-4fe5-a8d4-411fd7ea9aed\")>"
      ]
     },
     "execution_count": 170,
     "metadata": {},
     "output_type": "execute_result"
    }
   ],
   "source": [
    "login_btn = driver.find_element(By.XPATH, '//button[contains(@class, \"_acap\")]/div')\n",
    "login_btn.click()\n",
    "\n",
    "WebDriverWait(driver, 5).until(EC.presence_of_element_located((By.CLASS_NAME, '_ac8f')))"
   ]
  },
  {
   "attachments": {},
   "cell_type": "markdown",
   "metadata": {},
   "source": [
    "##### Clicking on save info button(for saving username and password)"
   ]
  },
  {
   "cell_type": "code",
   "execution_count": 171,
   "metadata": {},
   "outputs": [
    {
     "data": {
      "text/plain": [
       "<selenium.webdriver.remote.webelement.WebElement (session=\"5acca0b44862e5daf776f90cb18e3059\", element=\"6a143e11-0171-434d-838a-7e0e3938d6af\")>"
      ]
     },
     "execution_count": 171,
     "metadata": {},
     "output_type": "execute_result"
    }
   ],
   "source": [
    "save_info = driver.find_element(By.CLASS_NAME, \"_ac8f\")\n",
    "save_info.click()\n",
    "WebDriverWait(driver, 5).until(EC.presence_of_element_located((By.CLASS_NAME, '_a9-z')))"
   ]
  },
  {
   "attachments": {},
   "cell_type": "markdown",
   "metadata": {},
   "source": [
    "#### CLicking on turn on notifications"
   ]
  },
  {
   "cell_type": "code",
   "execution_count": 172,
   "metadata": {},
   "outputs": [],
   "source": [
    "notif=driver.find_element(By.CLASS_NAME, '_a9-z').click()"
   ]
  },
  {
   "attachments": {},
   "cell_type": "markdown",
   "metadata": {},
   "source": [
    "#### Type for “food” in search bar and print all the names of the Instagram Handles that are displayed in list after typing “food”\n",
    "##### Note : Make sure to avoid printing hashtags"
   ]
  },
  {
   "cell_type": "code",
   "execution_count": 173,
   "metadata": {},
   "outputs": [],
   "source": [
    "search_box = driver.find_element(By.XPATH, '//div[starts-with(@class, \"xh8yej3 x1iyjqo2\")]/div[2]')\n",
    "search_box.click()\n",
    "wait = WebDriverWait(driver, 10).until(EC.presence_of_element_located((By.CLASS_NAME, '_aauy')))"
   ]
  },
  {
   "cell_type": "code",
   "execution_count": 174,
   "metadata": {},
   "outputs": [],
   "source": [
    "search_text = driver.find_element(By.CLASS_NAME, '_aauy')\n",
    "search_text.send_keys('food')\n",
    "# food_list = driver.find_elements(By.XPATH, '//div[starts-with(@class, \"_aac1\")]/div/div')\n",
    "food_list = driver.find_elements(By.XPATH, '//div[starts-with(@class, \"_abm4\")]/a/div/div[2]/div/div/div/div')"
   ]
  },
  {
   "cell_type": "code",
   "execution_count": 175,
   "metadata": {},
   "outputs": [
    {
     "name": "stdout",
     "output_type": "stream",
     "text": [
      "lucknowfoodblogger\n",
      "food__diaries____\n",
      "foodie_incarnate\n",
      "\n",
      "dilsefoodie\n",
      "\n",
      "delhi_streets_food\n",
      "ghar.kaa.khana\n",
      "food\n",
      "foodgasm_prayagraj\n",
      "foodrooaster\n",
      "foodieburst\n",
      "foodgotwings\n",
      "\n",
      "\n",
      "foodiecouple_us\n",
      "food_lust_prayagi_\n",
      "foodforfoodies6\n",
      "foodies_aao\n",
      "foodyypreneur\n",
      "_food_grill\n",
      "foodistan_ald\n",
      "liveforfood007\n",
      "foodie_moodie26\n",
      "_food_wave_\n",
      "_food_paradisee_\n",
      "allahabadifood\n",
      "foodtussigreatho\n",
      "foodbyswag\n",
      "streetfood_0fficial\n",
      "foodfactory_27\n",
      "food__wonders\n",
      "foodbombo\n",
      "lucknow_food_lover\n",
      "foodie_para_dise\n",
      "foodlover_lyf\n",
      "delhi_food_shaukeen\n",
      "foodyvishal\n",
      "chai_ke_aashik\n",
      "food_station_of_meerut\n",
      "lucknow_foodie\n",
      "food._.pride\n",
      "foodholic.lucknow\n",
      "foodiependuz\n",
      "foodtales08\n",
      "foodcourtinstaa\n",
      "foodwalkwithguri\n",
      "food_forest_\n",
      "lucknowi.safarkhana\n",
      "food_flavours94\n",
      "foodiegoodie___\n",
      "oye.foodieee\n",
      "hungrytrip90\n"
     ]
    }
   ],
   "source": [
    "for i in food_list:\n",
    "    print(i.text)"
   ]
  },
  {
   "cell_type": "markdown",
   "metadata": {},
   "source": [
    "#### Clearing search bar"
   ]
  },
  {
   "cell_type": "code",
   "execution_count": 176,
   "metadata": {},
   "outputs": [],
   "source": [
    "# search_text.clear()\n",
    "cross = driver.find_element(By.XPATH, '//div[contains(@class, \"_aexm\")]/div[2]').click()\n",
    "search_text.send_keys('So Delhi')\n",
    "# WebDriverWait.until(EC.presence_of_element_located(()))"
   ]
  },
  {
   "attachments": {},
   "cell_type": "markdown",
   "metadata": {},
   "source": [
    "### Searching and Opening a profile using \n",
    "#### Open profile of “So Delhi” "
   ]
  },
  {
   "cell_type": "code",
   "execution_count": 177,
   "metadata": {},
   "outputs": [
    {
     "data": {
      "text/plain": [
       "<selenium.webdriver.remote.webelement.WebElement (session=\"5acca0b44862e5daf776f90cb18e3059\", element=\"6639a9b9-bf8f-4c39-a013-e5e21b581fb0\")>"
      ]
     },
     "execution_count": 177,
     "metadata": {},
     "output_type": "execute_result"
    }
   ],
   "source": [
    "So_Delhi = driver.find_element(By.CLASS_NAME, '_abm4')\n",
    "So_Delhi.click()\n",
    "WebDriverWait(driver, 10).until(EC.presence_of_element_located((By.XPATH, '//div[contains(@class, \"_aa_y\")]')))"
   ]
  },
  {
   "attachments": {},
   "cell_type": "markdown",
   "metadata": {},
   "source": [
    "### Follow/Unfollow given handle - \n",
    "#### Open the Instagram Handle of “So Delhi”\n",
    "#### Start following it. Print a message if you are already following\n"
   ]
  },
  {
   "cell_type": "code",
   "execution_count": 178,
   "metadata": {},
   "outputs": [],
   "source": [
    "if driver.find_element(By.XPATH, '//div[contains(@class, \"_aacw\")]').text == \"Following\":\n",
    "    print(\"Already following it.\")\n",
    "else:\n",
    "    follow_btn = driver.find_element(By.XPATH, '//button[starts-with(@class, \"_acan\")]')\n",
    "    follow_btn.click()\n",
    "time.sleep(5)"
   ]
  },
  {
   "attachments": {},
   "cell_type": "markdown",
   "metadata": {},
   "source": [
    "#### After following, unfollow the instagram handle. Print a message if you have already unfollowed."
   ]
  },
  {
   "cell_type": "code",
   "execution_count": 179,
   "metadata": {},
   "outputs": [],
   "source": [
    "if driver.find_element(By.XPATH, '//div[contains(@class, \"_aacw\")]').text == \"Following\":\n",
    "    driver.find_element(By.XPATH, '//button[starts-with(@class, \"_acan\")]').click()\n",
    "    WebDriverWait(driver, 5).until(EC.presence_of_element_located((By.XPATH, '/html/body/div[2]/div/div/div/div[2]/div/div/div[1]/div/div[2]/div/div/div/div/div[2]/div/div/div/div[7]/div/div/div/div/div/div')))\n",
    "    driver.find_element(By.XPATH, '/html/body/div[2]/div/div/div/div[2]/div/div/div[1]/div/div[2]/div/div/div/div/div[2]/div/div/div/div[7]/div/div/div/div/div/div').click()\n",
    "time.sleep(3)"
   ]
  },
  {
   "attachments": {},
   "cell_type": "markdown",
   "metadata": {},
   "source": [
    "### Like/Unlike posts\n",
    "Unliking the top 30 posts of the ‘dilsefoodie’. Print message if you have already unliked it.\n"
   ]
  },
  {
   "cell_type": "code",
   "execution_count": null,
   "metadata": {},
   "outputs": [],
   "source": [
    "search = driver.find_element(By.XPATH, \"/html/body/div[2]/div/div/div/div[1]/div/div/div/div[1]/div[1]/div[1]/div/div/div/div/div[2]/div[2]/div/a/div/div[2]/div/div\")\n",
    "search.click()\n",
    "WebDriverWait(driver, 5).until(EC.presence_of_element_located((By.XPATH, \"/html/body/div[2]/div/div/div/div[1]/div/div/div/div[1]/div[1]/div[1]/div/div/div[2]/div/div/div[2]/div[1]/div/input\")))\n",
    "driver.find_element(By.XPATH, \"/html/body/div[2]/div/div/div/div[1]/div/div/div/div[1]/div[1]/div[1]/div/div/div[2]/div/div/div[2]/div[1]/div/input\").send_keys(\"dilsefoodie\")\n",
    "WebDriverWait(driver, 5).until(EC.presence_of_element_located((By.XPATH, '/html/body/div[2]/div/div/div/div[1]/div/div/div/div[1]/div[1]/div[1]/div/div/div[2]/div/div/div[2]/div[2]/div/div[1]/div/a/div/div[2]/div[2]/div')))\n",
    "driver.find_element(By.XPATH, '/html/body/div[2]/div/div/div/div[1]/div/div/div/div[1]/div[1]/div[1]/div/div/div[2]/div/div/div[2]/div[2]/div/div[1]/div/a/div/div[2]/div[2]/div').click()"
   ]
  },
  {
   "attachments": {},
   "cell_type": "markdown",
   "metadata": {},
   "source": [
    "#### Liking the top 30 posts of the ‘dilsefoodie'. Print message if you have already liked it."
   ]
  },
  {
   "cell_type": "code",
   "execution_count": null,
   "metadata": {},
   "outputs": [
    {
     "name": "stdout",
     "output_type": "stream",
     "text": [
      "1 Liked\n",
      "2 Liked\n",
      "3 Liked\n",
      "4 Liked\n",
      "5 Liked\n",
      "6 Liked\n",
      "7 Liked\n",
      "8 Liked\n",
      "9 Liked\n",
      "10 Liked\n",
      "11 Liked\n",
      "12 Liked\n",
      "13 Liked\n",
      "14 Liked\n",
      "15 Liked\n",
      "16 Liked\n",
      "17 Liked\n",
      "18 Liked\n",
      "19 Liked\n",
      "20 Liked\n",
      "21 Liked\n",
      "22 Liked\n",
      "23 Liked\n",
      "24 Liked\n",
      "25 Liked\n",
      "26 Liked\n",
      "27 Liked\n",
      "28 Liked\n",
      "29 Liked\n",
      "30 Liked\n"
     ]
    }
   ],
   "source": [
    "driver.execute_script('window.scrollTo(0, 6000);')\n",
    "time.sleep(3)\n",
    "driver.execute_script('window.scrollTo(0,-6000);')\n",
    "time.sleep(3)\n",
    "driver.find_element(By.XPATH, '/html/body/div[2]/div/div/div/div[1]/div/div/div/div[1]/div[1]/div[2]/section/main/div/div[3]/article/div[1]/div/div[1]/div[1]').click()\n",
    "if BeautifulSoup(driver.find_element(By.XPATH,'//span[(@class = \"_aamw\")]').get_attribute('outerHTML'),'html.parser').svg['aria-label'] == 'Like':  \n",
    "    driver.find_element(By.XPATH, '/html/body/div[2]/div/div/div/div[2]/div/div/div[1]/div/div[3]/div/div/div/div/div[2]/div/article/div/div[2]/div/div/div[2]/section[1]/span[1]/button').click()\n",
    "    print('1 Liked')\n",
    "else:\n",
    "    print('1 Already Liked')\n",
    "time.sleep(1)\n",
    "driver.find_element(By.XPATH, '/html/body/div[2]/div/div/div/div[2]/div/div/div[1]/div/div[3]/div/div/div/div/div[1]/div/div/div/button').click()\n",
    "\n",
    "for i in range(29):\n",
    "    if BeautifulSoup(driver.find_element(By.XPATH,'//span[(@class = \"_aamw\")]').get_attribute('outerHTML'),'html.parser').svg['aria-label'] == 'Like':  \n",
    "        driver.find_element(By.XPATH, '/html/body/div[2]/div/div/div/div[2]/div/div/div[1]/div/div[3]/div/div/div/div/div[2]/div/article/div/div[2]/div/div/div[2]/section[1]/span[1]/button').click()\n",
    "        print(i+2, 'Liked')\n",
    "    else:\n",
    "        print(i+2, 'Already Liked')\n",
    "        time.sleep(1)\n",
    "    driver.find_element(By.XPATH, '/html/body/div[2]/div/div/div/div[2]/div/div/div[1]/div/div[3]/div/div/div/div/div[1]/div/div/div[2]/button').click()\n",
    "driver.find_element(By.XPATH, '/html/body/div[2]/div/div/div/div[2]/div/div/div[1]/div/div[2]').click()"
   ]
  },
  {
   "attachments": {},
   "cell_type": "markdown",
   "metadata": {},
   "source": [
    "#### Unliking the top 30 posts of the ‘dilsefoodie’. Print message if you have already unliked it."
   ]
  },
  {
   "cell_type": "code",
   "execution_count": null,
   "metadata": {},
   "outputs": [
    {
     "name": "stdout",
     "output_type": "stream",
     "text": [
      "1 UnLiked\n",
      "2 UnLiked\n",
      "3 UnLiked\n",
      "4 UnLiked\n",
      "5 UnLiked\n",
      "6 UnLiked\n",
      "7 UnLiked\n",
      "8 UnLiked\n",
      "9 UnLiked\n",
      "10 UnLiked\n",
      "11 UnLiked\n",
      "12 UnLiked\n",
      "13 UnLiked\n",
      "14 UnLiked\n",
      "15 UnLiked\n",
      "16 UnLiked\n",
      "17 UnLiked\n",
      "18 UnLiked\n",
      "19 UnLiked\n",
      "20 UnLiked\n",
      "21 UnLiked\n",
      "22 UnLiked\n",
      "23 UnLiked\n",
      "24 UnLiked\n",
      "25 UnLiked\n",
      "26 UnLiked\n",
      "27 UnLiked\n",
      "28 UnLiked\n",
      "29 UnLiked\n",
      "30 UnLiked\n"
     ]
    }
   ],
   "source": [
    "driver.execute_script('window.scrollTo(0, 6000);')\n",
    "time.sleep(3)\n",
    "driver.execute_script('window.scrollTo(0,-6000);')\n",
    "time.sleep(3)\n",
    "driver.find_element(By.XPATH, '/html/body/div[2]/div/div/div/div[1]/div/div/div/div[1]/div[1]/div[2]/section/main/div/div[3]/article/div[1]/div/div[1]/div[1]').click()\n",
    "if BeautifulSoup(driver.find_element(By.XPATH,'//span[(@class = \"_aamw\")]').get_attribute('outerHTML'),'html.parser').svg['aria-label'] == 'Unlike':  \n",
    "    driver.find_element(By.XPATH, '/html/body/div[2]/div/div/div/div[2]/div/div/div[1]/div/div[3]/div/div/div/div/div[2]/div/article/div/div[2]/div/div/div[2]/section[1]/span[1]/button').click()\n",
    "    print('1 UnLiked')\n",
    "else:\n",
    "    print('1 Already UnLiked')\n",
    "time.sleep(1)\n",
    "driver.find_element(By.XPATH, '/html/body/div[2]/div/div/div/div[2]/div/div/div[1]/div/div[3]/div/div/div/div/div[1]/div/div/div/button').click()\n",
    "\n",
    "for i in range(29):\n",
    "    if BeautifulSoup(driver.find_element(By.XPATH,'//span[(@class = \"_aamw\")]').get_attribute('outerHTML'),'html.parser').svg['aria-label'] == 'Unlike':  \n",
    "        driver.find_element(By.XPATH, '/html/body/div[2]/div/div/div/div[2]/div/div/div[1]/div/div[3]/div/div/div/div/div[2]/div/article/div/div[2]/div/div/div[2]/section[1]/span[1]/button').click()\n",
    "        print(i+2, 'UnLiked')\n",
    "    else:\n",
    "        print(i+2, 'Already UnLiked')\n",
    "    time.sleep(1)\n",
    "    driver.find_element(By.XPATH, '/html/body/div[2]/div/div/div/div[2]/div/div/div[1]/div/div[3]/div/div/div/div/div[1]/div/div/div[2]/button').click()\n",
    "driver.find_element(By.XPATH, '/html/body/div[2]/div/div/div/div[2]/div/div/div[1]/div/div[2]').click()"
   ]
  },
  {
   "attachments": {},
   "cell_type": "markdown",
   "metadata": {},
   "source": [
    "### Extract list of followers\n",
    "#### Extract the usernames of the first 500 followers of ‘foodtalkindia’ and ‘sodelhi’.\n",
    "#### Now print all the followers of “foodtalkindia” that you are following but those who don’t follow you."
   ]
  },
  {
   "attachments": {},
   "cell_type": "markdown",
   "metadata": {},
   "source": [
    "###### as asked in the question we have to extract first 500 followers of foodtalkindia, but i am afraid it is not possible because its written on the top of followers list that 'Only foodtalkindia can see all followers.'\n",
    "###### So, here i have extracted all the followers which were visible to us."
   ]
  },
  {
   "cell_type": "code",
   "execution_count": 180,
   "metadata": {},
   "outputs": [
    {
     "data": {
      "text/plain": [
       "<selenium.webdriver.remote.webelement.WebElement (session=\"5acca0b44862e5daf776f90cb18e3059\", element=\"57d8218a-b8f9-4603-b756-f312d2cfac49\")>"
      ]
     },
     "execution_count": 180,
     "metadata": {},
     "output_type": "execute_result"
    }
   ],
   "source": [
    "searchBox = driver.find_element(By.XPATH, '/html/body/div[2]/div/div/div/div[1]/div/div/div/div[1]/div[1]/div[1]/div/div/div/div/div[2]/div[2]/div')\n",
    "searchBox.click()\n",
    "WebDriverWait(driver, 5).until(EC.presence_of_element_located((By.XPATH, '/html/body/div[2]/div/div/div/div[1]/div/div/div/div[1]/div[1]/div[1]/div/div/div[2]/div/div/div[2]/div[1]/div')))"
   ]
  },
  {
   "cell_type": "code",
   "execution_count": 181,
   "metadata": {},
   "outputs": [],
   "source": [
    "searchText = driver.find_element(By.XPATH, '/html/body/div[2]/div/div/div/div[1]/div/div/div/div[1]/div[1]/div[1]/div/div/div[2]/div/div/div[2]/div[1]/div/input')\n",
    "searchText.send_keys('foodtalkindia')\n",
    "WebDriverWait(driver, 5).until(EC.presence_of_element_located((By.XPATH, '/html/body/div[2]/div/div/div/div[1]/div/div/div/div[1]/div[1]/div[1]/div/div/div[2]/div/div/div[2]/div[2]/div/div[1]/div/a/div/div[2]/div[1]/div/div/div[1]')))\n",
    "driver.find_element(By.XPATH, '/html/body/div[2]/div/div/div/div[1]/div/div/div/div[1]/div[1]/div[1]/div/div/div[2]/div/div/div[2]/div[2]/div/div[1]/div/a/div/div[2]/div[1]/div/div/div[1]').click()\n",
    "searchBox.click()"
   ]
  },
  {
   "cell_type": "code",
   "execution_count": 182,
   "metadata": {},
   "outputs": [],
   "source": [
    "driver.find_element(By.XPATH, '/html/body/div[2]/div/div/div/div[1]/div/div/div/div[1]/div[1]/div[2]/section/main/div/header/section/ul/li[2]/a/div').click()"
   ]
  },
  {
   "cell_type": "code",
   "execution_count": 183,
   "metadata": {},
   "outputs": [],
   "source": [
    "driver.execute_script(\"arguments[0].scrollTo(0, 2750);\", driver.find_element(By.XPATH, '/html/body/div[2]/div/div/div/div[2]/div/div/div[1]/div/div[2]/div/div/div/div/div[2]/div/div/div[2]'))"
   ]
  },
  {
   "cell_type": "code",
   "execution_count": 184,
   "metadata": {},
   "outputs": [
    {
     "name": "stdout",
     "output_type": "stream",
     "text": [
      "_aaru_chini__210___\n",
      "rayof____sunshine\n",
      "mind_of_the_beast\n",
      "the_curious.ad\n",
      "mr_julyt_26\n",
      "a.k.m.photographyofficial\n",
      "contended_bird\n",
      "abbhinishannand\n",
      "tukster16\n",
      "upkehai\n"
     ]
    }
   ],
   "source": [
    "followers_list = driver.find_elements(By.XPATH, '/html/body/div[2]/div/div/div/div[2]/div/div/div[1]/div/div[2]/div/div/div/div/div[2]/div/div/div[2]/div[2]/div/div/div[2]/div[1]/div/div/div/a/span/div')\n",
    "for i in followers_list:\n",
    "    print(i.text)"
   ]
  },
  {
   "cell_type": "code",
   "execution_count": 185,
   "metadata": {},
   "outputs": [],
   "source": [
    "driver.find_element(By.XPATH, '/html/body/div[2]/div/div/div/div[2]/div/div/div[1]/div/div[2]/div/div/div/div/div[2]/div/div/div[1]/div/div[3]/div/button').click()\n",
    "    # count+=1"
   ]
  },
  {
   "cell_type": "code",
   "execution_count": 186,
   "metadata": {},
   "outputs": [],
   "source": [
    "searchBox.click()\n",
    "driver.find_element(By.XPATH, '/html/body/div[2]/div/div/div/div[1]/div/div/div/div[1]/div[1]/div[1]/div/div/div[2]/div/div/div[2]/div[1]/div/input').send_keys('sodelhi')\n",
    "WebDriverWait(driver, 5).until(EC.presence_of_element_located((By.XPATH, '/html/body/div[2]/div/div/div/div[1]/div/div/div/div[1]/div[1]/div[1]/div/div/div[2]/div/div/div[2]/div[2]/div/div[1]/div/a/div/div[2]/div[1]/div/div')))\n",
    "driver.find_element(By.XPATH, '/html/body/div[2]/div/div/div/div[1]/div/div/div/div[1]/div[1]/div[1]/div/div/div[2]/div/div/div[2]/div[2]/div/div[1]/div/a/div/div[2]/div[1]/div/div').click()\n",
    "searchBox.click()\n",
    "WebDriverWait(driver, 5).until(EC.presence_of_element_located((By.XPATH, '/html/body/div[2]/div/div/div/div[1]/div/div/div/div[1]/div[1]/div[2]/section/main/div/header/section/ul/li[2]/a/div')))\n",
    "driver.find_element(By.XPATH, '/html/body/div[2]/div/div/div/div[1]/div/div/div/div[1]/div[1]/div[2]/section/main/div/header/section/ul/li[2]/a/div').click()"
   ]
  },
  {
   "cell_type": "code",
   "execution_count": 202,
   "metadata": {},
   "outputs": [],
   "source": [
    "driver.refresh()"
   ]
  },
  {
   "cell_type": "code",
   "execution_count": 203,
   "metadata": {},
   "outputs": [],
   "source": [
    "sodelhi=[]\n",
    "while len(sodelhi) < 499:\n",
    "    # sodelhi=[]\n",
    "    sodelhi = driver.find_elements(By.XPATH, '/html/body/div[2]/div/div/div/div[2]/div/div/div[1]/div/div[2]/div/div/div/div/div[2]/div/div/div[2]/div[1]/div/div/div[2]/div[1]/div/div/div/a/span/div')\n",
    "    len(sodelhi)\n",
    "    new_height = driver.execute_script('return arguments[0].scrollHeight', driver.find_element(By.XPATH, '/html/body/div[2]/div/div/div/div[2]/div/div/div[1]/div/div[2]/div/div/div/div/div[2]/div/div/div[2]'))\n",
    "    # print(new_height)\n",
    "    # print(height)\n",
    "    driver.execute_script(\"arguments[0].scrollTo(0, arguments[1]);\", driver.find_element(By.XPATH, '/html/body/div[2]/div/div/div/div[2]/div/div/div[1]/div/div[2]/div/div/div/div/div[2]/div/div/div[2]'), new_height)"
   ]
  },
  {
   "cell_type": "code",
   "execution_count": 204,
   "metadata": {},
   "outputs": [
    {
     "name": "stdout",
     "output_type": "stream",
     "text": [
      "500\n"
     ]
    }
   ],
   "source": [
    "while len(sodelhi)!=500 and len(sodelhi)>500:\n",
    "    sodelhi.pop()\n",
    "print(len(sodelhi))\n"
   ]
  },
  {
   "cell_type": "code",
   "execution_count": 205,
   "metadata": {},
   "outputs": [
    {
     "name": "stdout",
     "output_type": "stream",
     "text": [
      "mallikanarang96\n",
      "adams0880\n",
      "pathetic_weakling\n",
      "prexalneha_sexy\n",
      "barkhaanijwal\n",
      "sujataspanda\n",
      "priyaaasingh08\n",
      "nan.ko.chaiye.chein\n",
      "nidhidixit5550\n",
      "im_notshafad\n",
      "ushaaa\n",
      "_yumyum_23\n",
      "shammi_singh02\n",
      "dumbasshloka\n",
      "rockstardev4\n",
      "devansh_aneja\n",
      "_.kashishsingh._\n",
      "bashayerfaisal\n",
      "ajay_jr8\n",
      "akshit_kaushikkk\n",
      "sri_lasya_rbv\n",
      "_chetansaxena_\n",
      "the.music.town\n",
      "anilkumarsolanki050\n",
      "garg.ishu15\n",
      "rohantripathi_\n",
      "s4sameed\n",
      "x_gaurav_pvt\n",
      "__richayadav__\n",
      "abrara287\n",
      "rayof____sunshine\n",
      "aawa_ramusafir\n",
      "itsavii\n",
      "aa_balanari\n",
      "_.divjot\n",
      "agrawal_kavya09\n",
      "som.yaaa_\n",
      "unique_arora786\n",
      "dr.utkarshgupta\n",
      "om.jha7\n",
      "maheshwarisah_anuja\n",
      "argfacthub\n",
      "abhishek_modi93\n",
      "sonalithakur8089\n",
      "shubham_mehroliyaa\n",
      "arhaan_jamil_2007\n",
      "siddhika_poddar\n",
      "___ru_pal__\n",
      "prernawadhwa7\n",
      "ashwin_kw\n",
      "_nikhil._.anand_\n",
      "nunusylo1706\n",
      "__nainaverma__\n",
      "daveo_1212_\n",
      "the_.lost_shadow\n",
      "whopoojathakur\n",
      "25umrfurk06\n",
      "saood_khan_sk\n",
      "budding.artist_mr\n",
      "nainahans\n",
      "the.one.she_\n",
      "srishti235\n",
      "__moniii_\n",
      "irfan_golden96\n",
      "tamerlanv777\n",
      "ronit_99434\n",
      "mayankrohira\n",
      "vandananagendra\n",
      "daniel.cyril26\n",
      "ritikahuria\n",
      "swapnilsanjayjain\n",
      "arvinda_sneha\n",
      "tarun_kumar.2002\n",
      "thepackersmovers.tpm\n",
      "ajbwehwbw\n",
      "igsaniaa\n",
      "iampawan18\n",
      "the_skybhardwaj\n",
      "digitaleraclasses\n",
      "black_soul_ash\n",
      "mini.chandra\n",
      "ankit_rathore_27\n",
      "debadritadatta\n",
      "snowy.theshihtzu_\n",
      "delhi_city__\n",
      "dishankkk__\n",
      "nitinbhatia_insta\n",
      "official_yadav_nee2\n",
      "snaraya512\n",
      "aryan_v6\n",
      "sudhanshu12345685\n",
      "uma71329\n",
      "adhikarihimanshi27\n",
      "kpreeti.2011\n",
      "mohmmad_mustak_khan_muman___\n",
      "lakshmankumar4279\n",
      "temptingtreats_._\n",
      "toobasaleemkhairi\n",
      "realrajansharma\n",
      "rom_il_\n",
      "hanging_eagle\n",
      "sarthakahluwalia_\n",
      "_pratishtha_srivastava_\n",
      "khus_sandhu95\n",
      "niharikarathor82\n",
      "the_kav_shopping\n",
      "blow_slayer\n",
      "nihaariika\n",
      "aayuusshhhiii\n",
      "chitraaksh\n",
      "prerna_kataria_\n",
      "amanghai15\n",
      "ekaavali\n",
      "techlover59\n",
      "junkmonk_\n",
      "ajsshtyd\n",
      "manav_jain_97\n",
      "its_chodhary0000\n",
      "mayankarora784\n",
      "_sofiarehman_\n",
      "jatinpvtt___\n",
      "gursanjam.s.puri\n",
      "watchinteresting369\n",
      "adityasingh__187\n",
      "akhiiil7__\n",
      "hemakumar_41\n",
      "say2jalaj\n",
      "doc_dhawan\n",
      "palakjain2812\n",
      "kunishka56\n",
      "jadeeren\n",
      "komaltanwarr24\n",
      "sheenudunesh\n",
      "letsexploretogether_jaipur\n",
      "lilazykiwi\n",
      "yogagirl_urvashi\n",
      "deep_vaire\n",
      "deodaddy.com_\n",
      "yuvikkaaaaaa\n",
      "in_sanev90\n",
      "mayu1122a\n",
      "_har.gun_\n",
      "_worlds.of_saksham._\n",
      "_mahiiiiiiiiii\n",
      "rimisharauniyar\n",
      "abhishek.__\n",
      "sa.girl_with_wings\n",
      "anugrahahadke\n",
      "brand_ankush_more_68\n",
      "lavanya.arora.24\n",
      "saloni.arora.19\n",
      "rajasvi_9\n",
      "raju_vishwas23\n",
      "chant_lomdi\n",
      "awesomness_is_here_\n",
      "wanderingamrita\n",
      "nishant_rawat_ji\n",
      "isachin2023\n",
      "sunnysonia88102022\n",
      "prince__varma77\n",
      "96__shreya\n",
      "singhkanak20\n",
      "igdikshaa\n",
      "fortechgyan\n",
      "syed_abdullah_niyazi\n",
      "_bharatsethia\n",
      "ruchi.1969\n",
      "viturgoel\n",
      "kajal_of_delhi4\n",
      "_forevertwentyseven\n",
      "molten786\n",
      "adityagaur_05\n",
      "avinashupadhyay007\n",
      "chsshooda\n",
      "vanijain23\n",
      "aakashbaweja\n",
      "shastr92\n",
      "being_raaj\n",
      "wassup__delhi\n",
      "siddhant_chandra007\n",
      "its__shutter__surprise\n",
      "ashok5794\n",
      "abcdefg_hihi_\n",
      "mahira_vats_12\n",
      "anny_k52\n",
      "bijutsuchan\n",
      "raghavi_01\n",
      "udeeshasingh\n",
      "varshagolchha\n",
      "mohd.munis89\n",
      "_shrutiigupta_\n",
      "prrashantrai\n",
      "aryan.vxn\n",
      "yashsingh2519\n",
      "__peyush__\n",
      "anand_joshii\n",
      "myli.fe1312\n",
      "hazik_roasts\n",
      "manishapriya86\n",
      "ruby_q1990\n",
      "bhavya246\n",
      "_.unmesha.mishra._\n",
      "richiegagan\n",
      "prerna._.saini\n",
      "kartikbansal1311\n",
      "jyoti.panwar.92\n",
      "shrastipandit_\n",
      "manwani0786\n",
      "surbhiijoshi\n",
      "ohhi_kuddi\n",
      "priyanka_b02\n",
      "shub_kale\n",
      "shubham001_\n",
      "shikhachaudhary._\n",
      "varsha.lathwal\n",
      "tanyagolani\n",
      "blondal_greenshh\n",
      "yesudasxsebastian\n",
      "karnatiharshareddy\n",
      "ampvt20\n",
      "sannidhya.aggarwal\n",
      "aman7_rathore\n",
      "litdeepak\n",
      "sh.ail7941\n",
      "devyaniivarshney\n",
      "more_like_sigh\n",
      "naysa.vikram\n",
      "neha_madan_\n",
      "iamsumitydv\n",
      "mirthful_soul02\n",
      "prabhjot_punnu\n",
      "whovinayjain\n",
      "harikrishnaa___\n",
      "ayushmaanpuri\n",
      "satnam.dhani\n",
      "sandy_kaur0_0\n",
      "aadya_shree\n",
      "sadafkhan_1199\n",
      "vrishtianand\n",
      "drsuparnavp\n",
      "supriiye\n",
      "__avikhandelwal\n",
      "poojaftrends\n",
      "gardenonhire\n",
      "anuj._.2022\n",
      "kapoor.taran\n",
      "ronit9999997099\n",
      "abhilasha8762\n",
      "jasmeet.tuteja\n",
      "siddhikapoor01\n",
      "chetan0000sharma\n",
      "mohitkapoor97\n",
      "_sami_ullah_\n",
      "bani_aneja\n",
      "debajitpaul9080\n",
      "pvt__dabba\n",
      "chanutrccn\n",
      "jain_7122\n",
      "w4rid\n",
      "devapri.ya\n",
      "gargakshit\n",
      "frank_foodis\n",
      "twinklee_jain\n",
      "saumya1020\n",
      "_prateek_das_\n",
      "sunaina0106\n",
      "indiver.gautam\n",
      "wandering.doccc\n",
      "its.me_rao.shabni\n",
      "aa.roo.shee\n",
      "bhavvyaaroraa\n",
      "payelacharyaa\n",
      "meghadhoundiyal\n",
      "ruch_sunshine\n",
      "amulyarattan1555\n",
      "aditiagarwal7\n",
      "nino._.viv\n",
      "t_xxn_sh\n",
      "keerthi.thorat\n",
      "one8amit\n",
      "shounak_bagchi\n",
      "m_mansi13\n",
      "shradzz\n",
      "chawla.dishant\n",
      "reshabh768\n",
      "deepakchoudhary3012\n",
      "piu_8950\n",
      "itz.aman1149\n",
      "amitabhshkale\n",
      "__dev_karan\n",
      "iam_sanjuydv\n",
      "nanafrosh73\n",
      "ar.kalpanagupta\n",
      "singh.diksha__\n",
      "be_uhh07\n",
      "surenvashishth\n",
      "falakgirl01\n",
      "resitz4\n",
      "priiyamma\n",
      "omtnwrr\n",
      "popsandwhistles\n",
      "jain_pushpit2005\n",
      "noomaaya\n",
      "digv.ijay5498\n",
      "arnav.w1\n",
      "sharmasampati\n",
      "hey_manishbansal\n",
      "mohdtasleem700\n",
      "foodlife7777\n",
      "thekanikarajput\n",
      "sonna.w\n",
      "priyaharshe\n",
      "vanjanisahib.1808\n",
      "its___ziddi_pk___up___87\n",
      "ishita_adhikari_\n",
      "priscillachawla\n",
      "sopps___\n",
      "bhavyagarg_20\n",
      "amos318\n",
      "babygautam32\n",
      "swastz.michou\n",
      "grishikkaa_\n",
      "agrawalrishijain\n",
      "akshit.rajput_007\n",
      "vishvadityaluhach\n",
      "abhishek_singh69\n",
      "whyanirudh_\n",
      "drishtibaid_13\n",
      "jainnavdeep\n",
      "evansha_goel17\n",
      "vipinn.goel\n",
      "_r.rvi_\n",
      "akankshaxj\n",
      "its_.k.h.u.s.h.i._\n",
      "professormojo\n",
      "adeelhassan858\n",
      "yum.hai_hum\n",
      "anamikaalung\n",
      "narzarybiplab20\n",
      "yajankapoorfitness\n",
      "ramanarora2426\n",
      "_sly1234\n",
      "cttvlla\n",
      "_bharatmishrax\n",
      "sanyam26x\n",
      "mayank_chauhan_19\n",
      "its.kavya.ji\n",
      "sgaurisaxena\n",
      "sachin.raju3\n",
      "joy_pasricha_\n",
      "rajatvikas\n",
      "manssinainwal\n",
      "adnan_durgapuriya1\n",
      "vriddhiix_\n",
      "neel___________________192\n",
      "watchoutmarketing\n",
      "sal_megha\n",
      "sneeehhaaa._\n",
      "aarav._26\n",
      "ashigupta26\n",
      "backend.sharad\n",
      "haramkhor_1235\n",
      "malimulchand4142\n",
      "goltarsatish6\n",
      "msusan_john12\n",
      "kxnika_\n",
      "the_universe_100\n",
      "anujchauhan789\n",
      "vihaansharma_\n",
      "ll_i_sanjana_ll\n",
      "nikhil.chaudhary97\n",
      "__divaaa2116\n",
      "chinmailaspal\n",
      "beautiful_soul520\n",
      "ayushmaan_123\n",
      "anurose__\n",
      "tulja_nandini\n",
      "galavbansal\n",
      "official_vidhi391\n",
      "abuzarkhan2256\n",
      "sonu_official96\n",
      "inayatali7262\n",
      "ruhanikaa_sethi\n",
      "transhimalayan11\n",
      "nature_lover.hub\n",
      "sarthak_pvt193\n",
      "gaurisharma15\n",
      "ufaqhashim_\n",
      "shallu.a\n",
      "uhmmgunjannnn\n",
      "thevoyageratgo\n",
      "pathak_anshu2810\n",
      "_viplawi\n",
      "bhavyahocuspocus\n",
      "udit_meena_22\n",
      "ramannirwal_\n",
      "shivanibhusalmusic\n",
      "misty._.57\n",
      "kailash_dr_jatol_regar\n",
      "__the_cold_one\n",
      "muskaangupta92101\n",
      "tejasvi254\n",
      "khare.padma\n",
      "singhhemendra806\n",
      "aman._.kumar1108\n",
      "harsh.kumar13\n",
      "_riyaaa_25_\n",
      "joyasree_das\n",
      "sourabh_ss58\n",
      "craze_ravenclaw\n",
      "abhishektripathi752\n",
      "sudhanshu___gupta___\n",
      "ayur.95\n",
      "mukulikagusia\n",
      "barembarem4\n",
      "lengspengs\n",
      "abhi_maurya666\n",
      "anshika_agrawal17\n",
      "_.harry__26\n",
      "stockmarketinstinct\n",
      "abhishek.garg.1\n",
      "richahanda\n",
      "radha_singla7027\n",
      "kumarparsuarm\n",
      "jainswati1785\n",
      "slg_ag\n",
      "jojo.mojo.1\n",
      "cchetanvermaa\n",
      "subhanmaliksubhan.malik\n",
      "hibasid_20\n",
      "rupinderpaulsingh\n",
      "jasmine_chidiyana\n",
      "thoroughlythrift\n",
      "aamina_kureshi12\n",
      "medivya3\n",
      "niralasimran7488\n",
      "anjalimishra1010\n",
      "mdsadique.hussain.79\n",
      "pawsinternational.in\n",
      "shilohsharon2510\n",
      "dr.sudan___r\n",
      "divyanshi_2503\n",
      "sultan_mirza_______8936\n",
      "_namrata.mukherjee_\n",
      "milan.time.circus\n",
      "justt.kashuu\n",
      "abhimanyusni\n",
      "tarunk1196\n",
      "anshul_vashist\n",
      "sah_899\n",
      "devon_sleazy\n",
      "gouravm_4000\n",
      "atul.p4227\n",
      "nightowl_365\n",
      "shroomiyani\n",
      "bhavika._.16\n",
      "og.abhinav\n",
      "annikaakumar\n",
      "ritikadawalia\n",
      "anujkumarpoonia145\n",
      "prezsarthak\n",
      "abhishek_rai_\n",
      "mani.a1349\n",
      "srijan_.x\n",
      "ishitttaaaaaaa\n",
      "_amankaushik22\n",
      "sra_trust_22\n",
      "adityaranjan0303\n",
      "kavitatariyal\n",
      "sagartaneja_\n",
      "ariana_x_x2\n",
      "tushita.29\n",
      "katjainnewdelhi\n",
      "sujatakk_official\n",
      "ayushkhandpur\n",
      "i_shivam__\n",
      "_being_wid_me\n",
      "mr.verma.70\n",
      "wholesale_product_for_reseller\n",
      "aadyaa19\n",
      "vipul.gupta.12\n",
      "aditya_kumar_singh__________\n",
      "peace.anshi\n",
      "korean_centre_of_excellence\n",
      "_harshhraj\n",
      "bhoomika_mohan\n",
      "pranjal_lakhotia\n",
      "the_runaway.girl\n",
      "sleepykeeper_\n",
      "_jjessiicaaaaa\n",
      "amanjaxn\n",
      "khetan441\n",
      "themakeupartist19\n",
      "soniyalambalamba\n",
      "itskhaanabadosh\n",
      "the_stella_taz\n",
      "manni_2808\n",
      "the_inkspot_tatoo\n",
      "rituraj_tiwari798\n",
      "__smita._\n"
     ]
    }
   ],
   "source": [
    "for i in sodelhi:\n",
    "    print(i.text)"
   ]
  },
  {
   "cell_type": "code",
   "execution_count": null,
   "metadata": {},
   "outputs": [],
   "source": [
    "# driver.execute_script(\"arguments[0].scrollTo(0, arguments[1]);\", (driver.find_element(By.XPATH, ('/html/body/div[2]/div/div/div/div[2]/div/div/div[1]/div/div[2]/div/div/div/div/div[2]/div/div/div[2]'), height)))\n",
    "driver.execute_script(\"arguments[0].scrollTo(0, arguments[1]);\", driver.find_element(By.XPATH, '/html/body/div[2]/div/div/div/div[2]/div/div/div[1]/div/div[2]/div/div/div/div/div[2]/div/div/div[2]'), height)"
   ]
  },
  {
   "cell_type": "code",
   "execution_count": null,
   "metadata": {},
   "outputs": [
    {
     "name": "stdout",
     "output_type": "stream",
     "text": [
      "7248\n",
      "720\n"
     ]
    }
   ],
   "source": []
  },
  {
   "cell_type": "code",
   "execution_count": null,
   "metadata": {},
   "outputs": [],
   "source": []
  },
  {
   "cell_type": "code",
   "execution_count": null,
   "metadata": {},
   "outputs": [],
   "source": []
  },
  {
   "cell_type": "code",
   "execution_count": null,
   "metadata": {},
   "outputs": [
    {
     "name": "stdout",
     "output_type": "stream",
     "text": [
      "shammi_singh02\n",
      "dumbasshloka\n",
      "rockstardev4\n",
      "devansh_aneja\n",
      "_.kashishsingh._\n",
      "bashayerfaisal\n",
      "ajay_jr8\n",
      "akshit_kaushikkk\n",
      "sri_lasya_rbv\n",
      "_chetansaxena_\n",
      "the.music.town\n",
      "anilkumarsolanki050\n"
     ]
    }
   ],
   "source": [
    "# sodelhis=[]\n",
    "# sodelhis.append(driver.find_element(By.XPATH, '/html/body/div[2]/div/div/div/div[2]/div/div/div[1]/div/div[2]/div/div/div/div/div[2]/div/div/div[2]/div[1]/div/div[6]/div[2]/div[1]/div/div/div/a/span/div'))\n",
    "s= driver.find_elements(By.XPATH, '/html/body/div[2]/div/div/div/div[2]/div/div/div[1]/div/div[2]/div/div/div/div/div[2]/div/div/div[2]/div[1]/div/div/div[2]/div[1]/div/div/div/a/span/div')\n",
    "for i in s:\n",
    "    print(i.text)\n",
    "\n"
   ]
  },
  {
   "cell_type": "code",
   "execution_count": null,
   "metadata": {},
   "outputs": [
    {
     "name": "stdout",
     "output_type": "stream",
     "text": [
      "_.divjot\n"
     ]
    }
   ],
   "source": [
    "for i in sodelhis:\n",
    "    print(i.text)"
   ]
  },
  {
   "cell_type": "code",
   "execution_count": null,
   "metadata": {},
   "outputs": [],
   "source": [
    "l=[]\n",
    "l.append(driver.find_elements(By.XPATH, '/html/body/div[2]/div/div/div/div[2]/div/div/div[1]/div/div[2]/div/div/div/div/div[2]/div/div/div[2]/div[1]/div/div/div[2]/div[1]/div/div/div/a/span/div'))\n"
   ]
  },
  {
   "cell_type": "code",
   "execution_count": null,
   "metadata": {},
   "outputs": [
    {
     "ename": "AttributeError",
     "evalue": "'list' object has no attribute 'text'",
     "output_type": "error",
     "traceback": [
      "\u001b[1;31m---------------------------------------------------------------------------\u001b[0m",
      "\u001b[1;31mAttributeError\u001b[0m                            Traceback (most recent call last)",
      "Cell \u001b[1;32mIn [63], line 3\u001b[0m\n\u001b[0;32m      1\u001b[0m \u001b[39m# len(sodelhis)\u001b[39;00m\n\u001b[0;32m      2\u001b[0m \u001b[39mfor\u001b[39;00m i \u001b[39min\u001b[39;00m l:\n\u001b[1;32m----> 3\u001b[0m     \u001b[39mprint\u001b[39m(i\u001b[39m.\u001b[39;49mtext)\n",
      "\u001b[1;31mAttributeError\u001b[0m: 'list' object has no attribute 'text'"
     ]
    }
   ],
   "source": [
    "# len(sodelhis)\n",
    "for i in l:\n",
    "    print(i.text)\n",
    "# .get_attribute('innerHTML')"
   ]
  },
  {
   "cell_type": "code",
   "execution_count": null,
   "metadata": {},
   "outputs": [],
   "source": [
    "while True:\n",
    "    try:\n",
    "        sodelhi=[]\n",
    "        count=0\n",
    "        while True:\n",
    "            elements=driver.find_elements_by_xpath('//a[contains(@class, \"notranslate\")]')\n",
    "            if len(elements)<500:\n",
    "                waiter=WebDriverWait(driver, 10).until(EC.presence_of_element_located((By.XPATH, '//ul[contains(@class, \"jSC57\")]')))\n",
    "                driver.execute_script('arguments[0].scrollIntoView(0, 100);', driver.find_element_by_xpath('//ul[contains(@class, \"jSC57\")]'))\n",
    "                time.sleep(0.8)\n",
    "            i=elements[count]\n",
    "            sodelhi.append(i.get_attribute('innerHTML'))\n",
    "            if len(sodelhi)>=500:\n",
    "                break\n",
    "            count+=1\n",
    "        break\n",
    "    except:\n",
    "        continue\n",
    "sodelhi"
   ]
  },
  {
   "cell_type": "code",
   "execution_count": null,
   "metadata": {},
   "outputs": [],
   "source": []
  },
  {
   "cell_type": "code",
   "execution_count": null,
   "metadata": {},
   "outputs": [],
   "source": []
  },
  {
   "cell_type": "code",
   "execution_count": null,
   "metadata": {},
   "outputs": [
    {
     "name": "stdout",
     "output_type": "stream",
     "text": [
      "None\n"
     ]
    }
   ],
   "source": [
    "import time\n",
    "current_height = driver.execute_script('return document.body.scrollHeight;')\n",
    "\n",
    "while True:\n",
    "    driver.execute_script('window.scrollTo(0,arguments[0]);',current_height)\n",
    "    time.sleep(3)\n",
    "    new_height = driver.execute_script('return document.body.scrollHright;')\n",
    "    if new_height == current_height:\n",
    "        break\n",
    "    current_height=new_height\n",
    "print(new_height)# driver.find_element(By.XPATH, '').click()\n",
    "# WebDriverWait(driver, 5).until(EC.presence_of_element_located((By.XPATH, '/html/body/div[2]/div/div/div/div[2]/div/div/div[1]/div/div[3]/div/div/div/div/div[1]/div/div/div[2]/button/div/span')))  ##next"
   ]
  },
  {
   "cell_type": "code",
   "execution_count": null,
   "metadata": {},
   "outputs": [],
   "source": [
    "# /html/body/div[2]/div/div/div/div[2]/div/div/div[1]/div/div[3]/div/div/div/div/div[1]/div/div/div/button"
   ]
  },
  {
   "cell_type": "markdown",
   "metadata": {},
   "source": []
  }
 ],
 "metadata": {
  "kernelspec": {
   "display_name": "Python 3",
   "language": "python",
   "name": "python3"
  },
  "language_info": {
   "codemirror_mode": {
    "name": "ipython",
    "version": 3
   },
   "file_extension": ".py",
   "mimetype": "text/x-python",
   "name": "python",
   "nbconvert_exporter": "python",
   "pygments_lexer": "ipython3",
   "version": "3.10.5"
  },
  "orig_nbformat": 4,
  "vscode": {
   "interpreter": {
    "hash": "26de051ba29f2982a8de78e945f0abaf191376122a1563185a90213a26c5da77"
   }
  }
 },
 "nbformat": 4,
 "nbformat_minor": 2
}
