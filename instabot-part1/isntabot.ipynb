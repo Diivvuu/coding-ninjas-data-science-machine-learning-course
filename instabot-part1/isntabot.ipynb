{
 "cells": [
  {
   "attachments": {},
   "cell_type": "markdown",
   "metadata": {},
   "source": [
    "#  Importing Libraries"
   ]
  },
  {
   "cell_type": "code",
   "execution_count": 62,
   "metadata": {},
   "outputs": [],
   "source": [
    "import time\n",
    "from selenium import webdriver\n",
    "from webdriver_manager.chrome import ChromeDriverManager\n",
    "from bs4 import BeautifulSoup\n",
    "from selenium.webdriver.common.by import By\n",
    "from selenium.webdriver.support.ui import WebDriverWait\n",
    "from selenium.webdriver.support import expected_conditions as EC\n",
    "from selenium.webdriver.chrome.service import Service"
   ]
  },
  {
   "cell_type": "code",
   "execution_count": 63,
   "metadata": {},
   "outputs": [
    {
     "name": "stderr",
     "output_type": "stream",
     "text": [
      "C:\\Users\\WELCOME\\AppData\\Local\\Temp\\ipykernel_59448\\365059496.py:1: DeprecationWarning: executable_path has been deprecated, please pass in a Service object\n",
      "  driver=webdriver.Chrome(ChromeDriverManager().install())\n"
     ]
    }
   ],
   "source": [
    "driver=webdriver.Chrome(ChromeDriverManager().install())"
   ]
  },
  {
   "attachments": {},
   "cell_type": "markdown",
   "metadata": {},
   "source": [
    "## Login to your Instagram Handle\n",
    "#### Submit with sample username and password"
   ]
  },
  {
   "cell_type": "code",
   "execution_count": 64,
   "metadata": {},
   "outputs": [],
   "source": [
    "driver.get('https://www.instagram.com/')\n",
    "driver.maximize_window()\n",
    "driver.implicitly_wait(5)\n",
    "# waiter=WebDriverWait(driver, 10).until(EC.presence_of_element_located((By.LINK_TEXT, \"Log in\")))"
   ]
  },
  {
   "attachments": {},
   "cell_type": "markdown",
   "metadata": {},
   "source": [
    "#### Logging in instagram"
   ]
  },
  {
   "cell_type": "code",
   "execution_count": 65,
   "metadata": {},
   "outputs": [],
   "source": [
    "SAMPLE_USERNAME = 'testAccountselenium' #testAccountselenium\n",
    "SAMPLE_PASSWORD = 'selenium123' #selenium123\n",
    "username = driver.find_element(By.NAME, 'username')\n",
    "username.send_keys(SAMPLE_USERNAME)\n",
    "password = driver.find_element(By.NAME, 'password')\n",
    "password.send_keys(SAMPLE_PASSWORD)\n",
    "driver.implicitly_wait(5)"
   ]
  },
  {
   "cell_type": "code",
   "execution_count": 66,
   "metadata": {},
   "outputs": [
    {
     "data": {
      "text/plain": [
       "<selenium.webdriver.remote.webelement.WebElement (session=\"75101274aa0d17257f88a8e5a65149dd\", element=\"14c8ad10-a929-452e-80ab-2662fe2fabed\")>"
      ]
     },
     "execution_count": 66,
     "metadata": {},
     "output_type": "execute_result"
    }
   ],
   "source": [
    "login_btn = driver.find_element(By.XPATH, '//button[contains(@class, \"_acap\")]/div')\n",
    "login_btn.click()\n",
    "\n",
    "WebDriverWait(driver, 5).until(EC.presence_of_element_located((By.CLASS_NAME, '_ac8f')))"
   ]
  },
  {
   "attachments": {},
   "cell_type": "markdown",
   "metadata": {},
   "source": [
    "##### Clicking on save info button(for saving username and password)"
   ]
  },
  {
   "cell_type": "code",
   "execution_count": 67,
   "metadata": {},
   "outputs": [
    {
     "data": {
      "text/plain": [
       "<selenium.webdriver.remote.webelement.WebElement (session=\"75101274aa0d17257f88a8e5a65149dd\", element=\"edbfe33f-b077-4431-96b2-aebce942ece7\")>"
      ]
     },
     "execution_count": 67,
     "metadata": {},
     "output_type": "execute_result"
    }
   ],
   "source": [
    "save_info = driver.find_element(By.CLASS_NAME, \"_ac8f\")\n",
    "save_info.click()\n",
    "WebDriverWait(driver, 5).until(EC.presence_of_element_located((By.CLASS_NAME, '_a9-z')))"
   ]
  },
  {
   "attachments": {},
   "cell_type": "markdown",
   "metadata": {},
   "source": [
    "#### CLicking on turn on notifications"
   ]
  },
  {
   "cell_type": "code",
   "execution_count": 68,
   "metadata": {},
   "outputs": [],
   "source": [
    "notif=driver.find_element(By.CLASS_NAME, '_a9-z').click()"
   ]
  },
  {
   "attachments": {},
   "cell_type": "markdown",
   "metadata": {},
   "source": [
    "#### Type for “food” in search bar and print all the names of the Instagram Handles that are displayed in list after typing “food”\n",
    "##### Note : Make sure to avoid printing hashtags"
   ]
  },
  {
   "cell_type": "code",
   "execution_count": 69,
   "metadata": {},
   "outputs": [],
   "source": [
    "search_box = driver.find_element(By.XPATH, '//div[starts-with(@class, \"xh8yej3 x1iyjqo2\")]/div[2]')\n",
    "search_box.click()\n",
    "wait = WebDriverWait(driver, 10).until(EC.presence_of_element_located((By.CLASS_NAME, '_aauy')))"
   ]
  },
  {
   "cell_type": "code",
   "execution_count": 70,
   "metadata": {},
   "outputs": [],
   "source": [
    "search_text = driver.find_element(By.CLASS_NAME, '_aauy')\n",
    "search_text.send_keys('food')\n",
    "# food_list = driver.find_elements(By.XPATH, '//div[starts-with(@class, \"_aac1\")]/div/div')\n",
    "food_list = driver.find_elements(By.XPATH, '//div[starts-with(@class, \"_abm4\")]/a/div/div[2]/div/div/div/div')"
   ]
  },
  {
   "cell_type": "code",
   "execution_count": 71,
   "metadata": {},
   "outputs": [
    {
     "name": "stdout",
     "output_type": "stream",
     "text": [
      "lucknowfoodblogger\n",
      "delhi_streets_food\n",
      "food__diaries____\n",
      "dilsefoodie\n",
      "\n",
      "foodie_incarnate\n",
      "\n",
      "ghar.kaa.khana\n",
      "food\n",
      "foodrooaster\n",
      "foodieburst\n",
      "foodgasm_prayagraj\n",
      "foodgotwings\n",
      "_food_grill\n",
      "foodforfoodies6\n",
      "food_lust_prayagi_\n",
      "foodiecouple_us\n",
      "insiderfood\n",
      "\n",
      "foodies_aao\n",
      "lucknow_foodie\n",
      "streetfood_0fficial\n",
      "chai_ke_aashik\n",
      "foodlover_lyf\n",
      "allahabadifood\n",
      "banaras__ka_swad\n",
      "_food_wave_\n",
      "liveforfood007\n",
      "lucknow_food_lover\n",
      "foodtales08\n",
      "foodistan_ald\n",
      "food._.pride\n",
      "foodtussigreatho\n",
      "foodyypreneur\n",
      "foodfactory_27\n",
      "foodbombo\n",
      "food_forest_\n",
      "foodie_para_dise\n",
      "foodcourtinstaa\n",
      "foodblog_india_\n",
      "oye.foodieee\n",
      "hungrytrip90\n",
      "foodyvishal\n",
      "canada.explores\n",
      "\n",
      "foodholic.lucknow\n",
      "food_station_of_meerut\n",
      "foodiegoodie___\n",
      "prayagraj_food_bloggers\n",
      "foodbyswag\n",
      "foodie_goodieeee\n",
      "foodwalkwithguri\n",
      "punchoftwist\n"
     ]
    }
   ],
   "source": [
    "for i in food_list:\n",
    "    print(i.text)"
   ]
  },
  {
   "cell_type": "markdown",
   "metadata": {},
   "source": [
    "#### Clearing search bar"
   ]
  },
  {
   "cell_type": "code",
   "execution_count": 72,
   "metadata": {},
   "outputs": [],
   "source": [
    "# search_text.clear()\n",
    "cross = driver.find_element(By.XPATH, '//div[contains(@class, \"_aexm\")]/div[2]').click()\n",
    "search_text.send_keys('So Delhi')\n",
    "# WebDriverWait.until(EC.presence_of_element_located(()))"
   ]
  },
  {
   "attachments": {},
   "cell_type": "markdown",
   "metadata": {},
   "source": [
    "### Searching and Opening a profile using \n",
    "#### Open profile of “So Delhi” "
   ]
  },
  {
   "cell_type": "code",
   "execution_count": 73,
   "metadata": {},
   "outputs": [
    {
     "data": {
      "text/plain": [
       "<selenium.webdriver.remote.webelement.WebElement (session=\"75101274aa0d17257f88a8e5a65149dd\", element=\"892a988f-0a8c-41c5-9ed0-dc35591be4a9\")>"
      ]
     },
     "execution_count": 73,
     "metadata": {},
     "output_type": "execute_result"
    }
   ],
   "source": [
    "So_Delhi = driver.find_element(By.CLASS_NAME, '_abm4')\n",
    "So_Delhi.click()\n",
    "WebDriverWait(driver, 10).until(EC.presence_of_element_located((By.XPATH, '//div[contains(@class, \"_aa_y\")]')))"
   ]
  },
  {
   "attachments": {},
   "cell_type": "markdown",
   "metadata": {},
   "source": [
    "### Follow/Unfollow given handle - \n",
    "#### Open the Instagram Handle of “So Delhi”\n",
    "#### Start following it. Print a message if you are already following\n"
   ]
  },
  {
   "cell_type": "code",
   "execution_count": 74,
   "metadata": {},
   "outputs": [],
   "source": [
    "if driver.find_element(By.XPATH, '//div[contains(@class, \"_aacw\")]').text == \"Following\":\n",
    "    print(\"Already following it.\")\n",
    "else:\n",
    "    follow_btn = driver.find_element(By.XPATH, '//button[starts-with(@class, \"_acan\")]')\n",
    "    follow_btn.click()\n",
    "time.sleep(5)"
   ]
  },
  {
   "attachments": {},
   "cell_type": "markdown",
   "metadata": {},
   "source": [
    "#### After following, unfollow the instagram handle. Print a message if you have already unfollowed."
   ]
  },
  {
   "cell_type": "code",
   "execution_count": 75,
   "metadata": {},
   "outputs": [],
   "source": [
    "if driver.find_element(By.XPATH, '//div[contains(@class, \"_aacw\")]').text == \"Following\":\n",
    "    driver.find_element(By.XPATH, '//button[starts-with(@class, \"_acan\")]').click()\n",
    "    WebDriverWait(driver, 5).until(EC.presence_of_element_located((By.XPATH, '/html/body/div[2]/div/div/div/div[2]/div/div/div[1]/div/div[2]/div/div/div/div/div[2]/div/div/div/div[7]/div/div/div/div/div/div')))\n",
    "    driver.find_element(By.XPATH, '/html/body/div[2]/div/div/div/div[2]/div/div/div[1]/div/div[2]/div/div/div/div/div[2]/div/div/div/div[7]/div/div/div/div/div/div').click()\n",
    "time.sleep(3)"
   ]
  },
  {
   "attachments": {},
   "cell_type": "markdown",
   "metadata": {},
   "source": [
    "### Like/Unlike posts\n",
    "Unliking the top 30 posts of the ‘dilsefoodie’. Print message if you have already unliked it.\n"
   ]
  },
  {
   "cell_type": "code",
   "execution_count": 76,
   "metadata": {},
   "outputs": [],
   "source": [
    "search = driver.find_element(By.XPATH, \"/html/body/div[2]/div/div/div/div[1]/div/div/div/div[1]/div[1]/div[1]/div/div/div/div/div[2]/div[2]/div/a/div/div[2]/div/div\")\n",
    "search.click()\n",
    "WebDriverWait(driver, 5).until(EC.presence_of_element_located((By.XPATH, \"/html/body/div[2]/div/div/div/div[1]/div/div/div/div[1]/div[1]/div[1]/div/div/div[2]/div/div/div[2]/div[1]/div/input\")))\n",
    "driver.find_element(By.XPATH, \"/html/body/div[2]/div/div/div/div[1]/div/div/div/div[1]/div[1]/div[1]/div/div/div[2]/div/div/div[2]/div[1]/div/input\").send_keys(\"dilsefoodie\")\n",
    "WebDriverWait(driver, 5).until(EC.presence_of_element_located((By.XPATH, '/html/body/div[2]/div/div/div/div[1]/div/div/div/div[1]/div[1]/div[1]/div/div/div[2]/div/div/div[2]/div[2]/div/div[1]/div/a/div/div[2]/div[2]/div')))\n",
    "driver.find_element(By.XPATH, '/html/body/div[2]/div/div/div/div[1]/div/div/div/div[1]/div[1]/div[1]/div/div/div[2]/div/div/div[2]/div[2]/div/div[1]/div/a/div/div[2]/div[2]/div').click()"
   ]
  },
  {
   "attachments": {},
   "cell_type": "markdown",
   "metadata": {},
   "source": [
    "#### Liking the top 30 posts of the ‘dilsefoodie'. Print message if you have already liked it."
   ]
  },
  {
   "cell_type": "code",
   "execution_count": null,
   "metadata": {},
   "outputs": [
    {
     "name": "stdout",
     "output_type": "stream",
     "text": [
      "1 Liked\n",
      "2 Liked\n",
      "3 Liked\n",
      "4 Liked\n",
      "5 Liked\n",
      "6 Liked\n",
      "7 Liked\n",
      "8 Liked\n",
      "9 Liked\n",
      "10 Liked\n",
      "11 Liked\n",
      "12 Liked\n",
      "13 Liked\n",
      "14 Liked\n",
      "15 Liked\n",
      "16 Liked\n",
      "17 Liked\n",
      "18 Liked\n",
      "19 Liked\n",
      "20 Liked\n",
      "21 Liked\n",
      "22 Liked\n",
      "23 Liked\n",
      "24 Liked\n",
      "25 Liked\n",
      "26 Liked\n",
      "27 Liked\n",
      "28 Liked\n",
      "29 Liked\n",
      "30 Liked\n"
     ]
    }
   ],
   "source": [
    "driver.execute_script('window.scrollTo(0, 6000);')\n",
    "time.sleep(3)\n",
    "driver.execute_script('window.scrollTo(0,-6000);')\n",
    "time.sleep(3)\n",
    "driver.find_element(By.XPATH, '/html/body/div[2]/div/div/div/div[1]/div/div/div/div[1]/div[1]/div[2]/section/main/div/div[3]/article/div[1]/div/div[1]/div[1]').click()\n",
    "if BeautifulSoup(driver.find_element(By.XPATH,'//span[(@class = \"_aamw\")]').get_attribute('outerHTML'),'html.parser').svg['aria-label'] == 'Like':  \n",
    "    driver.find_element(By.XPATH, '/html/body/div[2]/div/div/div/div[2]/div/div/div[1]/div/div[3]/div/div/div/div/div[2]/div/article/div/div[2]/div/div/div[2]/section[1]/span[1]/button').click()\n",
    "    print('1 Liked')\n",
    "else:\n",
    "    print('1 Already Liked')\n",
    "time.sleep(1)\n",
    "driver.find_element(By.XPATH, '/html/body/div[2]/div/div/div/div[2]/div/div/div[1]/div/div[3]/div/div/div/div/div[1]/div/div/div/button').click()\n",
    "\n",
    "for i in range(29):\n",
    "    if BeautifulSoup(driver.find_element(By.XPATH,'//span[(@class = \"_aamw\")]').get_attribute('outerHTML'),'html.parser').svg['aria-label'] == 'Like':  \n",
    "        driver.find_element(By.XPATH, '/html/body/div[2]/div/div/div/div[2]/div/div/div[1]/div/div[3]/div/div/div/div/div[2]/div/article/div/div[2]/div/div/div[2]/section[1]/span[1]/button').click()\n",
    "        print(i+2, 'Liked')\n",
    "    else:\n",
    "        print(i+2, 'Already Liked')\n",
    "        time.sleep(1)\n",
    "    driver.find_element(By.XPATH, '/html/body/div[2]/div/div/div/div[2]/div/div/div[1]/div/div[3]/div/div/div/div/div[1]/div/div/div[2]/button').click()\n",
    "driver.find_element(By.XPATH, '/html/body/div[2]/div/div/div/div[2]/div/div/div[1]/div/div[2]').click()"
   ]
  },
  {
   "attachments": {},
   "cell_type": "markdown",
   "metadata": {},
   "source": [
    "#### Unliking the top 30 posts of the ‘dilsefoodie’. Print message if you have already unliked it."
   ]
  },
  {
   "cell_type": "code",
   "execution_count": null,
   "metadata": {},
   "outputs": [
    {
     "name": "stdout",
     "output_type": "stream",
     "text": [
      "1 UnLiked\n",
      "2 UnLiked\n",
      "3 UnLiked\n",
      "4 UnLiked\n",
      "5 UnLiked\n",
      "6 UnLiked\n",
      "7 UnLiked\n",
      "8 UnLiked\n",
      "9 UnLiked\n",
      "10 UnLiked\n",
      "11 UnLiked\n",
      "12 UnLiked\n",
      "13 UnLiked\n",
      "14 UnLiked\n",
      "15 UnLiked\n",
      "16 UnLiked\n",
      "17 UnLiked\n",
      "18 UnLiked\n",
      "19 UnLiked\n",
      "20 UnLiked\n",
      "21 UnLiked\n",
      "22 UnLiked\n",
      "23 UnLiked\n",
      "24 UnLiked\n",
      "25 UnLiked\n",
      "26 UnLiked\n",
      "27 UnLiked\n",
      "28 UnLiked\n",
      "29 UnLiked\n",
      "30 UnLiked\n"
     ]
    }
   ],
   "source": [
    "driver.execute_script('window.scrollTo(0, 6000);')\n",
    "time.sleep(3)\n",
    "driver.execute_script('window.scrollTo(0,-6000);')\n",
    "time.sleep(3)\n",
    "driver.find_element(By.XPATH, '/html/body/div[2]/div/div/div/div[1]/div/div/div/div[1]/div[1]/div[2]/section/main/div/div[3]/article/div[1]/div/div[1]/div[1]').click()\n",
    "if BeautifulSoup(driver.find_element(By.XPATH,'//span[(@class = \"_aamw\")]').get_attribute('outerHTML'),'html.parser').svg['aria-label'] == 'Unlike':  \n",
    "    driver.find_element(By.XPATH, '/html/body/div[2]/div/div/div/div[2]/div/div/div[1]/div/div[3]/div/div/div/div/div[2]/div/article/div/div[2]/div/div/div[2]/section[1]/span[1]/button').click()\n",
    "    print('1 UnLiked')\n",
    "else:\n",
    "    print('1 Already UnLiked')\n",
    "time.sleep(1)\n",
    "driver.find_element(By.XPATH, '/html/body/div[2]/div/div/div/div[2]/div/div/div[1]/div/div[3]/div/div/div/div/div[1]/div/div/div/button').click()\n",
    "\n",
    "for i in range(29):\n",
    "    if BeautifulSoup(driver.find_element(By.XPATH,'//span[(@class = \"_aamw\")]').get_attribute('outerHTML'),'html.parser').svg['aria-label'] == 'Unlike':  \n",
    "        driver.find_element(By.XPATH, '/html/body/div[2]/div/div/div/div[2]/div/div/div[1]/div/div[3]/div/div/div/div/div[2]/div/article/div/div[2]/div/div/div[2]/section[1]/span[1]/button').click()\n",
    "        print(i+2, 'UnLiked')\n",
    "    else:\n",
    "        print(i+2, 'Already UnLiked')\n",
    "    time.sleep(1)\n",
    "    driver.find_element(By.XPATH, '/html/body/div[2]/div/div/div/div[2]/div/div/div[1]/div/div[3]/div/div/div/div/div[1]/div/div/div[2]/button').click()\n",
    "driver.find_element(By.XPATH, '/html/body/div[2]/div/div/div/div[2]/div/div/div[1]/div/div[2]').click()"
   ]
  },
  {
   "attachments": {},
   "cell_type": "markdown",
   "metadata": {},
   "source": [
    "### Extract list of followers\n",
    "#### Extract the usernames of the first 500 followers of ‘foodtalkindia’ and ‘sodelhi’.\n",
    "#### Now print all the followers of “foodtalkindia” that you are following but those who don’t follow you."
   ]
  },
  {
   "attachments": {},
   "cell_type": "markdown",
   "metadata": {},
   "source": [
    "###### as asked in the question we have to extract first 500 followers of foodtalkindia, but i am afraid it is not possible because its written on the top of followers list that 'Only foodtalkindia can see all followers.'\n",
    "###### So, here i have extracted all the followers which were visible to us."
   ]
  },
  {
   "cell_type": "code",
   "execution_count": 78,
   "metadata": {},
   "outputs": [
    {
     "data": {
      "text/plain": [
       "<selenium.webdriver.remote.webelement.WebElement (session=\"75101274aa0d17257f88a8e5a65149dd\", element=\"c95a8afb-39fe-4b82-beb4-9a26e20181b8\")>"
      ]
     },
     "execution_count": 78,
     "metadata": {},
     "output_type": "execute_result"
    }
   ],
   "source": [
    "searchBox = driver.find_element(By.XPATH, '/html/body/div[2]/div/div/div/div[1]/div/div/div/div[1]/div[1]/div[1]/div/div/div/div/div[2]/div[2]/div')\n",
    "searchBox.click()\n",
    "WebDriverWait(driver, 5).until(EC.presence_of_element_located((By.XPATH, '/html/body/div[2]/div/div/div/div[1]/div/div/div/div[1]/div[1]/div[1]/div/div/div[2]/div/div/div[2]/div[1]/div')))"
   ]
  },
  {
   "cell_type": "code",
   "execution_count": 79,
   "metadata": {},
   "outputs": [],
   "source": [
    "searchText = driver.find_element(By.XPATH, '/html/body/div[2]/div/div/div/div[1]/div/div/div/div[1]/div[1]/div[1]/div/div/div[2]/div/div/div[2]/div[1]/div/input')\n",
    "searchText.send_keys('foodtalkindia')\n",
    "WebDriverWait(driver, 5).until(EC.presence_of_element_located((By.XPATH, '/html/body/div[2]/div/div/div/div[1]/div/div/div/div[1]/div[1]/div[1]/div/div/div[2]/div/div/div[2]/div[2]/div/div[1]/div/a/div/div[2]/div[1]/div/div/div[1]')))\n",
    "driver.find_element(By.XPATH, '/html/body/div[2]/div/div/div/div[1]/div/div/div/div[1]/div[1]/div[1]/div/div/div[2]/div/div/div[2]/div[2]/div/div[1]/div/a/div/div[2]/div[1]/div/div/div[1]').click()\n",
    "searchBox.click()"
   ]
  },
  {
   "cell_type": "code",
   "execution_count": 101,
   "metadata": {},
   "outputs": [],
   "source": [
    "driver.find_element(By.XPATH, '/html/body/div[2]/div/div/div/div[1]/div/div/div/div[1]/div[1]/div[2]/section/main/div/header/section/ul/li[2]/a/div').click()"
   ]
  },
  {
   "cell_type": "code",
   "execution_count": 102,
   "metadata": {},
   "outputs": [
    {
     "name": "stdout",
     "output_type": "stream",
     "text": [
      "3086\n"
     ]
    }
   ],
   "source": [
    "height = driver.execute_script('return arguments[0].scrollHeight;', driver.find_element(By.XPATH, '/html/body/div[2]/div/div/div/div[2]/div/div/div[1]/div/div[2]/div/div/div/div/div[2]/div/div/div[2]'))\n",
    "# print(height)\n",
    "driver.execute_script(\"arguments[0].scrollTo(0, arguments[1]);\", driver.find_element(By.XPATH, '/html/body/div[2]/div/div/div/div[2]/div/div/div[1]/div/div[2]/div/div/div/div/div[2]/div/div/div[2]'), height)"
   ]
  },
  {
   "cell_type": "code",
   "execution_count": 103,
   "metadata": {},
   "outputs": [],
   "source": [
    "followers_list = driver.find_elements(By.XPATH, '//div[contains(@class, \"_ab8y\")]')"
   ]
  },
  {
   "cell_type": "code",
   "execution_count": 104,
   "metadata": {},
   "outputs": [
    {
     "name": "stdout",
     "output_type": "stream",
     "text": [
      "50 followers\n",
      "newo.ne12340\n",
      "dhgturcuvr934\n",
      "__alter__ego__22__\n",
      "abhishek.n07\n",
      "ahaan_khan_abbbasi\n",
      "akshaytandon\n",
      "aman_bhatti_7777\n",
      "cook_with_amra\n",
      "hasananeeqa\n",
      "ankitalarai\n",
      "anshikajais_13\n",
      "anu963\n",
      "ashwinaggarwal\n",
      "ayanakotoru\n",
      "band3shmusic\n",
      "gethealthyhigh\n",
      "bhandariikb\n",
      "deepika0066\n",
      "dikshit.dhruv31\n",
      "enthrallingtrend\n",
      "eats__and__treat\n",
      "iamf_iizaa\n",
      "foodiesm.time\n",
      "frieswaliind\n",
      "gautampatel7256\n",
      "did_u_knooow\n",
      "kamakshisharmasocial\n",
      "kulvirmalhotra\n",
      "pahari_chora_lucky\n",
      "madhu.raj.50951\n",
      "_manish_4111\n",
      "monark___king___7773\n",
      "ahir_brand_4445\n",
      "neetu8157\n",
      "nirlep_chhabra\n",
      "radicle_reviews\n",
      "raktim9999\n",
      "sain.g3558\n",
      "samrathiofficial\n",
      "sam_reese_1\n",
      "sandeepanjana041\n",
      "saracalligraphic\n",
      "sarthak_0016\n",
      "imsoumen_1364\n",
      "the_delisious_food\n",
      "pandya_upasana\n",
      "utkarshpatel198\n",
      "vrushali_lingayat29\n",
      "zavier_niloy\n",
      "_khan7706\n"
     ]
    }
   ],
   "source": [
    "print(len(followers_list), \"followers\")\n",
    "for i in followers_list:\n",
    "    print(i.text)"
   ]
  },
  {
   "cell_type": "code",
   "execution_count": 105,
   "metadata": {},
   "outputs": [],
   "source": [
    "driver.find_element(By.XPATH, '/html/body/div[2]/div/div/div/div[2]/div/div/div[1]/div/div[2]/div/div/div/div/div[2]/div/div/div[1]/div/div[3]/div/button').click()\n",
    "    # count+=1"
   ]
  },
  {
   "cell_type": "code",
   "execution_count": 110,
   "metadata": {},
   "outputs": [],
   "source": [
    "searchBox.click()\n",
    "driver.find_element(By.XPATH, '/html/body/div[2]/div/div/div/div[1]/div/div/div/div[1]/div[1]/div[1]/div/div/div[2]/div/div/div[2]/div[1]/div/input').send_keys('sodelhi')\n",
    "WebDriverWait(driver, 5).until(EC.presence_of_element_located((By.XPATH, '/html/body/div[2]/div/div/div/div[1]/div/div/div/div[1]/div[1]/div[1]/div/div/div[2]/div/div/div[2]/div[2]/div/div[1]/div/a/div/div[2]/div[1]/div/div')))\n",
    "driver.find_element(By.XPATH, '/html/body/div[2]/div/div/div/div[1]/div/div/div/div[1]/div[1]/div[1]/div/div/div[2]/div/div/div[2]/div[2]/div/div[1]/div/a/div/div[2]/div[1]/div/div').click()\n",
    "searchBox.click()\n",
    "WebDriverWait(driver, 5).until(EC.presence_of_element_located((By.XPATH, '/html/body/div[2]/div/div/div/div[1]/div/div/div/div[1]/div[1]/div[2]/section/main/div/header/section/ul/li[2]/a/div')))\n",
    "driver.find_element(By.XPATH, '/html/body/div[2]/div/div/div/div[1]/div/div/div/div[1]/div[1]/div[2]/section/main/div/header/section/ul/li[2]/a/div').click()"
   ]
  },
  {
   "cell_type": "code",
   "execution_count": 112,
   "metadata": {},
   "outputs": [],
   "source": [
    "driver.refresh()"
   ]
  },
  {
   "cell_type": "code",
   "execution_count": 115,
   "metadata": {},
   "outputs": [],
   "source": [
    "sodelhi=[]\n",
    "while len(sodelhi) < 499:\n",
    "    # sodelhi=[]\n",
    "    sodelhi = driver.find_elements(By.XPATH, '//div[contains(@class, \"_ab8y\")]')\n",
    "    len(sodelhi)\n",
    "    new_height = driver.execute_script('return arguments[0].scrollHeight', driver.find_element(By.XPATH, '/html/body/div[2]/div/div/div/div[2]/div/div/div[1]/div/div[2]/div/div/div/div/div[2]/div/div/div[2]'))\n",
    "    # print(new_height)\n",
    "    # print(height)\n",
    "    driver.execute_script(\"arguments[0].scrollTo(0, arguments[1]);\", driver.find_element(By.XPATH, '/html/body/div[2]/div/div/div/div[2]/div/div/div[1]/div/div[2]/div/div/div/div/div[2]/div/div/div[2]'), new_height)"
   ]
  },
  {
   "cell_type": "code",
   "execution_count": 116,
   "metadata": {},
   "outputs": [
    {
     "name": "stdout",
     "output_type": "stream",
     "text": [
      "500\n"
     ]
    }
   ],
   "source": [
    "while len(sodelhi)!=500 and len(sodelhi)>500:\n",
    "    sodelhi.pop()\n",
    "print(len(sodelhi))\n"
   ]
  },
  {
   "cell_type": "code",
   "execution_count": 117,
   "metadata": {},
   "outputs": [
    {
     "name": "stdout",
     "output_type": "stream",
     "text": [
      "ishxixyz\n",
      "navyagoel_28\n",
      "testaccountselenium\n",
      "yadavrishav584\n",
      "_nikhil_wagh_01\n",
      "akashdotyadav\n",
      "joyasrivastava\n",
      "vipul_sharma159\n",
      "_yuktiarora_\n",
      "afzalsiddiqui._\n",
      "mitali7400\n",
      "inesshghai\n",
      "anne21233\n",
      "s3.nn_\n",
      "ankit_rathore_27\n",
      "ssachin_yadav15\n",
      "maahigupta422\n",
      "pvt_kajal_taya\n",
      "kaashviiii\n",
      "sahilmann_17\n",
      "rashmi_pokhriyal\n",
      "lokes_h7976\n",
      "abha_mahindru\n",
      "gm_lsg\n",
      "mridula.96\n",
      "akansha.sonal\n",
      "varun.the.observant.guy\n",
      "parihar_1990\n",
      "_my_food_story_\n",
      "iam_nishigandha\n",
      "_namrata.mukherjee_\n",
      "superstore_uniforms\n",
      "thapardeeksha\n",
      "ga_uri4980\n",
      "sarabjeets.13\n",
      "mf3242517\n",
      "akash.dwg\n",
      "_inzaf_\n",
      "vikkas96\n",
      "artemiswithagun\n",
      "girlishself\n",
      "aksh.aee\n",
      "iron_addict_tbt\n",
      "heyaalim\n",
      "devanarayana__\n",
      "i_am_rachita\n",
      "hpdhingra\n",
      "szf.99\n",
      "impeccableinsights_\n",
      "inderjeettt_\n",
      "karanguptainsta\n",
      "vishal_arya72\n",
      "76risra\n",
      "jas_anand0013\n",
      "insha.41\n",
      "sahilpathan1697\n",
      "rajeshrikantjadhav\n",
      "imran__khan_901\n",
      "harpreetbakshijain\n",
      "kaurharleenbulani\n",
      "pale_blue____dot\n",
      "dev2chirag\n",
      "rashiadreamgirl6\n",
      "yogagirl_urvashi\n",
      "sumitgautam.09\n",
      "dr.karanmadaan\n",
      "bhavesh____mehta\n",
      "haji_shafeeq_nahari\n",
      "abhi_ola\n",
      "slowyatri\n",
      "neelubawejagan\n",
      "_mahirsikand_\n",
      "vaibhav_kapoor77\n",
      "richaelyja\n",
      "_mahipx\n",
      "aishwarya.k_07\n",
      "ananyaaamalhotra\n",
      "mulberryvibes\n",
      "shrekklover69\n",
      "akshaylamba\n",
      "teenchatore\n",
      "vandanasatinderyadav\n",
      "makeupbybhawnastudio\n",
      "nnareshsirohi\n",
      "rambler_way\n",
      "aanchal_prabha\n",
      "pankhurigandotra\n",
      "hastin_sanghani\n",
      "dmc_specter\n",
      "clumsy__wumsy\n",
      "its_gadariya_0\n",
      "parthism_18\n",
      "bhoomikachitransh\n",
      "freshlyflaneur\n",
      "nishant.vashisth86\n",
      "komalmina74\n",
      "manusha_reddyy\n",
      "_kaartikchoudhary_\n",
      "sanya_kochhar\n",
      "chai_snacksbistro_46\n",
      "artin_moskofyan\n",
      "mahavirvikasrai\n",
      "ashna07.jain\n",
      "drdarshan1\n",
      "vaishaliranaa\n",
      "gaon_wali_\n",
      "vikash_verma922\n",
      "nikita.mrgrinch\n",
      "luckymasiwal\n",
      "tusharpandey_4\n",
      "w___i___z1\n",
      "types_of_photography1\n",
      "absolutetedscouple\n",
      "jainraksha4988\n",
      "rks19982023\n",
      "nehanarulla\n",
      "aparnarks\n",
      "shobha.rani_4\n",
      "ritika.a.a.a.q\n",
      "jayant.singh1\n",
      "karthik_siddharth__\n",
      "_twinkle096\n",
      "architguptajii\n",
      "preeti.saraf87\n",
      "adityaabatraa\n",
      "jujukiran\n",
      "kanojia6142\n",
      "neha_garg4155\n",
      "suraj.jain98\n",
      "subhankar.dey_\n",
      "karishmajayapaul_\n",
      "simransinghraikoti\n",
      "sulendraokumar\n",
      "___luciferqueen\n",
      "akshanshsolanki007\n",
      "sunny__balani\n",
      "bonntail.india\n",
      "kvy__tyl\n",
      "_sajalgupta._\n",
      "pvt__act__00\n",
      "ojasvita_dabas\n",
      "dal_jit798\n",
      "aneesh_00007\n",
      "arunsatija22\n",
      "__yadavjyoti__\n",
      "kmamta95\n",
      "iamexactlyimperfect\n",
      "bburari\n",
      "_deegarg\n",
      "naina_harleen\n",
      "imkd30\n",
      "vimat_.sara\n",
      "vib3swith.dagarsahab\n",
      "karan_gupta_007\n",
      "nitishakathuria\n",
      "ash.kaur7\n",
      "harnoorxvirk\n",
      "abhilashajolly87\n",
      "komalchauhan1708\n",
      "desiisamurai\n",
      "jyotiprasad30\n",
      "sakshiibhatia\n",
      "akshay_k_m_g\n",
      "priyam__here\n",
      "abdulrahman220820142020\n",
      "diksha_singh_rana\n",
      "ibruce.wayne\n",
      "shikharsharma06\n",
      "maarielbt\n",
      "shanayakapoor48\n",
      "akshi.17\n",
      "krithinshankar\n",
      "amankhan_xx\n",
      "jugnu29497\n",
      "saumyathakur.14\n",
      "mayankkbahukhandi\n",
      "nai.shiva.1\n",
      "thedispensary.india\n",
      "vaiyushi\n",
      "harshitaa_verma171\n",
      "malika_vij\n",
      "alok.agarwal_\n",
      "advocate_tanuj_sharma\n",
      "sharry.dhingra\n",
      "vaibhav_1634\n",
      "raunak08\n",
      "iam.abhivats\n",
      "jimmysanghvi3\n",
      "inherently.vintage\n",
      "doctor_sahabb\n",
      "tanushri.sharma.50999\n",
      "khamoshh_parindaa\n",
      "sohil_verma_\n",
      "mahajan.manjushree\n",
      "dhanraj_sagar_07\n",
      "kamakshisharmasocial\n",
      "saraahhkhawar\n",
      "mohammed_fiki\n",
      "up.so.high\n",
      "gunjan_soneja\n",
      "pooniapooja\n",
      "shailenderdahiya\n",
      "viralmeme89\n",
      "sahilposwal26\n",
      "arjunyadav_1998\n",
      "lilnecstasy\n",
      "smartyboi_delhi\n",
      "maaaansi05\n",
      "mehak.etc\n",
      "drshubhiraj\n",
      "midnight_molar\n",
      "travellerr_01\n",
      "suchetagargg\n",
      "150602vansh\n",
      "ashish199583\n",
      "sakshammkumar\n",
      "saakshi_mahendru\n",
      "karthiknayak11\n",
      "neogems_jewellery\n",
      "hardi.kkaur\n",
      "thehideaway0\n",
      "gemporiobykakason\n",
      "theaditidahiya\n",
      "_yash_vardha\n",
      "locky2272\n",
      "pritam_rajput1614\n",
      "smart___gril___131\n",
      "travelling_sundays7\n",
      "_heart.hacker.09\n",
      "_jeet_77_\n",
      "guddofaruki\n",
      "sushruthamithun\n",
      "bookfluentt_\n",
      "roshni_jen_konjengbam\n",
      "sweetie_______0ra\n",
      "yamma1980\n",
      "vishal_saini666\n",
      "vsconceptsandcare\n",
      "i_m_sachin_upadhayay\n",
      "aman.wadhwa.3701\n",
      "digitalsos123\n",
      "in2ca\n",
      "aishineearora\n",
      "ramangujral____\n",
      "sonali_c137\n",
      "achyutv14\n",
      "nutanveerendra\n",
      "miss_tanvi_198\n",
      "bansal_kaushiki\n",
      "szigetizita\n",
      "bushraansariii._\n",
      "khyati_no\n",
      "gungun.2000\n",
      "tusharphotographer_\n",
      "kashishgulati\n",
      "samridhi_1730\n",
      "mr_king.112\n",
      "big_nose.small_eyes\n",
      "itzahmeed\n",
      "abhishek_modi93\n",
      "gagan_d33p_singh_\n",
      "srishti_gupta24\n",
      "smriti_.16\n",
      "l_jatin\n",
      "dilkash_shahi\n",
      "anohita_nosurnameplease\n",
      "siddhant922\n",
      "sanjna.rani.3950178\n",
      "deliberatecreator7\n",
      "arveezai\n",
      "anirudh_kaul\n",
      "ujjwal_nayan_singh\n",
      "as971688\n",
      "sarcastic_scorpio_\n",
      "akshiagarwal75\n",
      "shubh14am\n",
      "naved_choudhary27\n",
      "amitarora.2009\n",
      "aaun_wala_time_tere_yaar_da\n",
      "manssinainwal\n",
      "ya_yu_11\n",
      "tiwarishruti333\n",
      "__kashmiya__\n",
      "kumar_piyush\n",
      "lokesh_miles2go\n",
      "4.m.i.t\n",
      "atri_yee\n",
      "kashish_choudhary_111\n",
      "chalokoina\n",
      "akshaybansal290\n",
      "_ishika_7\n",
      "starry_night_44\n",
      "maham_soomro\n",
      "divya.vadher.77\n",
      "avishek.ban\n",
      "rajasthanifoodphotography\n",
      "persie07\n",
      "singla_yash\n",
      "abhaysinghparihar79\n",
      "vatsal_goel07\n",
      "pradeepjindal007\n",
      "m.danish562676\n",
      "perfect_alam\n",
      "thakral6610\n",
      "therthani\n",
      "jerry__hicks\n",
      "parnavinagar\n",
      "kabir.narain\n",
      "somyaaaa___\n",
      "yashikamehra.etc\n",
      "kinikabatla\n",
      "agarwalanika94\n",
      "mrmitra2023\n",
      "platformx_inc\n",
      "paridhi_bilala5\n",
      "xx._debas\n",
      "namrata_senani_garg\n",
      "arun_krs248\n",
      "satendra.kumar.5621149\n",
      "hey_san6\n",
      "_yajashmehra_02\n",
      "prajakta2491\n",
      "omkar_yadav7556\n",
      "true_living_club_2\n",
      "german_und_du\n",
      "hey_janvii\n",
      "urabhi.99\n",
      "madhurbajaj7\n",
      "moneka_salluja\n",
      "_.laksy\n",
      "ohwoooow_celebrities\n",
      "niyatisainii\n",
      "arxhika143\n",
      "ek.oneness\n",
      "diva_shukla\n",
      "anshi.1010_\n",
      "patiala_wedding_jutti\n",
      "chauhangagandeep\n",
      "_dhruvbhatia_\n",
      "elea_pons\n",
      "akshit_kanojiya\n",
      "iajeetsingh\n",
      "dirtytort92\n",
      "gulzarkhan6985\n",
      "kirti_choudhary_76\n",
      "_aashimittal_\n",
      "karan_pratap_kp9\n",
      "hardy_photography_\n",
      "iluvhotmoms333\n",
      "mumin_207\n",
      "pri.yanshgarg\n",
      "ca_nikhar_gupta\n",
      "tashmit2\n",
      "lullanamita\n",
      "frozenninja_07\n",
      "gurpreet2223\n",
      "menon_alka\n",
      "apeacefulsoul__\n",
      "aad.it\n",
      "twinkledawar16\n",
      "lavishmahar\n",
      "gagandeep151230\n",
      "rachita_arora31\n",
      "raosamarth_26\n",
      "muhammad_sarfraaz_ansari\n",
      "glass_degining\n",
      "pujasinghania2727\n",
      "sonia93guptags\n",
      "ak.hil3380\n",
      "itsanushkasingh_\n",
      "atulgoyal015\n",
      "neelkamalbirdi\n",
      "pankaj_dahiya___\n",
      "sharadkhemka\n",
      "mallikanarang96\n",
      "adams0880\n",
      "pathetic_weakling\n",
      "barkhaanijwal\n",
      "sujataspanda\n",
      "priyaaasingh08\n",
      "nan.ko.chaiye.chein\n",
      "nidhidixit5550\n",
      "im_notshafad\n",
      "ushaaa\n",
      "_yumyum_23\n",
      "shammi_singh02\n",
      "dumbasshloka\n",
      "rockstardev4\n",
      "devansh_aneja\n",
      "_.kashishsingh._\n",
      "bashayerfaisal\n",
      "ajay_jr8\n",
      "akshit_kaushikkk\n",
      "sri_lasya_rbv\n",
      "_chetansaxena_\n",
      "anilkumarsolanki050\n",
      "garg.ishu15\n",
      "rohantripathi_\n",
      "s4sameed\n",
      "x_gaurav_pvt\n",
      "__richayadav__\n",
      "abrara287\n",
      "rayof____sunshine\n",
      "aawa_ramusafir\n",
      "itsavii\n",
      "aa_balanari\n",
      "_.divjot\n",
      "agrawal_kavya09\n",
      "som.yaaa_\n",
      "unique_arora786\n",
      "dr.utkarshgupta\n",
      "om.jha7\n",
      "maheshwarisah_anuja\n",
      "argfacthub\n",
      "sonalithakur8089\n",
      "shubham_mehroliyaa\n",
      "arhaan_jamil_2007\n",
      "siddhika_poddar\n",
      "___ru_pal__\n",
      "prernawadhwa7\n",
      "ashwin_kw\n",
      "_nikhil._.anand_\n",
      "nunusylo1706\n",
      "__nainaverma__\n",
      "daveo_1212_\n",
      "the_.lost_shadow\n",
      "whopoojathakur\n",
      "25umrfurk06\n",
      "saood_khan_sk\n",
      "budding.artist_mr\n",
      "nainahans\n",
      "the.one.she_\n",
      "srishti235\n",
      "__moniii_\n",
      "irfan_golden96\n",
      "tamerlanv777\n",
      "ronit_99434\n",
      "mayankrohira\n",
      "vandananagendra\n",
      "daniel.cyril26\n",
      "ritikahuria\n",
      "swapnilsanjayjain\n",
      "arvinda_sneha\n",
      "tarun_kumar.2002\n",
      "thepackersmovers.tpm\n",
      "ajbwehwbw\n",
      "igsaniaa\n",
      "iampawan18\n",
      "the_skybhardwaj\n",
      "digitaleraclasses\n",
      "black_soul_ash\n",
      "mini.chandra\n",
      "debadritadatta\n",
      "snowy.theshihtzu_\n",
      "delhi_city__\n",
      "dishankkk__\n",
      "nitinbhatia_insta\n",
      "official_yadav_nee2\n",
      "snaraya512\n",
      "aryan_v6\n",
      "sudhanshu12345685\n",
      "uma71329\n",
      "adhikarihimanshi27\n",
      "kpreeti.2011\n",
      "mohmmad_mustak_khan_muman___\n",
      "lakshmankumar4279\n",
      "temptingtreats_._\n",
      "toobasaleemkhairi\n",
      "realrajansharma\n",
      "rom_il_\n",
      "hanging_eagle\n",
      "sarthakahluwalia_\n",
      "_pratishtha_srivastava_\n",
      "khus_sandhu95\n",
      "niharikarathor82\n",
      "the_kav_shopping\n",
      "blow_slayer\n",
      "nihaariika\n",
      "aayuusshhhiii\n",
      "chitraaksh\n",
      "prerna_kataria_\n",
      "amanghai15\n",
      "ekaavali\n",
      "techlover59\n",
      "junkmonk_\n",
      "ajsshtyd\n",
      "manav_jain_97\n",
      "its_chodhary0000\n",
      "mayankarora784\n",
      "_sofiarehman_\n",
      "jatinpvtt___\n",
      "gursanjam.s.puri\n",
      "watchinteresting369\n",
      "adityasingh__187\n",
      "akhiiil7__\n",
      "hemakumar_41\n",
      "say2jalaj\n",
      "palakjain2812\n",
      "kunishka56\n",
      "jadeeren\n"
     ]
    }
   ],
   "source": [
    "for i in sodelhi:\n",
    "    print(i.text)"
   ]
  },
  {
   "cell_type": "code",
   "execution_count": null,
   "metadata": {},
   "outputs": [],
   "source": [
    "# driver.execute_script(\"arguments[0].scrollTo(0, arguments[1]);\", (driver.find_element(By.XPATH, ('/html/body/div[2]/div/div/div/div[2]/div/div/div[1]/div/div[2]/div/div/div/div/div[2]/div/div/div[2]'), height)))\n",
    "driver.execute_script(\"arguments[0].scrollTo(0, arguments[1]);\", driver.find_element(By.XPATH, '/html/body/div[2]/div/div/div/div[2]/div/div/div[1]/div/div[2]/div/div/div/div/div[2]/div/div/div[2]'), height)"
   ]
  },
  {
   "cell_type": "code",
   "execution_count": null,
   "metadata": {},
   "outputs": [
    {
     "name": "stdout",
     "output_type": "stream",
     "text": [
      "7248\n",
      "720\n"
     ]
    }
   ],
   "source": []
  },
  {
   "cell_type": "code",
   "execution_count": null,
   "metadata": {},
   "outputs": [],
   "source": []
  },
  {
   "cell_type": "code",
   "execution_count": null,
   "metadata": {},
   "outputs": [],
   "source": []
  },
  {
   "cell_type": "code",
   "execution_count": null,
   "metadata": {},
   "outputs": [
    {
     "name": "stdout",
     "output_type": "stream",
     "text": [
      "shammi_singh02\n",
      "dumbasshloka\n",
      "rockstardev4\n",
      "devansh_aneja\n",
      "_.kashishsingh._\n",
      "bashayerfaisal\n",
      "ajay_jr8\n",
      "akshit_kaushikkk\n",
      "sri_lasya_rbv\n",
      "_chetansaxena_\n",
      "the.music.town\n",
      "anilkumarsolanki050\n"
     ]
    }
   ],
   "source": [
    "# sodelhis=[]\n",
    "# sodelhis.append(driver.find_element(By.XPATH, '/html/body/div[2]/div/div/div/div[2]/div/div/div[1]/div/div[2]/div/div/div/div/div[2]/div/div/div[2]/div[1]/div/div[6]/div[2]/div[1]/div/div/div/a/span/div'))\n",
    "s= driver.find_elements(By.XPATH, '/html/body/div[2]/div/div/div/div[2]/div/div/div[1]/div/div[2]/div/div/div/div/div[2]/div/div/div[2]/div[1]/div/div/div[2]/div[1]/div/div/div/a/span/div')\n",
    "for i in s:\n",
    "    print(i.text)\n",
    "\n"
   ]
  },
  {
   "cell_type": "code",
   "execution_count": null,
   "metadata": {},
   "outputs": [
    {
     "name": "stdout",
     "output_type": "stream",
     "text": [
      "_.divjot\n"
     ]
    }
   ],
   "source": [
    "for i in sodelhis:\n",
    "    print(i.text)"
   ]
  },
  {
   "cell_type": "code",
   "execution_count": null,
   "metadata": {},
   "outputs": [],
   "source": [
    "l=[]\n",
    "l.append(driver.find_elements(By.XPATH, '/html/body/div[2]/div/div/div/div[2]/div/div/div[1]/div/div[2]/div/div/div/div/div[2]/div/div/div[2]/div[1]/div/div/div[2]/div[1]/div/div/div/a/span/div'))\n"
   ]
  },
  {
   "cell_type": "code",
   "execution_count": null,
   "metadata": {},
   "outputs": [
    {
     "ename": "AttributeError",
     "evalue": "'list' object has no attribute 'text'",
     "output_type": "error",
     "traceback": [
      "\u001b[1;31m---------------------------------------------------------------------------\u001b[0m",
      "\u001b[1;31mAttributeError\u001b[0m                            Traceback (most recent call last)",
      "Cell \u001b[1;32mIn [63], line 3\u001b[0m\n\u001b[0;32m      1\u001b[0m \u001b[39m# len(sodelhis)\u001b[39;00m\n\u001b[0;32m      2\u001b[0m \u001b[39mfor\u001b[39;00m i \u001b[39min\u001b[39;00m l:\n\u001b[1;32m----> 3\u001b[0m     \u001b[39mprint\u001b[39m(i\u001b[39m.\u001b[39;49mtext)\n",
      "\u001b[1;31mAttributeError\u001b[0m: 'list' object has no attribute 'text'"
     ]
    }
   ],
   "source": [
    "# len(sodelhis)\n",
    "for i in l:\n",
    "    print(i.text)\n",
    "# .get_attribute('innerHTML')"
   ]
  },
  {
   "cell_type": "code",
   "execution_count": null,
   "metadata": {},
   "outputs": [],
   "source": [
    "while True:\n",
    "    try:\n",
    "        sodelhi=[]\n",
    "        count=0\n",
    "        while True:\n",
    "            elements=driver.find_elements_by_xpath('//a[contains(@class, \"notranslate\")]')\n",
    "            if len(elements)<500:\n",
    "                waiter=WebDriverWait(driver, 10).until(EC.presence_of_element_located((By.XPATH, '//ul[contains(@class, \"jSC57\")]')))\n",
    "                driver.execute_script('arguments[0].scrollIntoView(0, 100);', driver.find_element_by_xpath('//ul[contains(@class, \"jSC57\")]'))\n",
    "                time.sleep(0.8)\n",
    "            i=elements[count]\n",
    "            sodelhi.append(i.get_attribute('innerHTML'))\n",
    "            if len(sodelhi)>=500:\n",
    "                break\n",
    "            count+=1\n",
    "        break\n",
    "    except:\n",
    "        continue\n",
    "sodelhi"
   ]
  },
  {
   "cell_type": "code",
   "execution_count": null,
   "metadata": {},
   "outputs": [],
   "source": []
  },
  {
   "cell_type": "code",
   "execution_count": null,
   "metadata": {},
   "outputs": [],
   "source": []
  },
  {
   "cell_type": "code",
   "execution_count": null,
   "metadata": {},
   "outputs": [
    {
     "name": "stdout",
     "output_type": "stream",
     "text": [
      "None\n"
     ]
    }
   ],
   "source": [
    "import time\n",
    "current_height = driver.execute_script('return document.body.scrollHeight;')\n",
    "\n",
    "while True:\n",
    "    driver.execute_script('window.scrollTo(0,arguments[0]);',current_height)\n",
    "    time.sleep(3)\n",
    "    new_height = driver.execute_script('return document.body.scrollHright;')\n",
    "    if new_height == current_height:\n",
    "        break\n",
    "    current_height=new_height\n",
    "print(new_height)# driver.find_element(By.XPATH, '').click()\n",
    "# WebDriverWait(driver, 5).until(EC.presence_of_element_located((By.XPATH, '/html/body/div[2]/div/div/div/div[2]/div/div/div[1]/div/div[3]/div/div/div/div/div[1]/div/div/div[2]/button/div/span')))  ##next"
   ]
  },
  {
   "cell_type": "code",
   "execution_count": null,
   "metadata": {},
   "outputs": [],
   "source": [
    "# /html/body/div[2]/div/div/div/div[2]/div/div/div[1]/div/div[3]/div/div/div/div/div[1]/div/div/div/button"
   ]
  },
  {
   "cell_type": "markdown",
   "metadata": {},
   "source": []
  }
 ],
 "metadata": {
  "kernelspec": {
   "display_name": "Python 3",
   "language": "python",
   "name": "python3"
  },
  "language_info": {
   "codemirror_mode": {
    "name": "ipython",
    "version": 3
   },
   "file_extension": ".py",
   "mimetype": "text/x-python",
   "name": "python",
   "nbconvert_exporter": "python",
   "pygments_lexer": "ipython3",
   "version": "3.10.5"
  },
  "orig_nbformat": 4,
  "vscode": {
   "interpreter": {
    "hash": "26de051ba29f2982a8de78e945f0abaf191376122a1563185a90213a26c5da77"
   }
  }
 },
 "nbformat": 4,
 "nbformat_minor": 2
}
