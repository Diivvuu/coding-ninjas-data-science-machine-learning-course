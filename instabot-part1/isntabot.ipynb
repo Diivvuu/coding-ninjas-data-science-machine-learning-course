{
 "cells": [
  {
   "attachments": {},
   "cell_type": "markdown",
   "metadata": {},
   "source": [
    "#  Importing Libraries"
   ]
  },
  {
   "cell_type": "code",
   "execution_count": 38,
   "metadata": {},
   "outputs": [],
   "source": [
    "import time\n",
    "from selenium import webdriver\n",
    "from webdriver_manager.chrome import ChromeDriverManager\n",
    "from bs4 import BeautifulSoup\n",
    "from selenium.webdriver.common.by import By\n",
    "from selenium.webdriver.support.ui import WebDriverWait\n",
    "from selenium.webdriver.support import expected_conditions as EC\n",
    "from selenium.webdriver.chrome.service import Service"
   ]
  },
  {
   "cell_type": "code",
   "execution_count": 39,
   "metadata": {},
   "outputs": [
    {
     "name": "stderr",
     "output_type": "stream",
     "text": [
      "C:\\Users\\WELCOME\\AppData\\Local\\Temp\\ipykernel_26480\\365059496.py:1: DeprecationWarning: executable_path has been deprecated, please pass in a Service object\n",
      "  driver=webdriver.Chrome(ChromeDriverManager().install())\n"
     ]
    }
   ],
   "source": [
    "driver=webdriver.Chrome(ChromeDriverManager().install())"
   ]
  },
  {
   "attachments": {},
   "cell_type": "markdown",
   "metadata": {},
   "source": [
    "## Login to your Instagram Handle\n",
    "#### Submit with sample username and password"
   ]
  },
  {
   "cell_type": "code",
   "execution_count": 40,
   "metadata": {},
   "outputs": [],
   "source": [
    "driver.get('https://www.instagram.com/')\n",
    "driver.maximize_window()\n",
    "driver.implicitly_wait(5)\n",
    "# waiter=WebDriverWait(driver, 10).until(EC.presence_of_element_located((By.LINK_TEXT, \"Log in\")))"
   ]
  },
  {
   "attachments": {},
   "cell_type": "markdown",
   "metadata": {},
   "source": [
    "#### Logging in instagram"
   ]
  },
  {
   "cell_type": "code",
   "execution_count": 41,
   "metadata": {},
   "outputs": [],
   "source": [
    "SAMPLE_USERNAME = 'testAccountselenium' #testAccountselenium\n",
    "SAMPLE_PASSWORD = 'selenium123' #selenium123\n",
    "username = driver.find_element(By.NAME, 'username')\n",
    "username.send_keys(SAMPLE_USERNAME)\n",
    "password = driver.find_element(By.NAME, 'password')\n",
    "password.send_keys(SAMPLE_PASSWORD)\n",
    "driver.implicitly_wait(5)"
   ]
  },
  {
   "cell_type": "code",
   "execution_count": 42,
   "metadata": {},
   "outputs": [
    {
     "data": {
      "text/plain": [
       "<selenium.webdriver.remote.webelement.WebElement (session=\"39b326ddfdd1102ff21a8dd8133b753e\", element=\"43edc800-d1c6-4822-a4e2-4b2de0edf104\")>"
      ]
     },
     "execution_count": 42,
     "metadata": {},
     "output_type": "execute_result"
    }
   ],
   "source": [
    "login_btn = driver.find_element(By.XPATH, '//button[contains(@class, \"_acap\")]/div')\n",
    "login_btn.click()\n",
    "\n",
    "WebDriverWait(driver, 5).until(EC.presence_of_element_located((By.CLASS_NAME, '_ac8f')))"
   ]
  },
  {
   "attachments": {},
   "cell_type": "markdown",
   "metadata": {},
   "source": [
    "##### Clicking on save info button(for saving username and password)"
   ]
  },
  {
   "cell_type": "code",
   "execution_count": 43,
   "metadata": {},
   "outputs": [
    {
     "data": {
      "text/plain": [
       "<selenium.webdriver.remote.webelement.WebElement (session=\"39b326ddfdd1102ff21a8dd8133b753e\", element=\"0ca3e47d-b7b2-4775-9f55-319d1bb92030\")>"
      ]
     },
     "execution_count": 43,
     "metadata": {},
     "output_type": "execute_result"
    }
   ],
   "source": [
    "save_info = driver.find_element(By.CLASS_NAME, \"_ac8f\")\n",
    "save_info.click()\n",
    "WebDriverWait(driver, 5).until(EC.presence_of_element_located((By.CLASS_NAME, '_a9-z')))"
   ]
  },
  {
   "attachments": {},
   "cell_type": "markdown",
   "metadata": {},
   "source": [
    "#### CLicking on turn on notifications"
   ]
  },
  {
   "cell_type": "code",
   "execution_count": 44,
   "metadata": {},
   "outputs": [],
   "source": [
    "notif=driver.find_element(By.CLASS_NAME, '_a9-z').click()"
   ]
  },
  {
   "attachments": {},
   "cell_type": "markdown",
   "metadata": {},
   "source": [
    "#### Type for “food” in search bar and print all the names of the Instagram Handles that are displayed in list after typing “food”\n",
    "##### Note : Make sure to avoid printing hashtags"
   ]
  },
  {
   "cell_type": "code",
   "execution_count": 45,
   "metadata": {},
   "outputs": [],
   "source": [
    "search_box = driver.find_element(By.XPATH, '//div[starts-with(@class, \"xh8yej3 x1iyjqo2\")]/div[2]')\n",
    "search_box.click()\n",
    "wait = WebDriverWait(driver, 10).until(EC.presence_of_element_located((By.CLASS_NAME, '_aauy')))"
   ]
  },
  {
   "cell_type": "code",
   "execution_count": 46,
   "metadata": {},
   "outputs": [],
   "source": [
    "search_text = driver.find_element(By.CLASS_NAME, '_aauy')\n",
    "search_text.send_keys('food')\n",
    "# food_list = driver.find_elements(By.XPATH, '//div[starts-with(@class, \"_aac1\")]/div/div')\n",
    "food_list = driver.find_elements(By.XPATH, '//div[starts-with(@class, \"_abm4\")]/a/div/div[2]/div/div/div/div')"
   ]
  },
  {
   "cell_type": "code",
   "execution_count": 47,
   "metadata": {},
   "outputs": [
    {
     "name": "stdout",
     "output_type": "stream",
     "text": [
      "lucknowfoodblogger\n",
      "delhi_streets_food\n",
      "food__diaries____\n",
      "dilsefoodie\n",
      "\n",
      "foodie_incarnate\n",
      "\n",
      "ghar.kaa.khana\n",
      "food\n",
      "foodrooaster\n",
      "foodieburst\n",
      "foodgasm_prayagraj\n",
      "foodgotwings\n",
      "_food_grill\n",
      "foodforfoodies6\n",
      "food_lust_prayagi_\n",
      "foodiecouple_us\n",
      "insiderfood\n",
      "\n",
      "foodies_aao\n",
      "lucknow_foodie\n",
      "streetfood_0fficial\n",
      "chai_ke_aashik\n",
      "foodlover_lyf\n",
      "allahabadifood\n",
      "banaras__ka_swad\n",
      "_food_wave_\n",
      "liveforfood007\n",
      "lucknow_food_lover\n",
      "foodtales08\n",
      "foodistan_ald\n",
      "food._.pride\n",
      "foodtussigreatho\n",
      "foodyypreneur\n",
      "foodfactory_27\n",
      "foodbombo\n",
      "food_forest_\n",
      "foodie_para_dise\n",
      "foodcourtinstaa\n",
      "foodblog_india_\n",
      "oye.foodieee\n",
      "hungrytrip90\n",
      "foodyvishal\n",
      "canada.explores\n",
      "\n",
      "foodholic.lucknow\n",
      "food_station_of_meerut\n",
      "foodiegoodie___\n",
      "prayagraj_food_bloggers\n",
      "foodbyswag\n",
      "foodie_goodieeee\n",
      "foodwalkwithguri\n",
      "punchoftwist\n"
     ]
    }
   ],
   "source": [
    "for i in food_list:\n",
    "    print(i.text)"
   ]
  },
  {
   "cell_type": "markdown",
   "metadata": {},
   "source": [
    "#### Clearing search bar"
   ]
  },
  {
   "cell_type": "code",
   "execution_count": 48,
   "metadata": {},
   "outputs": [],
   "source": [
    "# search_text.clear()\n",
    "cross = driver.find_element(By.XPATH, '//div[contains(@class, \"_aexm\")]/div[2]').click()\n",
    "search_text.send_keys('So Delhi')\n",
    "# WebDriverWait.until(EC.presence_of_element_located(()))"
   ]
  },
  {
   "attachments": {},
   "cell_type": "markdown",
   "metadata": {},
   "source": [
    "### Searching and Opening a profile using \n",
    "#### Open profile of “So Delhi” "
   ]
  },
  {
   "cell_type": "code",
   "execution_count": 49,
   "metadata": {},
   "outputs": [
    {
     "data": {
      "text/plain": [
       "<selenium.webdriver.remote.webelement.WebElement (session=\"39b326ddfdd1102ff21a8dd8133b753e\", element=\"e7a039c0-1785-4d2f-afc2-0d24cfd48d4f\")>"
      ]
     },
     "execution_count": 49,
     "metadata": {},
     "output_type": "execute_result"
    }
   ],
   "source": [
    "So_Delhi = driver.find_element(By.CLASS_NAME, '_abm4')\n",
    "So_Delhi.click()\n",
    "WebDriverWait(driver, 10).until(EC.presence_of_element_located((By.XPATH, '//div[contains(@class, \"_aa_y\")]')))"
   ]
  },
  {
   "attachments": {},
   "cell_type": "markdown",
   "metadata": {},
   "source": [
    "### Follow/Unfollow given handle - \n",
    "#### Open the Instagram Handle of “So Delhi”\n",
    "#### Start following it. Print a message if you are already following\n"
   ]
  },
  {
   "cell_type": "code",
   "execution_count": 50,
   "metadata": {},
   "outputs": [],
   "source": [
    "if driver.find_element(By.XPATH, '//div[contains(@class, \"_aacw\")]').text == \"Following\":\n",
    "    print(\"Already following it.\")\n",
    "else:\n",
    "    follow_btn = driver.find_element(By.XPATH, '//button[starts-with(@class, \"_acan\")]')\n",
    "    follow_btn.click()\n",
    "time.sleep(5)"
   ]
  },
  {
   "attachments": {},
   "cell_type": "markdown",
   "metadata": {},
   "source": [
    "#### After following, unfollow the instagram handle. Print a message if you have already unfollowed."
   ]
  },
  {
   "cell_type": "code",
   "execution_count": 51,
   "metadata": {},
   "outputs": [],
   "source": [
    "if driver.find_element(By.XPATH, '//div[contains(@class, \"_aacw\")]').text == \"Following\":\n",
    "    driver.find_element(By.XPATH, '//button[starts-with(@class, \"_acan\")]').click()\n",
    "    WebDriverWait(driver, 5).until(EC.presence_of_element_located((By.XPATH, '/html/body/div[2]/div/div/div/div[2]/div/div/div[1]/div/div[2]/div/div/div/div/div[2]/div/div/div/div[7]/div/div/div/div/div/div')))\n",
    "    driver.find_element(By.XPATH, '/html/body/div[2]/div/div/div/div[2]/div/div/div[1]/div/div[2]/div/div/div/div/div[2]/div/div/div/div[7]/div/div/div/div/div/div').click()\n",
    "time.sleep(3)"
   ]
  },
  {
   "attachments": {},
   "cell_type": "markdown",
   "metadata": {},
   "source": [
    "### Like/Unlike posts\n",
    "Unliking the top 30 posts of the ‘dilsefoodie’. Print message if you have already unliked it.\n"
   ]
  },
  {
   "cell_type": "code",
   "execution_count": 76,
   "metadata": {},
   "outputs": [],
   "source": [
    "search = driver.find_element(By.XPATH, \"/html/body/div[2]/div/div/div/div[1]/div/div/div/div[1]/div[1]/div[1]/div/div/div/div/div[2]/div[2]/div/a/div/div[2]/div/div\")\n",
    "search.click()\n",
    "WebDriverWait(driver, 5).until(EC.presence_of_element_located((By.XPATH, \"/html/body/div[2]/div/div/div/div[1]/div/div/div/div[1]/div[1]/div[1]/div/div/div[2]/div/div/div[2]/div[1]/div/input\")))\n",
    "driver.find_element(By.XPATH, \"/html/body/div[2]/div/div/div/div[1]/div/div/div/div[1]/div[1]/div[1]/div/div/div[2]/div/div/div[2]/div[1]/div/input\").send_keys(\"dilsefoodie\")\n",
    "WebDriverWait(driver, 5).until(EC.presence_of_element_located((By.XPATH, '/html/body/div[2]/div/div/div/div[1]/div/div/div/div[1]/div[1]/div[1]/div/div/div[2]/div/div/div[2]/div[2]/div/div[1]/div/a/div/div[2]/div[2]/div')))\n",
    "driver.find_element(By.XPATH, '/html/body/div[2]/div/div/div/div[1]/div/div/div/div[1]/div[1]/div[1]/div/div/div[2]/div/div/div[2]/div[2]/div/div[1]/div/a/div/div[2]/div[2]/div').click()"
   ]
  },
  {
   "attachments": {},
   "cell_type": "markdown",
   "metadata": {},
   "source": [
    "#### Liking the top 30 posts of the ‘dilsefoodie'. Print message if you have already liked it."
   ]
  },
  {
   "cell_type": "code",
   "execution_count": null,
   "metadata": {},
   "outputs": [
    {
     "name": "stdout",
     "output_type": "stream",
     "text": [
      "1 Liked\n",
      "2 Liked\n",
      "3 Liked\n",
      "4 Liked\n",
      "5 Liked\n",
      "6 Liked\n",
      "7 Liked\n",
      "8 Liked\n",
      "9 Liked\n",
      "10 Liked\n",
      "11 Liked\n",
      "12 Liked\n",
      "13 Liked\n",
      "14 Liked\n",
      "15 Liked\n",
      "16 Liked\n",
      "17 Liked\n",
      "18 Liked\n",
      "19 Liked\n",
      "20 Liked\n",
      "21 Liked\n",
      "22 Liked\n",
      "23 Liked\n",
      "24 Liked\n",
      "25 Liked\n",
      "26 Liked\n",
      "27 Liked\n",
      "28 Liked\n",
      "29 Liked\n",
      "30 Liked\n"
     ]
    }
   ],
   "source": [
    "driver.execute_script('window.scrollTo(0, 6000);')\n",
    "time.sleep(3)\n",
    "driver.execute_script('window.scrollTo(0,-6000);')\n",
    "time.sleep(3)\n",
    "driver.find_element(By.XPATH, '/html/body/div[2]/div/div/div/div[1]/div/div/div/div[1]/div[1]/div[2]/section/main/div/div[3]/article/div[1]/div/div[1]/div[1]').click()\n",
    "if BeautifulSoup(driver.find_element(By.XPATH,'//span[(@class = \"_aamw\")]').get_attribute('outerHTML'),'html.parser').svg['aria-label'] == 'Like':  \n",
    "    driver.find_element(By.XPATH, '/html/body/div[2]/div/div/div/div[2]/div/div/div[1]/div/div[3]/div/div/div/div/div[2]/div/article/div/div[2]/div/div/div[2]/section[1]/span[1]/button').click()\n",
    "    print('1 Liked')\n",
    "else:\n",
    "    print('1 Already Liked')\n",
    "time.sleep(1)\n",
    "driver.find_element(By.XPATH, '/html/body/div[2]/div/div/div/div[2]/div/div/div[1]/div/div[3]/div/div/div/div/div[1]/div/div/div/button').click()\n",
    "\n",
    "for i in range(29):\n",
    "    if BeautifulSoup(driver.find_element(By.XPATH,'//span[(@class = \"_aamw\")]').get_attribute('outerHTML'),'html.parser').svg['aria-label'] == 'Like':  \n",
    "        driver.find_element(By.XPATH, '/html/body/div[2]/div/div/div/div[2]/div/div/div[1]/div/div[3]/div/div/div/div/div[2]/div/article/div/div[2]/div/div/div[2]/section[1]/span[1]/button').click()\n",
    "        print(i+2, 'Liked')\n",
    "    else:\n",
    "        print(i+2, 'Already Liked')\n",
    "        time.sleep(1)\n",
    "    driver.find_element(By.XPATH, '/html/body/div[2]/div/div/div/div[2]/div/div/div[1]/div/div[3]/div/div/div/div/div[1]/div/div/div[2]/button').click()\n",
    "driver.find_element(By.XPATH, '/html/body/div[2]/div/div/div/div[2]/div/div/div[1]/div/div[2]').click()"
   ]
  },
  {
   "attachments": {},
   "cell_type": "markdown",
   "metadata": {},
   "source": [
    "#### Unliking the top 30 posts of the ‘dilsefoodie’. Print message if you have already unliked it."
   ]
  },
  {
   "cell_type": "code",
   "execution_count": null,
   "metadata": {},
   "outputs": [
    {
     "name": "stdout",
     "output_type": "stream",
     "text": [
      "1 UnLiked\n",
      "2 UnLiked\n",
      "3 UnLiked\n",
      "4 UnLiked\n",
      "5 UnLiked\n",
      "6 UnLiked\n",
      "7 UnLiked\n",
      "8 UnLiked\n",
      "9 UnLiked\n",
      "10 UnLiked\n",
      "11 UnLiked\n",
      "12 UnLiked\n",
      "13 UnLiked\n",
      "14 UnLiked\n",
      "15 UnLiked\n",
      "16 UnLiked\n",
      "17 UnLiked\n",
      "18 UnLiked\n",
      "19 UnLiked\n",
      "20 UnLiked\n",
      "21 UnLiked\n",
      "22 UnLiked\n",
      "23 UnLiked\n",
      "24 UnLiked\n",
      "25 UnLiked\n",
      "26 UnLiked\n",
      "27 UnLiked\n",
      "28 UnLiked\n",
      "29 UnLiked\n",
      "30 UnLiked\n"
     ]
    }
   ],
   "source": [
    "driver.execute_script('window.scrollTo(0, 6000);')\n",
    "time.sleep(3)\n",
    "driver.execute_script('window.scrollTo(0,-6000);')\n",
    "time.sleep(3)\n",
    "driver.find_element(By.XPATH, '/html/body/div[2]/div/div/div/div[1]/div/div/div/div[1]/div[1]/div[2]/section/main/div/div[3]/article/div[1]/div/div[1]/div[1]').click()\n",
    "if BeautifulSoup(driver.find_element(By.XPATH,'//span[(@class = \"_aamw\")]').get_attribute('outerHTML'),'html.parser').svg['aria-label'] == 'Unlike':  \n",
    "    driver.find_element(By.XPATH, '/html/body/div[2]/div/div/div/div[2]/div/div/div[1]/div/div[3]/div/div/div/div/div[2]/div/article/div/div[2]/div/div/div[2]/section[1]/span[1]/button').click()\n",
    "    print('1 UnLiked')\n",
    "else:\n",
    "    print('1 Already UnLiked')\n",
    "time.sleep(1)\n",
    "driver.find_element(By.XPATH, '/html/body/div[2]/div/div/div/div[2]/div/div/div[1]/div/div[3]/div/div/div/div/div[1]/div/div/div/button').click()\n",
    "\n",
    "for i in range(29):\n",
    "    if BeautifulSoup(driver.find_element(By.XPATH,'//span[(@class = \"_aamw\")]').get_attribute('outerHTML'),'html.parser').svg['aria-label'] == 'Unlike':  \n",
    "        driver.find_element(By.XPATH, '/html/body/div[2]/div/div/div/div[2]/div/div/div[1]/div/div[3]/div/div/div/div/div[2]/div/article/div/div[2]/div/div/div[2]/section[1]/span[1]/button').click()\n",
    "        print(i+2, 'UnLiked')\n",
    "    else:\n",
    "        print(i+2, 'Already UnLiked')\n",
    "    time.sleep(1)\n",
    "    driver.find_element(By.XPATH, '/html/body/div[2]/div/div/div/div[2]/div/div/div[1]/div/div[3]/div/div/div/div/div[1]/div/div/div[2]/button').click()\n",
    "driver.find_element(By.XPATH, '/html/body/div[2]/div/div/div/div[2]/div/div/div[1]/div/div[2]').click()"
   ]
  },
  {
   "attachments": {},
   "cell_type": "markdown",
   "metadata": {},
   "source": [
    "### Extract list of followers\n",
    "#### Extract the usernames of the first 500 followers of ‘foodtalkindia’ and ‘sodelhi’.\n",
    "#### Now print all the followers of “foodtalkindia” that you are following but those who don’t follow you."
   ]
  },
  {
   "attachments": {},
   "cell_type": "markdown",
   "metadata": {},
   "source": [
    "###### as asked in the question we have to extract first 500 followers of foodtalkindia, but i am afraid it is not possible because its written on the top of followers list that 'Only foodtalkindia can see all followers.'\n",
    "###### So, here i have extracted all the followers which were visible to us."
   ]
  },
  {
   "cell_type": "code",
   "execution_count": 101,
   "metadata": {},
   "outputs": [
    {
     "data": {
      "text/plain": [
       "<selenium.webdriver.remote.webelement.WebElement (session=\"39b326ddfdd1102ff21a8dd8133b753e\", element=\"883ace03-7888-436c-8432-30cb083e937a\")>"
      ]
     },
     "execution_count": 101,
     "metadata": {},
     "output_type": "execute_result"
    }
   ],
   "source": [
    "searchBox = driver.find_element(By.XPATH, '/html/body/div[2]/div/div/div/div[1]/div/div/div/div[1]/div[1]/div[1]/div/div/div/div/div[2]/div[2]/div')\n",
    "searchBox.click()\n",
    "WebDriverWait(driver, 5).until(EC.presence_of_element_located((By.XPATH, '/html/body/div[2]/div/div/div/div[1]/div/div/div/div[1]/div[1]/div[1]/div/div/div[2]/div/div/div[2]/div[1]/div')))"
   ]
  },
  {
   "cell_type": "code",
   "execution_count": 102,
   "metadata": {},
   "outputs": [],
   "source": [
    "searchText = driver.find_element(By.XPATH, '/html/body/div[2]/div/div/div/div[1]/div/div/div/div[1]/div[1]/div[1]/div/div/div[2]/div/div/div[2]/div[1]/div/input')\n",
    "searchText.send_keys('foodtalkindia')\n",
    "WebDriverWait(driver, 5).until(EC.presence_of_element_located((By.XPATH, '/html/body/div[2]/div/div/div/div[1]/div/div/div/div[1]/div[1]/div[1]/div/div/div[2]/div/div/div[2]/div[2]/div/div[1]/div/a/div/div[2]/div[1]/div/div/div[1]')))\n",
    "driver.find_element(By.XPATH, '/html/body/div[2]/div/div/div/div[1]/div/div/div/div[1]/div[1]/div[1]/div/div/div[2]/div/div/div[2]/div[2]/div/div[1]/div/a/div/div[2]/div[1]/div/div/div[1]').click()\n",
    "searchBox.click()"
   ]
  },
  {
   "cell_type": "code",
   "execution_count": 103,
   "metadata": {},
   "outputs": [],
   "source": [
    "driver.find_element(By.XPATH, '/html/body/div[2]/div/div/div/div[1]/div/div/div/div[1]/div[1]/div[2]/section/main/div/header/section/ul/li[2]/a/div').click()\n",
    "time.sleep(3)"
   ]
  },
  {
   "cell_type": "code",
   "execution_count": 104,
   "metadata": {},
   "outputs": [],
   "source": [
    "height = driver.execute_script('return arguments[0].scrollHeight;', driver.find_element(By.XPATH, '/html/body/div[2]/div/div/div/div[2]/div/div/div[1]/div/div[2]/div/div/div/div/div[2]/div/div/div[2]'))\n",
    "# print(height)\n",
    "driver.execute_script(\"arguments[0].scrollTo(0, arguments[1]);\", driver.find_element(By.XPATH, '/html/body/div[2]/div/div/div/div[2]/div/div/div[1]/div/div[2]/div/div/div/div/div[2]/div/div/div[2]'), height)\n",
    "driver.implicitly_wait(4)"
   ]
  },
  {
   "cell_type": "code",
   "execution_count": 105,
   "metadata": {},
   "outputs": [],
   "source": [
    "followers_list = driver.find_elements(By.XPATH, '//div[contains(@class, \"_ab8y\")]')"
   ]
  },
  {
   "cell_type": "code",
   "execution_count": 106,
   "metadata": {},
   "outputs": [
    {
     "name": "stdout",
     "output_type": "stream",
     "text": [
      "50 followers\n",
      "newo.ne12340\n",
      "dhgturcuvr934\n",
      "__alter__ego__22__\n",
      "abhishek.n07\n",
      "ahaan_khan_abbbasi\n",
      "airafathima357\n",
      "akshaytandon\n",
      "cook_with_amra\n",
      "hasananeeqa\n",
      "ankitalarai\n",
      "anshikajais_13\n",
      "anu963\n",
      "ashwinaggarwal\n",
      "ayanakotoru\n",
      "gethealthyhigh\n",
      "bhandariikb\n",
      "dailyproteinofficial\n",
      "deepika0066\n",
      "dikshit.dhruv31\n",
      "enthrallingtrend\n",
      "eats__and__treat\n",
      "arabian_kudiyaan\n",
      "foodiesm.time\n",
      "frieswaliind\n",
      "gautampatel7256\n",
      "did_u_knooow\n",
      "kamakshisharmasocial\n",
      "pahari_chora_lucky\n",
      "madhu.raj.50951\n",
      "_manish_4111\n",
      "monark___king___7773\n",
      "ahir_brand_4445\n",
      "neetu8157\n",
      "nirlep_chhabra\n",
      "prernajain2020\n",
      "radicle_reviews\n",
      "raktim9999\n",
      "sain.g3558\n",
      "samrathiofficial\n",
      "sam_reese_1\n",
      "sandeepanjana041\n",
      "saracalligraphic\n",
      "sarthak_0016\n",
      "the_delisious_food\n",
      "pandya_upasana\n",
      "utkarshpatel198\n",
      "vrushali_lingayat29\n",
      "w_wasim_ahmed\n",
      "zavier_niloy\n",
      "_khan7706\n"
     ]
    }
   ],
   "source": [
    "print(len(followers_list), \"followers\")\n",
    "for i in followers_list:\n",
    "    print(i.text)"
   ]
  },
  {
   "cell_type": "code",
   "execution_count": 107,
   "metadata": {},
   "outputs": [],
   "source": [
    "driver.find_element(By.XPATH, '/html/body/div[2]/div/div/div/div[2]/div/div/div[1]/div/div[2]/div/div/div/div/div[2]/div/div/div[1]/div/div[3]/div/button').click()\n",
    "    # count+=1"
   ]
  },
  {
   "cell_type": "code",
   "execution_count": 108,
   "metadata": {},
   "outputs": [],
   "source": [
    "searchBox.click()\n",
    "driver.find_element(By.XPATH, '/html/body/div[2]/div/div/div/div[1]/div/div/div/div[1]/div[1]/div[1]/div/div/div[2]/div/div/div[2]/div[1]/div/input').send_keys('sodelhi')\n",
    "WebDriverWait(driver, 5).until(EC.presence_of_element_located((By.XPATH, '/html/body/div[2]/div/div/div/div[1]/div/div/div/div[1]/div[1]/div[1]/div/div/div[2]/div/div/div[2]/div[2]/div/div[1]/div/a/div/div[2]/div[1]/div/div')))\n",
    "driver.find_element(By.XPATH, '/html/body/div[2]/div/div/div/div[1]/div/div/div/div[1]/div[1]/div[1]/div/div/div[2]/div/div/div[2]/div[2]/div/div[1]/div/a/div/div[2]/div[1]/div/div').click()\n",
    "searchBox.click()\n",
    "WebDriverWait(driver, 5).until(EC.presence_of_element_located((By.XPATH, '/html/body/div[2]/div/div/div/div[1]/div/div/div/div[1]/div[1]/div[2]/section/main/div/header/section/ul/li[2]/a/div')))\n",
    "driver.find_element(By.XPATH, '/html/body/div[2]/div/div/div/div[1]/div/div/div/div[1]/div[1]/div[2]/section/main/div/header/section/ul/li[2]/a/div').click()"
   ]
  },
  {
   "cell_type": "code",
   "execution_count": 109,
   "metadata": {},
   "outputs": [],
   "source": [
    "driver.refresh()"
   ]
  },
  {
   "cell_type": "code",
   "execution_count": 110,
   "metadata": {},
   "outputs": [],
   "source": [
    "sodelhi=[]\n",
    "while len(sodelhi) < 499:\n",
    "    # sodelhi=[]\n",
    "    sodelhi = driver.find_elements(By.XPATH, '//div[contains(@class, \"_ab8y\")]')\n",
    "    len(sodelhi)\n",
    "    new_height = driver.execute_script('return arguments[0].scrollHeight', driver.find_element(By.XPATH, '/html/body/div[2]/div/div/div/div[2]/div/div/div[1]/div/div[2]/div/div/div/div/div[2]/div/div/div[2]'))\n",
    "    # print(new_height)\n",
    "    # print(height)\n",
    "    driver.execute_script(\"arguments[0].scrollTo(0, arguments[1]);\", driver.find_element(By.XPATH, '/html/body/div[2]/div/div/div/div[2]/div/div/div[1]/div/div[2]/div/div/div/div/div[2]/div/div/div[2]'), new_height)"
   ]
  },
  {
   "cell_type": "code",
   "execution_count": 111,
   "metadata": {},
   "outputs": [
    {
     "name": "stdout",
     "output_type": "stream",
     "text": [
      "500 followers\n"
     ]
    }
   ],
   "source": [
    "while len(sodelhi)!=500 and len(sodelhi)>500:\n",
    "    sodelhi.pop()\n",
    "print(len(sodelhi), \"followers\")\n"
   ]
  },
  {
   "cell_type": "code",
   "execution_count": 112,
   "metadata": {},
   "outputs": [
    {
     "name": "stdout",
     "output_type": "stream",
     "text": [
      "1 aysha_hayat_khan\n",
      "2 buildingtomorrowpro\n",
      "3 devanshmangal\n",
      "4 _.sonal._jais._\n",
      "5 tushar__khatri\n",
      "6 a.balloon_decoration\n",
      "7 eshagoel30\n",
      "8 nishaghughtyal\n",
      "9 memeshare564\n",
      "10 dipika.mandal.9\n",
      "11 ishxixyz\n",
      "12 yadavrishav584\n",
      "13 _nikhil_wagh_01\n",
      "14 akashdotyadav\n",
      "15 joyasrivastava\n",
      "16 vipul_sharma159\n",
      "17 _yuktiarora_\n",
      "18 afzalsiddiqui._\n",
      "19 mitali7400\n",
      "20 inesshghai\n",
      "21 anne21233\n",
      "22 s3.nn_\n",
      "23 ankit_rathore_27\n",
      "24 ssachin_yadav15\n",
      "25 maahigupta422\n",
      "26 pvt_kajal_taya\n",
      "27 kaashviiii\n",
      "28 sahilmann_17\n",
      "29 rashmi_pokhriyal\n",
      "30 lokes_h7976\n",
      "31 abha_mahindru\n",
      "32 gm_lsg\n",
      "33 mridula.96\n",
      "34 akansha.sonal\n",
      "35 varun.the.observant.guy\n",
      "36 parihar_1990\n",
      "37 _my_food_story_\n",
      "38 iam_nishigandha\n",
      "39 _namrata.mukherjee_\n",
      "40 superstore_uniforms\n",
      "41 thapardeeksha\n",
      "42 ga_uri4980\n",
      "43 sarabjeets.13\n",
      "44 mf3242517\n",
      "45 akash.dwg\n",
      "46 _inzaf_\n",
      "47 vikkas96\n",
      "48 artemiswithagun\n",
      "49 girlishself\n",
      "50 aksh.aee\n",
      "51 iron_addict_tbt\n",
      "52 heyaalim\n",
      "53 devanarayana__\n",
      "54 i_am_rachita\n",
      "55 hpdhingra\n",
      "56 szf.99\n",
      "57 impeccableinsights_\n",
      "58 inderjeettt_\n",
      "59 karanguptainsta\n",
      "60 vishal_arya72\n",
      "61 76risra\n",
      "62 jas_anand0013\n",
      "63 insha.41\n",
      "64 sahilpathan1697\n",
      "65 rajeshrikantjadhav\n",
      "66 imran__khan_901\n",
      "67 harpreetbakshijain\n",
      "68 kaurharleenbulani\n",
      "69 pale_blue____dot\n",
      "70 chiragllmehta\n",
      "71 rashiadreamgirl6\n",
      "72 yogagirl_urvashi\n",
      "73 sumitgautam.09\n",
      "74 dr.karanmadaan\n",
      "75 bhavesh____mehta\n",
      "76 haji_shafeeq_nahari\n",
      "77 abhi_ola\n",
      "78 slowyatri\n",
      "79 neelubawejagan\n",
      "80 _mahirsikand_\n",
      "81 vaibhav_kapoor77\n",
      "82 richaelyja\n",
      "83 _mahipx\n",
      "84 aishwarya.k_07\n",
      "85 ananyaaamalhotra\n",
      "86 mulberryvibes\n",
      "87 shrekklover69\n",
      "88 akshaylamba\n",
      "89 teenchatore\n",
      "90 vandanasatinderyadav\n",
      "91 makeupbybhawnastudio\n",
      "92 nnareshsirohi\n",
      "93 rambler_way\n",
      "94 aanchal_prabha\n",
      "95 pankhurigandotra\n",
      "96 hastin_sanghani\n",
      "97 dmc_specter\n",
      "98 clumsy__wumsy\n",
      "99 its_gadariya_0\n",
      "100 parthism_18\n",
      "101 bhoomikachitransh\n",
      "102 freshlyflaneur\n",
      "103 nishant.vashisth86\n",
      "104 komalmina74\n",
      "105 manusha_reddyy\n",
      "106 _kaartikchoudhary_\n",
      "107 sanya_kochhar\n",
      "108 chai_snacksbistro_46\n",
      "109 artin_moskofyan\n",
      "110 mahavirvikasrai\n",
      "111 ashna07.jain\n",
      "112 drdarshan1\n",
      "113 vaishaliranaa\n",
      "114 gaon_wali_\n",
      "115 vikash_verma922\n",
      "116 nikita.mrgrinch\n",
      "117 luckymasiwal\n",
      "118 tusharpandey_4\n",
      "119 w___i___z1\n",
      "120 types_of_photography1\n",
      "121 absolutetedscouple\n",
      "122 jainraksha4988\n",
      "123 rks19982023\n",
      "124 nehanarulla\n",
      "125 aparnarks\n",
      "126 shobha.rani_4\n",
      "127 ritika.a.a.a.q\n",
      "128 jayant.singh1\n",
      "129 karthik_siddharth__\n",
      "130 _twinkle096\n",
      "131 architguptajii\n",
      "132 preeti.saraf87\n",
      "133 adityaabatraa\n",
      "134 jujukiran\n",
      "135 kanojia6142\n",
      "136 neha_garg4155\n",
      "137 suraj.jain98\n",
      "138 subhankar.dey_\n",
      "139 karishmajayapaul_\n",
      "140 simransinghraikoti\n",
      "141 sulendraokumar\n",
      "142 ___luciferqueen\n",
      "143 akshanshsolanki007\n",
      "144 sunny__balani\n",
      "145 bonntail.india\n",
      "146 kvy__tyl\n",
      "147 _sajalgupta._\n",
      "148 pvt__act__00\n",
      "149 ojasvita_dabas\n",
      "150 dal_jit798\n",
      "151 aneesh_00007\n",
      "152 arunsatija22\n",
      "153 __yadavjyoti__\n",
      "154 kmamta95\n",
      "155 iamexactlyimperfect\n",
      "156 bburari\n",
      "157 _deegarg\n",
      "158 naina_harleen\n",
      "159 imkd30\n",
      "160 vimat_.sara\n",
      "161 vib3swith.dagarsahab\n",
      "162 karan_gupta_007\n",
      "163 nitishakathuria\n",
      "164 ash.kaur7\n",
      "165 harnoorxvirk\n",
      "166 abhilashajolly87\n",
      "167 komalchauhan1708\n",
      "168 desiisamurai\n",
      "169 jyotiprasad30\n",
      "170 sakshiibhatia\n",
      "171 akshay_k_m_g\n",
      "172 priyam__here\n",
      "173 abdulrahman220820142020\n",
      "174 diksha_singh_rana\n",
      "175 ibruce.wayne\n",
      "176 shikharsharma06\n",
      "177 maarielbt\n",
      "178 shanayakapoor48\n",
      "179 akshi.17\n",
      "180 krithinshankar\n",
      "181 amankhan_xx\n",
      "182 jugnu29497\n",
      "183 saumyathakur.14\n",
      "184 mayankkbahukhandi\n",
      "185 nai.shiva.1\n",
      "186 thedispensary.india\n",
      "187 vaiyushi\n",
      "188 harshitaa_verma171\n",
      "189 malika_vij\n",
      "190 alok.agarwal_\n",
      "191 advocate_tanuj_sharma\n",
      "192 sharry.dhingra\n",
      "193 vaibhav_1634\n",
      "194 raunak08\n",
      "195 iam.abhivats\n",
      "196 jimmysanghvi3\n",
      "197 inherently.vintage\n",
      "198 doctor_sahabb\n",
      "199 tanushri.sharma.50999\n",
      "200 khamoshh_parindaa\n",
      "201 sohil_verma_\n",
      "202 mahajan.manjushree\n",
      "203 dhanraj_sagar_07\n",
      "204 kamakshisharmasocial\n",
      "205 saraahhkhawar\n",
      "206 mohammed_fiki\n",
      "207 up.so.high\n",
      "208 gunjan_soneja\n",
      "209 pooniapooja\n",
      "210 shailenderdahiya\n",
      "211 viralmeme89\n",
      "212 sahilposwal26\n",
      "213 arjunyadav_1998\n",
      "214 lilnecstasy\n",
      "215 smartyboi_delhi\n",
      "216 maaaansi05\n",
      "217 mehak.etc\n",
      "218 drshubhiraj\n",
      "219 midnight_molar\n",
      "220 travellerr_01\n",
      "221 suchetagargg\n",
      "222 150602vansh\n",
      "223 ashish199583\n",
      "224 sakshammkumar\n",
      "225 saakshi_mahendru\n",
      "226 karthiknayak11\n",
      "227 neogems_jewellery\n",
      "228 hardi.kkaur\n",
      "229 thehideaway0\n",
      "230 gemporiobykakason\n",
      "231 theaditidahiya\n",
      "232 _yash_vardha\n",
      "233 locky2272\n",
      "234 pritam_rajput1614\n",
      "235 smart___gril___131\n",
      "236 travelling_sundays7\n",
      "237 _heart.hacker.09\n",
      "238 _jeet_77_\n",
      "239 guddofaruki\n",
      "240 sushruthamithun\n",
      "241 bookfluentt_\n",
      "242 roshni_jen_konjengbam\n",
      "243 sweetie_______0ra\n",
      "244 yamma1980\n",
      "245 vishal_saini666\n",
      "246 vsconceptsandcare\n",
      "247 i_m_sachin_upadhayay\n",
      "248 aman.wadhwa.3701\n",
      "249 digitalsos123\n",
      "250 in2ca\n",
      "251 aishineearora\n",
      "252 ramangujral____\n",
      "253 sonali_c137\n",
      "254 achyutv14\n",
      "255 nutanveerendra\n",
      "256 miss_tanvi_198\n",
      "257 bansal_kaushiki\n",
      "258 szigetizita\n",
      "259 bushraansariii._\n",
      "260 khyati_no\n",
      "261 gungun.2000\n",
      "262 tusharphotographer_\n",
      "263 kashishgulati\n",
      "264 samridhi_1730\n",
      "265 mr_king.112\n",
      "266 big_nose.small_eyes\n",
      "267 itzahmeed\n",
      "268 abhishek_modi93\n",
      "269 gagan_d33p_singh_\n",
      "270 srishti_gupta24\n",
      "271 smriti_.16\n",
      "272 l_jatin\n",
      "273 dilkash_shahi\n",
      "274 anohita_nosurnameplease\n",
      "275 siddhant922\n",
      "276 sanjna.rani.3950178\n",
      "277 deliberatecreator7\n",
      "278 arveezai\n",
      "279 anirudh_kaul\n",
      "280 ujjwal_nayan_singh\n",
      "281 as971688\n",
      "282 sarcastic_scorpio_\n",
      "283 akshiagarwal75\n",
      "284 shubh14am\n",
      "285 naved_choudhary27\n",
      "286 amitarora.2009\n",
      "287 aaun_wala_time_tere_yaar_da\n",
      "288 manssinainwal\n",
      "289 ya_yu_11\n",
      "290 tiwarishruti333\n",
      "291 __kashmiya__\n",
      "292 kumar_piyush\n",
      "293 lokesh_miles2go\n",
      "294 4.m.i.t\n",
      "295 atri_yee\n",
      "296 kashish_choudhary_111\n",
      "297 chalokoina\n",
      "298 akshaybansal290\n",
      "299 _ishika_7\n",
      "300 starry_night_44\n",
      "301 maham_soomro\n",
      "302 divya.vadher.77\n",
      "303 avishek.ban\n",
      "304 rajasthanifoodphotography\n",
      "305 persie07\n",
      "306 singla_yash\n",
      "307 abhaysinghparihar79\n",
      "308 vatsal_goel07\n",
      "309 pradeepjindal007\n",
      "310 m.danish562676\n",
      "311 perfect_alam\n",
      "312 thakral6610\n",
      "313 therthani\n",
      "314 jerry__hicks\n",
      "315 parnavinagar\n",
      "316 kabir.narain\n",
      "317 somyaaaa___\n",
      "318 yashikamehra.etc\n",
      "319 kinikabatla\n",
      "320 agarwalanika94\n",
      "321 mrmitra2023\n",
      "322 platformx_inc\n",
      "323 paridhi_bilala5\n",
      "324 xx._debas\n",
      "325 namrata_senani_garg\n",
      "326 arun_krs248\n",
      "327 satendra.kumar.5621149\n",
      "328 hey_san6\n",
      "329 _yajashmehra_02\n",
      "330 prajakta2491\n",
      "331 omkar_yadav7556\n",
      "332 true_living_club_2\n",
      "333 german_und_du\n",
      "334 hey_janvii\n",
      "335 urabhi.99\n",
      "336 madhurbajaj7\n",
      "337 moneka_salluja\n",
      "338 _.laksy\n",
      "339 ohwoooow_celebrities\n",
      "340 niyatisainii\n",
      "341 arxhika143\n",
      "342 ek.oneness\n",
      "343 diva_shukla\n",
      "344 anshi.1010_\n",
      "345 patiala_wedding_jutti\n",
      "346 chauhangagandeep\n",
      "347 _dhruvbhatia_\n",
      "348 elea_pons\n",
      "349 akshit_kanojiya\n",
      "350 iajeetsingh\n",
      "351 dirtytort92\n",
      "352 gulzarkhan6985\n",
      "353 kirti_choudhary_76\n",
      "354 _aashimittal_\n",
      "355 karan_pratap_kp9\n",
      "356 hardy_photography_\n",
      "357 iluvhotmoms333\n",
      "358 mumin_207\n",
      "359 pri.yanshgarg\n",
      "360 ca_nikhar_gupta\n",
      "361 tashmit2\n",
      "362 lullanamita\n",
      "363 frozenninja_07\n",
      "364 gurpreet2223\n",
      "365 menon_alka\n",
      "366 apeacefulsoul__\n",
      "367 aad.it\n",
      "368 twinkledawar16\n",
      "369 lavishmahar\n",
      "370 gagandeep151230\n",
      "371 rachita_arora31\n",
      "372 raosamarth_26\n",
      "373 muhammad_sarfraaz_ansari\n",
      "374 glass_degining\n",
      "375 pujasinghania2727\n",
      "376 sonia93guptags\n",
      "377 ak.hil3380\n",
      "378 itsanushkasingh_\n",
      "379 atulgoyal015\n",
      "380 neelkamalbirdi\n",
      "381 pankaj_dahiya___\n",
      "382 sharadkhemka\n",
      "383 mallikanarang96\n",
      "384 adams0880\n",
      "385 pathetic_weakling\n",
      "386 barkhaanijwal\n",
      "387 sujataspanda\n",
      "388 priyaaasingh08\n",
      "389 nan.ko.chaiye.chein\n",
      "390 nidhidixit5550\n",
      "391 im_notshafad\n",
      "392 ushaaa\n",
      "393 _yumyum_23\n",
      "394 shammi_singh02\n",
      "395 dumbasshloka\n",
      "396 rockstardev4\n",
      "397 devansh_aneja\n",
      "398 _.kashishsingh._\n",
      "399 bashayerfaisal\n",
      "400 ajay_jr8\n",
      "401 akshit_kaushikkk\n",
      "402 sri_lasya_rbv\n",
      "403 _chetansaxena_\n",
      "404 anilkumarsolanki050\n",
      "405 garg.ishu15\n",
      "406 rohantripathi_\n",
      "407 s4sameed\n",
      "408 x_gaurav_pvt\n",
      "409 __richayadav__\n",
      "410 abrara287\n",
      "411 rayof____sunshine\n",
      "412 aawa_ramusafir\n",
      "413 itsavii\n",
      "414 aa_balanari\n",
      "415 _.divjot\n",
      "416 agrawal_kavya09\n",
      "417 som.yaaa_\n",
      "418 unique_arora786\n",
      "419 dr.utkarshgupta\n",
      "420 om.jha7\n",
      "421 maheshwarisah_anuja\n",
      "422 argfacthub\n",
      "423 sonalithakur8089\n",
      "424 shubham_mehroliyaa\n",
      "425 arhaan_jamil_2007\n",
      "426 siddhika_poddar\n",
      "427 ___ru_pal__\n",
      "428 prernawadhwa7\n",
      "429 ashwin_kw\n",
      "430 _nikhil._.anand_\n",
      "431 nunusylo1706\n",
      "432 __nainaverma__\n",
      "433 daveo_1212_\n",
      "434 the_.lost_shadow\n",
      "435 whopoojathakur\n",
      "436 25umrfurk06\n",
      "437 saood_khan_sk\n",
      "438 budding.artist_mr\n",
      "439 nainahans\n",
      "440 the.one.she_\n",
      "441 srishti235\n",
      "442 __moniii_\n",
      "443 irfan_golden96\n",
      "444 tamerlanv777\n",
      "445 ronit_99434\n",
      "446 mayankrohira\n",
      "447 vandananagendra\n",
      "448 daniel.cyril26\n",
      "449 ritikahuria\n",
      "450 swapnilsanjayjain\n",
      "451 arvinda_sneha\n",
      "452 tarun_kumar.2002\n",
      "453 thepackersmovers.tpm\n",
      "454 ajbwehwbw\n",
      "455 igsaniaa\n",
      "456 iampawan18\n",
      "457 the_skybhardwaj\n",
      "458 digitaleraclasses\n",
      "459 black_soul_ash\n",
      "460 mini.chandra\n",
      "461 debadritadatta\n",
      "462 snowy.theshihtzu_\n",
      "463 delhi_city__\n",
      "464 dishankkk__\n",
      "465 nitinbhatia_insta\n",
      "466 official_yadav_nee2\n",
      "467 snaraya512\n",
      "468 aryan_v6\n",
      "469 sudhanshu12345685\n",
      "470 uma71329\n",
      "471 adhikarihimanshi27\n",
      "472 kpreeti.2011\n",
      "473 mohmmad_mustak_khan_muman___\n",
      "474 lakshmankumar4279\n",
      "475 temptingtreats_._\n",
      "476 toobasaleemkhairi\n",
      "477 realrajansharma\n",
      "478 rom_il_\n",
      "479 hanging_eagle\n",
      "480 sarthakahluwalia_\n",
      "481 _pratishtha_srivastava_\n",
      "482 khus_sandhu95\n",
      "483 niharikarathor82\n",
      "484 the_kav_shopping\n",
      "485 blow_slayer\n",
      "486 nihaariika\n",
      "487 aayuusshhhiii\n",
      "488 chitraaksh\n",
      "489 prerna_kataria_\n",
      "490 amanghai15\n",
      "491 ekaavali\n",
      "492 techlover59\n",
      "493 junkmonk_\n",
      "494 ajsshtyd\n",
      "495 manav_jain_97\n",
      "496 its_chodhary0000\n",
      "497 mayankarora784\n",
      "498 _sofiarehman_\n",
      "499 jatinpvtt___\n",
      "500 gursanjam.s.puri\n"
     ]
    }
   ],
   "source": [
    "count=1\n",
    "for i in sodelhi:\n",
    "    print(count, i.text)\n",
    "    count+=1"
   ]
  },
  {
   "cell_type": "code",
   "execution_count": 115,
   "metadata": {},
   "outputs": [],
   "source": [
    "driver.find_element(By.XPATH, '/html/body/div[2]/div/div/div/div[2]/div/div/div[1]/div/div[2]/div/div/div/div/div[2]/div/div/div[1]/div/div[3]/div/button').click()"
   ]
  },
  {
   "attachments": {},
   "cell_type": "markdown",
   "metadata": {},
   "source": [
    "## Check the story of ‘coding.ninjas’. Consider the following\n",
    "#### Scenarios and print error messages accordingly -\n",
    "##### If You have already seen the story.\n",
    "##### Or The user has no story.\n",
    "##### Or View the story if not yet seen."
   ]
  },
  {
   "cell_type": "code",
   "execution_count": null,
   "metadata": {},
   "outputs": [],
   "source": []
  },
  {
   "cell_type": "code",
   "execution_count": null,
   "metadata": {},
   "outputs": [],
   "source": []
  },
  {
   "cell_type": "code",
   "execution_count": null,
   "metadata": {},
   "outputs": [],
   "source": []
  },
  {
   "cell_type": "code",
   "execution_count": null,
   "metadata": {},
   "outputs": [],
   "source": []
  }
 ],
 "metadata": {
  "kernelspec": {
   "display_name": "Python 3",
   "language": "python",
   "name": "python3"
  },
  "language_info": {
   "codemirror_mode": {
    "name": "ipython",
    "version": 3
   },
   "file_extension": ".py",
   "mimetype": "text/x-python",
   "name": "python",
   "nbconvert_exporter": "python",
   "pygments_lexer": "ipython3",
   "version": "3.10.5"
  },
  "orig_nbformat": 4,
  "vscode": {
   "interpreter": {
    "hash": "26de051ba29f2982a8de78e945f0abaf191376122a1563185a90213a26c5da77"
   }
  }
 },
 "nbformat": 4,
 "nbformat_minor": 2
}
