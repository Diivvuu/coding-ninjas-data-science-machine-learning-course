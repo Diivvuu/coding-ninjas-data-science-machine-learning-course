{
 "cells": [
  {
   "attachments": {},
   "cell_type": "markdown",
   "metadata": {},
   "source": [
    "#  Importing Libraries"
   ]
  },
  {
   "cell_type": "code",
   "execution_count": 27,
   "metadata": {},
   "outputs": [],
   "source": [
    "import time\n",
    "from selenium import webdriver\n",
    "from webdriver_manager.chrome import ChromeDriverManager\n",
    "from selenium.webdriver.common.by import By\n",
    "from selenium.webdriver.support.ui import WebDriverWait\n",
    "from selenium.webdriver.support import expected_conditions as EC\n",
    "from selenium.webdriver.chrome.service import Service"
   ]
  },
  {
   "cell_type": "code",
   "execution_count": 28,
   "metadata": {},
   "outputs": [
    {
     "name": "stderr",
     "output_type": "stream",
     "text": [
      "C:\\Users\\WELCOME\\AppData\\Local\\Temp\\ipykernel_8568\\365059496.py:1: DeprecationWarning: executable_path has been deprecated, please pass in a Service object\n",
      "  driver=webdriver.Chrome(ChromeDriverManager().install())\n"
     ]
    }
   ],
   "source": [
    "driver=webdriver.Chrome(ChromeDriverManager().install())"
   ]
  },
  {
   "attachments": {},
   "cell_type": "markdown",
   "metadata": {},
   "source": [
    "## Login to your Instagram Handle\n",
    "#### Submit with sample username and password"
   ]
  },
  {
   "cell_type": "code",
   "execution_count": 29,
   "metadata": {},
   "outputs": [],
   "source": [
    "driver.get('https://www.instagram.com/')\n",
    "driver.maximize_window()\n",
    "driver.implicitly_wait(5)\n",
    "# waiter=WebDriverWait(driver, 10).until(EC.presence_of_element_located((By.LINK_TEXT, \"Log in\")))"
   ]
  },
  {
   "attachments": {},
   "cell_type": "markdown",
   "metadata": {},
   "source": [
    "#### Logging in instagram"
   ]
  },
  {
   "cell_type": "code",
   "execution_count": 30,
   "metadata": {},
   "outputs": [],
   "source": [
    "SAMPLE_USERNAME = 'testAccountselenium'\n",
    "SAMPLE_PASSWORD = 'selenium123'\n",
    "username = driver.find_element(By.NAME, 'username')\n",
    "username.send_keys(SAMPLE_USERNAME)\n",
    "password = driver.find_element(By.NAME, 'password')\n",
    "password.send_keys(SAMPLE_PASSWORD)\n",
    "driver.implicitly_wait(5)"
   ]
  },
  {
   "cell_type": "code",
   "execution_count": 31,
   "metadata": {},
   "outputs": [
    {
     "data": {
      "text/plain": [
       "<selenium.webdriver.remote.webelement.WebElement (session=\"644a637746899d55627a17bf1587b1cb\", element=\"11a5efee-e790-4eea-ba4f-5f8a3acd8ff6\")>"
      ]
     },
     "execution_count": 31,
     "metadata": {},
     "output_type": "execute_result"
    }
   ],
   "source": [
    "login_btn = driver.find_element(By.XPATH, '//button[contains(@class, \"_acap\")]/div')\n",
    "login_btn.click()\n",
    "\n",
    "WebDriverWait(driver, 5).until(EC.presence_of_element_located((By.CLASS_NAME, '_ac8f')))"
   ]
  },
  {
   "attachments": {},
   "cell_type": "markdown",
   "metadata": {},
   "source": [
    "##### Clicking on save info button(for saving username and password)"
   ]
  },
  {
   "cell_type": "code",
   "execution_count": 32,
   "metadata": {},
   "outputs": [
    {
     "data": {
      "text/plain": [
       "<selenium.webdriver.remote.webelement.WebElement (session=\"644a637746899d55627a17bf1587b1cb\", element=\"3aa38ad8-5e83-4045-af42-dcf981e387e7\")>"
      ]
     },
     "execution_count": 32,
     "metadata": {},
     "output_type": "execute_result"
    }
   ],
   "source": [
    "save_info = driver.find_element(By.CLASS_NAME, \"_ac8f\")\n",
    "save_info.click()\n",
    "WebDriverWait(driver, 5).until(EC.presence_of_element_located((By.CLASS_NAME, '_a9-z')))"
   ]
  },
  {
   "attachments": {},
   "cell_type": "markdown",
   "metadata": {},
   "source": [
    "#### CLicking on turn on notifications"
   ]
  },
  {
   "cell_type": "code",
   "execution_count": 33,
   "metadata": {},
   "outputs": [],
   "source": [
    "notif=driver.find_element(By.CLASS_NAME, '_a9-z').click()"
   ]
  },
  {
   "attachments": {},
   "cell_type": "markdown",
   "metadata": {},
   "source": [
    "#### Type for “food” in search bar and print all the names of the Instagram Handles that are displayed in list after typing “food”\n",
    "##### Note : Make sure to avoid printing hashtags"
   ]
  },
  {
   "cell_type": "code",
   "execution_count": 34,
   "metadata": {},
   "outputs": [],
   "source": [
    "search_box = driver.find_element(By.XPATH, '//div[starts-with(@class, \"xh8yej3 x1iyjqo2\")]/div[2]')\n",
    "search_box.click()\n",
    "wait = WebDriverWait(driver, 10).until(EC.presence_of_element_located((By.CLASS_NAME, '_aauy')))"
   ]
  },
  {
   "cell_type": "code",
   "execution_count": 35,
   "metadata": {},
   "outputs": [],
   "source": [
    "search_text = driver.find_element(By.CLASS_NAME, '_aauy')\n",
    "search_text.send_keys('food')\n",
    "# food_list = driver.find_elements(By.XPATH, '//div[starts-with(@class, \"_aac1\")]/div/div')\n",
    "food_list = driver.find_elements(By.XPATH, '//div[starts-with(@class, \"_abm4\")]/a/div/div[2]/div/div/div/div')"
   ]
  },
  {
   "cell_type": "code",
   "execution_count": 36,
   "metadata": {},
   "outputs": [
    {
     "name": "stdout",
     "output_type": "stream",
     "text": [
      "foodgod\n",
      "\n",
      "foodie_incarnate\n",
      "\n",
      "love_food\n",
      "foodporn\n",
      "\n",
      "usa.explores\n",
      "\n",
      "foodcorps\n",
      "food\n",
      "germany.explores\n",
      "\n",
      "foodhunter_sabu\n",
      "\n",
      "healthyfood.addiction\n",
      "maldives.explores\n",
      "\n",
      "china.travels\n",
      "\n",
      "philippines.explores\n",
      "\n",
      "food.darzee\n",
      "\n",
      "foodfusionpk\n",
      "\n",
      "switzerland.explores\n",
      "\n",
      "minniespantry\n",
      "food_calories\n",
      "canada.explores\n",
      "\n",
      "uk.explores\n",
      "\n",
      "poland.explore\n",
      "\n",
      "albaik\n",
      "\n",
      "sana\n",
      "\n",
      "foodbible\n",
      "\n",
      "healthyfood.facts\n",
      "switzerland_incredible\n",
      "mexico.explores\n",
      "\n",
      "healthy.foods.today\n",
      "foodesearch\n",
      "foodbank4nyc\n",
      "\n",
      "foodbabyny\n",
      "\n",
      "grandvillefood\n",
      "asianfoodnetwork\n",
      "\n",
      "asideofsweet\n",
      "delectable__crunch\n",
      "thailand.explores\n",
      "\n",
      "jewishfood\n",
      "southkorea.explores\n",
      "\n",
      "foodstirs\n",
      "\n",
      "villagefoodchannel_official\n",
      "\n",
      "foodnetwork\n",
      "\n",
      "foodbetweenfriends\n",
      "\n",
      "spainexplore\n",
      "\n",
      "foodrepublic\n",
      "\n",
      "sundaybrunchfood\n",
      "\n",
      "sibungbung\n",
      "\n",
      "grabfoodid\n",
      "\n",
      "fooddotcom\n",
      "\n",
      "fitwithrealfoodid\n",
      "\n"
     ]
    }
   ],
   "source": [
    "for i in food_list:\n",
    "    print(i.text)"
   ]
  },
  {
   "cell_type": "markdown",
   "metadata": {},
   "source": [
    "#### Clearing search bar"
   ]
  },
  {
   "cell_type": "code",
   "execution_count": 37,
   "metadata": {},
   "outputs": [],
   "source": [
    "# search_text.clear()\n",
    "cross = driver.find_element(By.XPATH, '//div[contains(@class, \"_aexm\")]/div[2]').click()\n",
    "search_text.send_keys('So Delhi')\n",
    "# WebDriverWait.until(EC.presence_of_element_located(()))"
   ]
  },
  {
   "attachments": {},
   "cell_type": "markdown",
   "metadata": {},
   "source": [
    "### Searching and Opening a profile using \n",
    "#### Open profile of “So Delhi” "
   ]
  },
  {
   "cell_type": "code",
   "execution_count": 38,
   "metadata": {},
   "outputs": [
    {
     "data": {
      "text/plain": [
       "<selenium.webdriver.remote.webelement.WebElement (session=\"644a637746899d55627a17bf1587b1cb\", element=\"e60e3935-ccf2-4942-ad80-dc49317a48ab\")>"
      ]
     },
     "execution_count": 38,
     "metadata": {},
     "output_type": "execute_result"
    }
   ],
   "source": [
    "So_Delhi = driver.find_element(By.CLASS_NAME, '_abm4')\n",
    "So_Delhi.click()\n",
    "WebDriverWait(driver, 10).until(EC.presence_of_element_located((By.XPATH, '//div[contains(@class, \"_aa_y\")]')))"
   ]
  },
  {
   "attachments": {},
   "cell_type": "markdown",
   "metadata": {},
   "source": [
    "### Follow/Unfollow given handle - \n",
    "#### Open the Instagram Handle of “So Delhi”\n",
    "#### Start following it. Print a message if you are already following\n"
   ]
  },
  {
   "cell_type": "code",
   "execution_count": 39,
   "metadata": {},
   "outputs": [
    {
     "name": "stdout",
     "output_type": "stream",
     "text": [
      "Already following it.\n"
     ]
    }
   ],
   "source": [
    "if driver.find_element(By.XPATH, '//div[contains(@class, \"_aacw\")]').text == \"Following\":\n",
    "    print(\"Already following it.\")\n",
    "else:\n",
    "    follow_btn = driver.find_element(By.XPATH, '//button[starts-with(@class, \"_acan\")]')\n",
    "    follow_btn.click()\n",
    "driver.implicitly_wait(5)"
   ]
  },
  {
   "attachments": {},
   "cell_type": "markdown",
   "metadata": {},
   "source": [
    "#### After following, unfollow the instagram handle. Print a message if you have already unfollowed."
   ]
  },
  {
   "cell_type": "code",
   "execution_count": 41,
   "metadata": {},
   "outputs": [
    {
     "ename": "ElementClickInterceptedException",
     "evalue": "Message: element click intercepted: Element <button class=\"_acan _aiit _acap _aijb _acat _aj1-\" type=\"button\">...</button> is not clickable at point (1143, 54). Other element would receive the click: <div class=\"x1qjc9v5 x9f619 x78zum5 xdt5ytf x1iyjqo2 xl56j7k\" style=\"--fds-black:black; --fds-black-alpha-05:rgba(0, 0, 0, 0.05); --fds-black-alpha-10:rgba(0, 0, 0, 0.1); --fds-black-alpha-15:rgba(0, 0, 0, 0.15); --fds-black-alpha-20:rgba(0, 0, 0, 0.2); --fds-black-alpha-30:rgba(0, 0, 0, 0.3); --fds-black-alpha-40:rgba(0, 0, 0, 0.4); --fds-black-alpha-50:rgba(0, 0, 0, 0.5); --fds-black-alpha-60:rgba(0, 0, 0, 0.6); --fds-black-alpha-80:rgba(0, 0, 0, 0.8); --fds-blue-05:black; --fds-blue-30:black; --fds-blue-40:black; --fds-blue-60:black; --fds-blue-70:black; --fds-blue-80:black; --fds-button-text:black; --fds-comment-background:black; --fds-dark-mode-gray-35:black; --fds-dark-mode-gray-50:black; --fds-dark-mode-gray-70:black; --fds-dark-mode-gray-80:black; --fds-dark-mode-gray-90:black; --fds-dark-mode-gray-100:black; --fds-gray-00:black; --fds-gray-05:black; --fds-gray-10:black; --fds-gray-20:black; --fds-gray-25:black; --fds-gray-30:black; --fds-gray-45:black; --fds-gray-70:black; --fds-gray-80:black; --fds-gray-90:black; --fds-gray-100:black; --fds-green-55:black; --fds-highlight:black; --fds-highlight-cell-background:black; --fds-primary-icon:white; --fds-primary-text:white; --fds-red-55:black; --fds-soft:cubic-bezier(0.08,0.52,0.52,1); --fds-spectrum-aluminum-tint-70:black; --fds-spectrum-blue-gray-tint-70:black; --fds-spectrum-cherry:black; --fds-spectrum-cherry-tint-70:black; --fds-spectrum-grape-tint-70:black; --fds-spectrum-grape-tint-90:black; --fds-spectrum-lemon-dark-1:black; --fds-spectrum-lemon-tint-70:black; --fds-spectrum-lime:black; --fds-spectrum-lime-tint-70:black; --fds-spectrum-orange-tint-70:black; --fds-spectrum-orange-tint-90:black; --fds-spectrum-seafoam-tint-70:black; --fds-spectrum-slate-dark-2:black; --fds-spectrum-slate-tint-70:black; --fds-spectrum-teal:black; --fds-spectrum-teal-dark-1:black; --fds-spectrum-teal-dark-2:black; --fds-spectrum-teal-tint-70:black; --fds-spectrum-teal-tint-90:black; --fds-spectrum-tomato:black; --fds-spectrum-tomato-tint-30:black; --fds-spectrum-tomato-tint-90:black; --fds-strong:cubic-bezier(0.12,0.8,0.32,1); --fds-white:black; --fds-white-alpha-05:rgba(255, 255, 255, 0.05); --fds-white-alpha-10:rgba(255, 255, 255, 0.1); --fds-white-alpha-20:rgba(255, 255, 255, 0.2); --fds-white-alpha-30:rgba(255, 255, 255, 0.3); --fds-white-alpha-40:rgba(255, 255, 255, 0.4); --fds-white-alpha-50:rgba(255, 255, 255, 0.5); --fds-white-alpha-60:rgba(255, 255, 255, 0.6); --fds-white-alpha-80:rgba(255, 255, 255, 0.8); --fds-yellow-20:black; --accent:#0095F6; --always-white:white; --always-black:black; --always-dark-gradient:linear-gradient(rgba(0,0,0,0), rgba(0,0,0,0.6)); --always-dark-overlay:rgba(0, 0, 0, 0.4); --always-light-overlay:rgba(255, 255, 255, 0.4); --always-gray-40:#65676B; --always-gray-75:#BCC0C4; --always-gray-95:#F0F2F5; --attachment-footer-background:rgba(255,255,255,0.1); --background-deemphasized:rgba(255,255,255,0.1); --base-blue:#1877F2; --base-cherry:#F3425F; --base-grape:#9360F7; --base-lemon:#F7B928; --base-lime:#45BD62; --base-pink:#FF66BF; --base-seafoam:#54C7EC; --base-teal:#2ABBA7; --base-tomato:#FB724B; --blue-link:#00376B; --border-focused:#8A8D91; --card-background:#242526; --card-background-flat:#323436; --comment-background:#3A3B3C; --comment-footer-background:#4E4F50; --dataviz-primary-1:rgb(48,200,180); --disabled-button-background:rgba(255, 255, 255, 0.2); --disabled-button-text:rgba(255, 255, 255, 0.3); --disabled-icon:rgba(255, 255, 255, 0.3); --disabled-text:rgba(255, 255, 255, 0.3); --divider:#3E4042; --event-date:#F3425F; --fb-wordmark:#FFFFFF; --filter-accent:invert(40%) sepia(52%) saturate(200%) saturate(200%) saturate(200%) saturate(189%) hue-rotate(191deg) brightness(103%) contrast(102%); --filter-always-white:invert(100%); --filter-disabled-icon:invert(100%) opacity(30%); --filter-placeholder-icon:invert(59%) sepia(11%) saturate(200%) saturate(135%) hue-rotate(176deg) brightness(96%) contrast(94%); --filter-primary-icon:invert(89%) sepia(6%) hue-rotate(185deg); --filter-secondary-icon:invert(62%) sepia(98%) saturate(12%) hue-rotate(175deg) brightness(90%) contrast(96%); --filter-warning-icon:invert(77%) sepia(29%) saturate(200%) saturate(200%) saturate(200%) saturate(200%) saturate(200%) saturate(128%) hue-rotate(359deg) brightness(102%) contrast(107%); --filter-blue-link-icon:invert(73%) sepia(29%) saturate(200%) saturate(200%) saturate(200%) saturate(200%) saturate(200%) saturate(200%) saturate(103.25%) hue-rotate(189deg) brightness(101%) contrast(101%); --filter-positive:invert(37%) sepia(61%) saturate(200%) saturate(200%) saturate(200%) saturate(200%) saturate(115%) hue-rotate(91deg) brightness(97%) contrast(105%); --filter-negative:invert(25%) sepia(33%) saturate(200%) saturate(200%) saturate(200%) saturate(200%) saturate(200%) saturate(200%) saturate(110%) hue-rotate(345deg) brightness(132%) contrast(96%); --glimmer-spinner-icon:white; --hero-banner-background:#E85D07; --hosted-view-selected-state:rgba(45, 136, 255, 0.1); --highlight-bg:rgba(24, 119, 242, 0.31); --hover-overlay:rgba(255, 255, 255, 0.1); --list-cell-chevron:#B0B3B8; --media-hover:rgba(68, 73, 80, 0.15); --media-inner-border:rgba(255, 255, 255, 0.05); --media-outer-border:#33363A; --media-pressed:rgba(68, 73, 80, 0.35); --messenger-card-background:#242526; --messenger-reply-background:#18191A; --overlay-alpha-80:rgba(0, 0, 0, 0.65); --overlay-on-media:rgba(0, 0, 0, 0.6); --nav-bar-background:#242526; --nav-bar-background-gradient:linear-gradient(to top, #242526, rgba(36,37,38,0.9), rgba(36,37,38,0.7), rgba(36,37,38,0.4), rgba(36,37,38,0)); --nav-bar-background-gradient-wash:linear-gradient(to top, #18191A, rgba(24,25,26,0.9), rgba(24,25,26,0.7), rgba(24,25,26,0.4), rgba(24,25,26,0)); --negative:hsl(350, 87%, 55%); --negative-background:hsl(350, 87%, 55%, 20%); --new-notification-background:#E7F3FF; --non-media-pressed:rgba(68, 73, 80, 0.15); --non-media-pressed-on-dark:rgba(255, 255, 255, 0.3); --notification-badge:#e41e3f; --placeholder-icon:#8A8D91; --placeholder-image:rgb(164, 167, 171); --placeholder-text:#8A8D91; --placeholder-text-on-media:rgba(255, 255, 255, 0.5); --popover-background:#3E4042; --positive:#31A24C; --positive-background:#1F3520; --press-overlay:rgba(255, 255, 255, 0.1); --primary-button-background:#0095F6; --primary-button-icon:#FFFFFF; --primary-button-pressed:#77A7FF; --primary-button-text:#FFFFFF; --primary-deemphasized-button-background:rgba(45, 136, 255, 0.2); --primary-deemphasized-button-pressed:rgba(24, 119, 242, 0.2); --primary-deemphasized-button-pressed-overlay:rgba(25, 110, 255, 0.15); --primary-deemphasized-button-text:#2D88FF; --primary-icon:#E4E6EB; --primary-text:#E4E6EB; --primary-text-on-media:white; --primary-web-focus-indicator:#D24294; --progress-ring-neutral-background:rgba(255, 255, 255, 0.2); --progress-ring-neutral-foreground:#ffffff; --progress-ring-on-media-background:rgba(255, 255, 255, 0.2); --progress-ring-on-media-foreground:#FFFFFF; --progress-ring-blue-background:rgba(45, 136, 255, 0.2); --progress-ring-blue-foreground:hsl(214, 100%, 59%); --progress-ring-disabled-background:rgba(122,125,130, 0.2); --progress-ring-disabled-foreground:#7A7D82; --rating-star-active:#FF9831; --scroll-thumb:rgba(255, 255, 255, 0.3); --scroll-shadow:0 1px 2px rgba(0, 0, 0, 0.1), 0 -1px rgba(255, 255, 255, 0.05) inset; --secondary-button-background:rgba(255,255,255,0.1); --secondary-button-background-floating:#4B4C4F; --secondary-button-background-on-dark:rgba(255, 255, 255, 0.4); --secondary-button-pressed:rgba(0, 0, 0, 0.05); --secondary-button-stroke:transparent; --secondary-button-text:#E4E6EB; --secondary-icon:#B0B3B8; --secondary-text:#B0B3B8; --secondary-text-on-media:rgba(255, 255, 255, 0.9); --section-header-text:#BCC0C4; --shadow-1:rgba(0, 0, 0, 0.1); --shadow-2:rgba(0, 0, 0, 0.2); --shadow-5:rgba(0, 0, 0, 0.5); --shadow-8:rgba(0, 0, 0, 0.8); --shadow-inset:rgba(255, 255, 255, 0.05); --shadow-elevated:0px 5px 12px rgba(28, 43, 51, 0.6); --shadow-persistent:0px 0px 12px rgba(28, 43, 51, 0.6); --shadow-primary:0px 0px 12px rgba(28, 43, 51, 0.1); --surface-background:#242526; --switch-active:hsl(214, 100%, 59%); --text-highlight:rgba(24, 119, 242, 0.45); --text-input-background:#242526; --toast-background:#242526; --toast-text:#FFFFFF; --toast-text-link:#4599FF; --toggle-active-background:rgb(45, 136, 255); --toggle-active-icon:#FFFFFF; --toggle-active-text:#FFFFFF; --toggle-button-active-background:#E6F2FF; --wash:#3E4042; --web-wash:#18191A; --warning:hsl(40, 89%, 52%); --fb-logo-color:#2D88FF; --dialog-anchor-vertical-padding:56px; --header-height:0px; --global-panel-width:0px; --global-panel-width-expanded:0px; --alert-banner-corner-radius:8px; --button-corner-radius:4px; --button-corner-radius-medium:10px; --button-corner-radius-large:12px; --button-height-large:40px; --button-height-medium:36px; --button-padding-horizontal-large:16px; --button-padding-horizontal-medium:16px; --button-icon-padding-large:16px; --button-icon-padding-medium:16px; --button-inner-icon-spacing-large:3px; --button-inner-icon-spacing-medium:3px; --blueprint-button-height-medium:40px; --blueprint-button-height-large:48px; --card-corner-radius:4px; --card-box-shadow:0 12px 28px 0 var(--shadow-2), 0 2px 4px 0 var(--shadow-1); --card-padding-vertical:20px; --chip-corner-radius:6px; --dialog-corner-radius:8px; --glimmer-corner-radius:8px; --image-corner-radius:4px; --input-corner-radius:4px; --nav-list-cell-corner-radius:8px; --list-cell-corner-radius:8px; --list-cell-min-height:52px; --list-cell-padding-vertical:20px; --list-cell-padding-vertical-with-addon:14px; --nav-list-cell-min-height:0px; --nav-list-cell-padding-vertical:16px; --nav-list-cell-padding-vertical-with-addon:16px; --text-input-multi-padding-between-text-scrollbar:20px; --text-input-multi-padding-scrollbar:16px; --toast-corner-radius:4px; --text-input-caption-margin-top:10px; --text-input-label-top:22px; --text-input-min-height:64px; --text-input-padding-vertical:12px; --fds-animation-enter-exit-in:cubic-bezier(0.14, 1, 0.34, 1); --fds-animation-enter-exit-out:cubic-bezier(0.45, 0.1, 0.2, 1); --fds-animation-swap-shuffle-in:cubic-bezier(0.14, 1, 0.34, 1); --fds-animation-swap-shuffle-out:cubic-bezier(0.45, 0.1, 0.2, 1); --fds-animation-move-in:cubic-bezier(0.17, 0.17, 0, 1); --fds-animation-move-out:cubic-bezier(0.17, 0.17, 0, 1); --fds-animation-expand-collapse-in:cubic-bezier(0.17, 0.17, 0, 1); --fds-animation-expand-collapse-out:cubic-bezier(0.17, 0.17, 0, 1); --fds-animation-passive-move-in:cubic-bezier(0.5, 0, 0.1, 1); --fds-animation-passive-move-out:cubic-bezier(0.5, 0, 0.1, 1); --fds-animation-quick-move-in:cubic-bezier(0.1, 0.9, 0.2, 1); --fds-animation-quick-move-out:cubic-bezier(0.1, 0.9, 0.2, 1); --fds-animation-fade-in:cubic-bezier(0, 0, 1, 1); --fds-animation-fade-out:cubic-bezier(0, 0, 1, 1); --fds-duration-extra-extra-short-in:100ms; --fds-duration-extra-extra-short-out:100ms; --fds-duration-extra-short-in:200ms; --fds-duration-extra-short-out:150ms; --fds-duration-short-in:280ms; --fds-duration-short-out:200ms; --fds-duration-medium-in:400ms; --fds-duration-medium-out:350ms; --fds-duration-long-in:500ms; --fds-duration-long-out:350ms; --fds-duration-extra-long-in:1000ms; --fds-duration-extra-long-out:1000ms; --fds-duration-none:0ms; --fds-fast:200ms; --fds-slow:400ms; --font-family-apple:system-ui, -apple-system, BlinkMacSystemFont, &quot;.SFNSText-Regular&quot;, sans-serif; --font-family-code:ui-monospace, Menlo, Consolas, Monaco, monospace; --font-family-default:Helvetica, Arial, sans-serif; --font-family-segoe:Segoe UI Historic, Segoe UI, Helvetica, Arial, sans-serif; --body-font-family:Placeholder Font; --body-font-size:0.9375rem; --body-font-weight:400; --body-line-height:1.3333; --body-emphasized-font-family:Placeholder Font; --body-emphasized-font-size:0.9375rem; --body-emphasized-font-weight:600; --body-emphasized-line-height:1.3333; --headline1-font-family:Optimistic Display Bold, system-ui, sans-serif; --headline1-font-size:1.75rem; --headline1-font-weight:700; --headline1-line-height:1.2143; --headline2-font-family:Optimistic Display Bold, system-ui, sans-serif; --headline2-font-size:1.5rem; --headline2-font-weight:700; --headline2-line-height:1.25; --headline3-font-family:Optimistic Display Bold, system-ui, sans-serif; --headline3-font-size:1.0625rem; --headline3-font-weight:700; --headline3-line-height:1.2941; --meta-font-family:Placeholder Font; --meta-font-size:0.8125rem; --meta-font-weight:400; --meta-line-height:1.3846; --meta-emphasized-font-family:Placeholder Font; --meta-emphasized-font-size:0.8125rem; --meta-emphasized-font-weight:600; --meta-emphasized-line-height:1.3846; --primary-label-font-family:Optimistic Display Medium, system-ui, sans-serif; --primary-label-font-size:1.0625rem; --primary-label-font-weight:500; --primary-label-line-height:1.2941; --secondary-label-font-family:Placeholder Font; --secondary-label-font-size:0.9375rem; --secondary-label-font-weight:500; --secondary-label-line-height:1.3333; --text-input-field-font-family:Placeholder Font; --text-input-field-font-size:1rem; --text-input-field-font-weight:500; --text-input-field-line-height:1.2941; --text-input-label-font-family:Placeholder Font; --text-input-label-font-size:17px; --text-input-label-font-size-scale-multiplier:0.75; --text-input-label-font-weight:400; --text-input-label-line-height:1.2941; --dataviz-primary-2:rgb(134,218,255); --dataviz-primary-3:rgb(95,170,255); --dataviz-secondary-1:rgb(129,77,231); --dataviz-secondary-2:rgb(168,124,255); --dataviz-secondary-3:rgb(219,26,139); --dataviz-supplementary-1:rgb(255,122,105); --dataviz-supplementary-2:rgb(241,168,23); --dataviz-supplementary-3:rgb(49,162,76); --dataviz-supplementary-4:rgb(228,230,235); --base-unit:4px; --blue-0:#f5fbff; --blue-2:#b3dbff; --blue-4:#47afff; --blue-5:#0095f6; --blue-6:#0074cc; --blue-7:#0057a3; --blue-8:#00376b; --blue-9:#002952; --breakpoint-medium-width:1536px; --breakpoint-small-width:1024px; --challenge-width:460px; --clr-separator:#efefef; --clr_red_dark_30:#af2634; --cluster-card-border-radius:8px; --creation-composer-height:81px; --creation-header-composer-height:126px; --creation-header-height:43px; --creation-min-padding-x:32px; --creation-modal-max-height:898px; --creation-modal-min-height:391px; --creation-padding-x:64px; --creation-padding-y:112px; --creation-settings-width:340px; --cyan-5:#27c4f5; --desktop-center-feed-min-width-breakpoint:1500px; --desktop-cluster-card-height:89px; --desktop-cluster-card-width:140px; --desktop-collapsed-nav-height:52px; --desktop-grid-item-margin:28px; --desktop-in-feed-story-item-height:208px; --desktop-in-feed-story-item-width:116px; --desktop-large-modal-max-height:781px; --desktop-large-modal-max-width:1491px; --desktop-large-modal-min-height:664px; --desktop-large-modal-min-width:908px; --desktop-nav-anim-duration:0.2s; --desktop-nav-height:60px; --desktop-nav-search-box-large-width:268px; --desktop-nav-search-box-width:215px; --desktop-regular-nav-height:77px; --desktop-skinny-nav-height:60px; --direct-attachment-image-grid-border-size:1px; --direct-attachment-image-grid-item-size:78px; --direct-attachment-image-grid-width:236px; --direct-attachment-story-height:150px; --direct-attachment-story-large-height:256px; --direct-attachment-story-large-width:164px; --direct-attachment-story-width:84px; --direct-message-margin:8px; --direct-message-max-width:236px; --extra-small-screen-max:413px; --fb-connect-blue:#4f67b0; --fb-signup-page-profile-pic-size:88px; --feed-sidebar-padding:32px; --feed-sidebar-width:319px; --feed-polaris-padding-small:32px; --feed-polaris-padding-med:70px; --feed-polaris-padding-large:96px; --feed-polaris-sidebar-width:268px; --feed-width-wide:614px; --feed-with-padding-threshold-min:640px; --font-family-system:-apple-system, BlinkMacSystemFont, &quot;Segoe UI&quot;, Roboto, Helvetica, Arial, sans-serif; --font-weight-system-bold:700; --font-weight-system-extra-bold:800; --font-weight-system-extra-light:200; --font-weight-system-light:300; --font-weight-system-medium:500; --font-weight-system-regular:400; --font-weight-system-semibold:600; --gradient-lavender:#d300c5; --gradient-orange:#ff7a00; --gradient-pink:#ff0169; --gradient-purple:#7638fa; --gradient-yellow:#ffd600; --green-4:#78de45; --green-5:#58c322; --green-6:#37a600; --grey-0:#f5f5f5; --grey-1:#efefef; --grey-2:#dbdbdb; --grey-4:#a8a8a8; --grey-5:#8e8e8e; --grey-6:#737373; --grey-8:#363636; --grey-9:#262626; --grid-column-width-modal:6.25%; --grid-column-width:5.55556%; --hscc-collapse-transition-duration:0.3s; --ig-badge:255, 48, 64; --ig-close-friends-refreshed:28, 209, 79; --ig-disabled-action-text:169, 219, 255; --ig-error-or-destructive:237, 73, 86; --ig-facebook-blue:53, 121, 234; --ig-full-screen-background:54, 54, 54; --ig-live-badge:255, 1, 105; --ig-primary-button:0, 149, 246; --ig-primary-button-hover:24, 119, 242; --ig-secondary-button-background:239, 239, 239; --ig-secondary-button-hover:219, 219, 219; --ig-secondary-button-focused:224, 241, 255; --ig-tertiary-button-background:255, 255, 255; --ig-tertiary-button-border:219, 219, 219; --ig-tertiary-button-hover:245, 245, 245; --ig-tertiary-button-text:38, 38, 38; --ig-subscribers-only:118, 56, 250; --ig-success:88, 195, 34; --ig-text-on-color:255, 255, 255; --ig-text-on-media:255, 255, 255; --igui-border-radius:3px; --in-feed-story-item-height:240px; --in-feed-story-item-width:135px; --input-border-radius:6px; --large-layout-min:1500px; --large-screen-min:876px; --like-animation-duration:1000ms; --live-video-border-radius:4px; --live-video-right-col-width:336px; --media-content-card-width:350px; --media-content-card-width-small:300px; --media-info:335px; --medium-layout-max:1499px; --medium-layout-min:1080px; --medium-screen-max:875px; --medium-screen-min:736px; --mobile-cluster-card-height:74px; --mobile-cluster-card-width:108px; --mobile-grid-item-margin:2px; --mobile-nav-height:45px; --modal-backdrop-dark:rgba(0, 0, 0, 0.85); --modal-backdrop-default:rgba(0, 0, 0, 0.65); --modal-border-radius:12px; --modal-padding:16px; --modal-z-index:100; --nav-narrow-width:72px; --nav-medium-width:244px; --nav-wide-width:335px; --nav-bottom-screen-max:767px; --nav-narrow-screen-min:768px; --nav-medium-screen-min:1264px; --nav-wide-screen-min:1920px; --orange-5:#fd8d32; --photo:600px; --pink-5:#d10869; --post-modal-large-screen-min:1536px; --post-modal-small-screen-max:1366px; --post-step-indicator:168, 168, 168; --purple-5:#a307ba; --red-4:#ff6874; --red-5:#ed4956; --red-6:#c62330; --red-7:#a70311; --reels-large-screen-min:1366px; --refinement-section-height:50px; --revamp-nav-bottom-toolbar-height:50px; --revamp-feed-card-max-height:758px; --revamp-feed-card-min-height:615px; --revamp-feed-card-min-width:710px; --revamp-feed-card-media-min-width:390px; --revamp-feed-card-details-section-width:320px; --revamp-feed-card-details-section-width-xl:340px; --revamp-feed-horizontal-padding-small-screen:24px; --revamp-feed-horizontal-padding-large-screen:32px; --revamp-feed-vertical-padding:32px; --right-rail-width:300px; --scrollable-content-header-height-large:56px; --scrollable-content-header-height-med:49px; --scrollable-content-header-height:44px; --search-box-height:40px; --search-modal-height-expanded:450px; --search-modal-height:362px; --search-modal-top-offset:12px; --search-result-height:50px; --search-result-inline-top-offset:60px; --search-result-list-width:375px; --site-padding-top:30px; --site-width-narrow:600px; --site-width-wide:935px; --small-layout-max:1079px; --small-layout-min:800px; --small-screen-max:735px; --small-screen-min:414px; --story-cube-shading-duration:200ms; --story-desktop-margin-bottom:26px; --story-desktop-margin-top:82px; --story-gallery-preview-scale-correction:2.5; --story-progressbar-update-tick:0.1s; --story-swap-animation-duration:350ms; --system-10-font-size:10px; --system-10-line-height:12px; --system-11-font-size:11px; --system-11-line-height:13px; --system-12-font-size:12px; --system-12-line-height:16px; --system-14-font-size:14px; --system-14-line-height:18px; --system-16-font-size:16px; --system-16-line-height:24px; --system-18-font-size:18px; --system-18-line-height:24px; --system-20-font-size:20px; --system-20-line-height:25px; --system-22-font-size:22px; --system-22-line-height:26px; --system-24-font-size:24px; --system-24-line-height:27px; --system-26-font-size:26px; --system-26-line-height:28px; --system-28-font-size:28px; --system-28-line-height:32px; --system-30-font-size:30px; --system-30-line-height:36px; --system-32-font-size:32px; --system-32-line-height:40px; --web-always-black:0, 0, 0; --web-always-white:255, 255, 255; --web-overlay-on-media:38, 38, 38; --web-secondary-action:224, 241, 255; --yellow-5:#fdcb5c; --challenge-link:219,219,219; --docpen-lightgrey:38,38,38; --ig-banner-background:38,38,38; --ig-elevated-background:38,38,38; --ig-elevated-separator:54,54,54; --ig-focus-stroke:85,85,85; --ig-highlight-background:38,38,38; --ig-link:224,241,255; --ig-primary-background:0,0,0; --ig-primary-text:250,250,250; --ig-secondary-background:18,18,18; --ig-secondary-button:250,250,250; --ig-secondary-text:168, 168, 168; --ig-separator:38,38,38; --ig-stroke:85,85,85; --ig-temporary-highlight:0,149,246; --ig-tertiary-text:115,115,115; --post-separator:38,38,38; --tos-box-shadow:255,255,255;\">...</div>\n  (Session info: chrome=108.0.5359.125)\nStacktrace:\nBacktrace:\n\t(No symbol) [0x00FAF243]\n\t(No symbol) [0x00F37FD1]\n\t(No symbol) [0x00E2D04D]\n\t(No symbol) [0x00E628B9]\n\t(No symbol) [0x00E608CC]\n\t(No symbol) [0x00E5E4CB]\n\t(No symbol) [0x00E5D164]\n\t(No symbol) [0x00E532A6]\n\t(No symbol) [0x00E7858C]\n\t(No symbol) [0x00E52BFF]\n\t(No symbol) [0x00E78804]\n\t(No symbol) [0x00E8C9EB]\n\t(No symbol) [0x00E78386]\n\t(No symbol) [0x00E5163C]\n\t(No symbol) [0x00E5269D]\n\tGetHandleVerifier [0x01249A22+2655074]\n\tGetHandleVerifier [0x0123CA24+2601828]\n\tGetHandleVerifier [0x01058C0A+619850]\n\tGetHandleVerifier [0x01057830+614768]\n\t(No symbol) [0x00F405FC]\n\t(No symbol) [0x00F45968]\n\t(No symbol) [0x00F45A55]\n\t(No symbol) [0x00F5051B]\n\tBaseThreadInitThunk [0x768000F9+25]\n\tRtlGetAppContainerNamedObjectPath [0x776C7BBE+286]\n\tRtlGetAppContainerNamedObjectPath [0x776C7B8E+238]\n",
     "output_type": "error",
     "traceback": [
      "\u001b[1;31m---------------------------------------------------------------------------\u001b[0m",
      "\u001b[1;31mElementClickInterceptedException\u001b[0m          Traceback (most recent call last)",
      "Cell \u001b[1;32mIn [41], line 2\u001b[0m\n\u001b[0;32m      1\u001b[0m \u001b[39mif\u001b[39;00m driver\u001b[39m.\u001b[39mfind_element(By\u001b[39m.\u001b[39mXPATH, \u001b[39m'\u001b[39m\u001b[39m//div[contains(@class, \u001b[39m\u001b[39m\"\u001b[39m\u001b[39m_aacw\u001b[39m\u001b[39m\"\u001b[39m\u001b[39m)]\u001b[39m\u001b[39m'\u001b[39m)\u001b[39m.\u001b[39mtext \u001b[39m==\u001b[39m \u001b[39m\"\u001b[39m\u001b[39mFollowing\u001b[39m\u001b[39m\"\u001b[39m:\n\u001b[1;32m----> 2\u001b[0m     follow_btn\u001b[39m.\u001b[39;49mclick()\n",
      "File \u001b[1;32m~\\AppData\\Roaming\\Python\\Python310\\site-packages\\selenium\\webdriver\\remote\\webelement.py:93\u001b[0m, in \u001b[0;36mWebElement.click\u001b[1;34m(self)\u001b[0m\n\u001b[0;32m     91\u001b[0m \u001b[39mdef\u001b[39;00m \u001b[39mclick\u001b[39m(\u001b[39mself\u001b[39m) \u001b[39m-\u001b[39m\u001b[39m>\u001b[39m \u001b[39mNone\u001b[39;00m:\n\u001b[0;32m     92\u001b[0m     \u001b[39m\"\"\"Clicks the element.\"\"\"\u001b[39;00m\n\u001b[1;32m---> 93\u001b[0m     \u001b[39mself\u001b[39;49m\u001b[39m.\u001b[39;49m_execute(Command\u001b[39m.\u001b[39;49mCLICK_ELEMENT)\n",
      "File \u001b[1;32m~\\AppData\\Roaming\\Python\\Python310\\site-packages\\selenium\\webdriver\\remote\\webelement.py:410\u001b[0m, in \u001b[0;36mWebElement._execute\u001b[1;34m(self, command, params)\u001b[0m\n\u001b[0;32m    408\u001b[0m     params \u001b[39m=\u001b[39m {}\n\u001b[0;32m    409\u001b[0m params[\u001b[39m\"\u001b[39m\u001b[39mid\u001b[39m\u001b[39m\"\u001b[39m] \u001b[39m=\u001b[39m \u001b[39mself\u001b[39m\u001b[39m.\u001b[39m_id\n\u001b[1;32m--> 410\u001b[0m \u001b[39mreturn\u001b[39;00m \u001b[39mself\u001b[39;49m\u001b[39m.\u001b[39;49m_parent\u001b[39m.\u001b[39;49mexecute(command, params)\n",
      "File \u001b[1;32m~\\AppData\\Roaming\\Python\\Python310\\site-packages\\selenium\\webdriver\\remote\\webdriver.py:444\u001b[0m, in \u001b[0;36mWebDriver.execute\u001b[1;34m(self, driver_command, params)\u001b[0m\n\u001b[0;32m    442\u001b[0m response \u001b[39m=\u001b[39m \u001b[39mself\u001b[39m\u001b[39m.\u001b[39mcommand_executor\u001b[39m.\u001b[39mexecute(driver_command, params)\n\u001b[0;32m    443\u001b[0m \u001b[39mif\u001b[39;00m response:\n\u001b[1;32m--> 444\u001b[0m     \u001b[39mself\u001b[39;49m\u001b[39m.\u001b[39;49merror_handler\u001b[39m.\u001b[39;49mcheck_response(response)\n\u001b[0;32m    445\u001b[0m     response[\u001b[39m\"\u001b[39m\u001b[39mvalue\u001b[39m\u001b[39m\"\u001b[39m] \u001b[39m=\u001b[39m \u001b[39mself\u001b[39m\u001b[39m.\u001b[39m_unwrap_value(response\u001b[39m.\u001b[39mget(\u001b[39m\"\u001b[39m\u001b[39mvalue\u001b[39m\u001b[39m\"\u001b[39m, \u001b[39mNone\u001b[39;00m))\n\u001b[0;32m    446\u001b[0m     \u001b[39mreturn\u001b[39;00m response\n",
      "File \u001b[1;32m~\\AppData\\Roaming\\Python\\Python310\\site-packages\\selenium\\webdriver\\remote\\errorhandler.py:249\u001b[0m, in \u001b[0;36mErrorHandler.check_response\u001b[1;34m(self, response)\u001b[0m\n\u001b[0;32m    247\u001b[0m         alert_text \u001b[39m=\u001b[39m value[\u001b[39m\"\u001b[39m\u001b[39malert\u001b[39m\u001b[39m\"\u001b[39m]\u001b[39m.\u001b[39mget(\u001b[39m\"\u001b[39m\u001b[39mtext\u001b[39m\u001b[39m\"\u001b[39m)\n\u001b[0;32m    248\u001b[0m     \u001b[39mraise\u001b[39;00m exception_class(message, screen, stacktrace, alert_text)  \u001b[39m# type: ignore[call-arg]  # mypy is not smart enough here\u001b[39;00m\n\u001b[1;32m--> 249\u001b[0m \u001b[39mraise\u001b[39;00m exception_class(message, screen, stacktrace)\n",
      "\u001b[1;31mElementClickInterceptedException\u001b[0m: Message: element click intercepted: Element <button class=\"_acan _aiit _acap _aijb _acat _aj1-\" type=\"button\">...</button> is not clickable at point (1143, 54). Other element would receive the click: <div class=\"x1qjc9v5 x9f619 x78zum5 xdt5ytf x1iyjqo2 xl56j7k\" style=\"--fds-black:black; --fds-black-alpha-05:rgba(0, 0, 0, 0.05); --fds-black-alpha-10:rgba(0, 0, 0, 0.1); --fds-black-alpha-15:rgba(0, 0, 0, 0.15); --fds-black-alpha-20:rgba(0, 0, 0, 0.2); --fds-black-alpha-30:rgba(0, 0, 0, 0.3); --fds-black-alpha-40:rgba(0, 0, 0, 0.4); --fds-black-alpha-50:rgba(0, 0, 0, 0.5); --fds-black-alpha-60:rgba(0, 0, 0, 0.6); --fds-black-alpha-80:rgba(0, 0, 0, 0.8); --fds-blue-05:black; --fds-blue-30:black; --fds-blue-40:black; --fds-blue-60:black; --fds-blue-70:black; --fds-blue-80:black; --fds-button-text:black; --fds-comment-background:black; --fds-dark-mode-gray-35:black; --fds-dark-mode-gray-50:black; --fds-dark-mode-gray-70:black; --fds-dark-mode-gray-80:black; --fds-dark-mode-gray-90:black; --fds-dark-mode-gray-100:black; --fds-gray-00:black; --fds-gray-05:black; --fds-gray-10:black; --fds-gray-20:black; --fds-gray-25:black; --fds-gray-30:black; --fds-gray-45:black; --fds-gray-70:black; --fds-gray-80:black; --fds-gray-90:black; --fds-gray-100:black; --fds-green-55:black; --fds-highlight:black; --fds-highlight-cell-background:black; --fds-primary-icon:white; --fds-primary-text:white; --fds-red-55:black; --fds-soft:cubic-bezier(0.08,0.52,0.52,1); --fds-spectrum-aluminum-tint-70:black; --fds-spectrum-blue-gray-tint-70:black; --fds-spectrum-cherry:black; --fds-spectrum-cherry-tint-70:black; --fds-spectrum-grape-tint-70:black; --fds-spectrum-grape-tint-90:black; --fds-spectrum-lemon-dark-1:black; --fds-spectrum-lemon-tint-70:black; --fds-spectrum-lime:black; --fds-spectrum-lime-tint-70:black; --fds-spectrum-orange-tint-70:black; --fds-spectrum-orange-tint-90:black; --fds-spectrum-seafoam-tint-70:black; --fds-spectrum-slate-dark-2:black; --fds-spectrum-slate-tint-70:black; --fds-spectrum-teal:black; --fds-spectrum-teal-dark-1:black; --fds-spectrum-teal-dark-2:black; --fds-spectrum-teal-tint-70:black; --fds-spectrum-teal-tint-90:black; --fds-spectrum-tomato:black; --fds-spectrum-tomato-tint-30:black; --fds-spectrum-tomato-tint-90:black; --fds-strong:cubic-bezier(0.12,0.8,0.32,1); --fds-white:black; --fds-white-alpha-05:rgba(255, 255, 255, 0.05); --fds-white-alpha-10:rgba(255, 255, 255, 0.1); --fds-white-alpha-20:rgba(255, 255, 255, 0.2); --fds-white-alpha-30:rgba(255, 255, 255, 0.3); --fds-white-alpha-40:rgba(255, 255, 255, 0.4); --fds-white-alpha-50:rgba(255, 255, 255, 0.5); --fds-white-alpha-60:rgba(255, 255, 255, 0.6); --fds-white-alpha-80:rgba(255, 255, 255, 0.8); --fds-yellow-20:black; --accent:#0095F6; --always-white:white; --always-black:black; --always-dark-gradient:linear-gradient(rgba(0,0,0,0), rgba(0,0,0,0.6)); --always-dark-overlay:rgba(0, 0, 0, 0.4); --always-light-overlay:rgba(255, 255, 255, 0.4); --always-gray-40:#65676B; --always-gray-75:#BCC0C4; --always-gray-95:#F0F2F5; --attachment-footer-background:rgba(255,255,255,0.1); --background-deemphasized:rgba(255,255,255,0.1); --base-blue:#1877F2; --base-cherry:#F3425F; --base-grape:#9360F7; --base-lemon:#F7B928; --base-lime:#45BD62; --base-pink:#FF66BF; --base-seafoam:#54C7EC; --base-teal:#2ABBA7; --base-tomato:#FB724B; --blue-link:#00376B; --border-focused:#8A8D91; --card-background:#242526; --card-background-flat:#323436; --comment-background:#3A3B3C; --comment-footer-background:#4E4F50; --dataviz-primary-1:rgb(48,200,180); --disabled-button-background:rgba(255, 255, 255, 0.2); --disabled-button-text:rgba(255, 255, 255, 0.3); --disabled-icon:rgba(255, 255, 255, 0.3); --disabled-text:rgba(255, 255, 255, 0.3); --divider:#3E4042; --event-date:#F3425F; --fb-wordmark:#FFFFFF; --filter-accent:invert(40%) sepia(52%) saturate(200%) saturate(200%) saturate(200%) saturate(189%) hue-rotate(191deg) brightness(103%) contrast(102%); --filter-always-white:invert(100%); --filter-disabled-icon:invert(100%) opacity(30%); --filter-placeholder-icon:invert(59%) sepia(11%) saturate(200%) saturate(135%) hue-rotate(176deg) brightness(96%) contrast(94%); --filter-primary-icon:invert(89%) sepia(6%) hue-rotate(185deg); --filter-secondary-icon:invert(62%) sepia(98%) saturate(12%) hue-rotate(175deg) brightness(90%) contrast(96%); --filter-warning-icon:invert(77%) sepia(29%) saturate(200%) saturate(200%) saturate(200%) saturate(200%) saturate(200%) saturate(128%) hue-rotate(359deg) brightness(102%) contrast(107%); --filter-blue-link-icon:invert(73%) sepia(29%) saturate(200%) saturate(200%) saturate(200%) saturate(200%) saturate(200%) saturate(200%) saturate(103.25%) hue-rotate(189deg) brightness(101%) contrast(101%); --filter-positive:invert(37%) sepia(61%) saturate(200%) saturate(200%) saturate(200%) saturate(200%) saturate(115%) hue-rotate(91deg) brightness(97%) contrast(105%); --filter-negative:invert(25%) sepia(33%) saturate(200%) saturate(200%) saturate(200%) saturate(200%) saturate(200%) saturate(200%) saturate(110%) hue-rotate(345deg) brightness(132%) contrast(96%); --glimmer-spinner-icon:white; --hero-banner-background:#E85D07; --hosted-view-selected-state:rgba(45, 136, 255, 0.1); --highlight-bg:rgba(24, 119, 242, 0.31); --hover-overlay:rgba(255, 255, 255, 0.1); --list-cell-chevron:#B0B3B8; --media-hover:rgba(68, 73, 80, 0.15); --media-inner-border:rgba(255, 255, 255, 0.05); --media-outer-border:#33363A; --media-pressed:rgba(68, 73, 80, 0.35); --messenger-card-background:#242526; --messenger-reply-background:#18191A; --overlay-alpha-80:rgba(0, 0, 0, 0.65); --overlay-on-media:rgba(0, 0, 0, 0.6); --nav-bar-background:#242526; --nav-bar-background-gradient:linear-gradient(to top, #242526, rgba(36,37,38,0.9), rgba(36,37,38,0.7), rgba(36,37,38,0.4), rgba(36,37,38,0)); --nav-bar-background-gradient-wash:linear-gradient(to top, #18191A, rgba(24,25,26,0.9), rgba(24,25,26,0.7), rgba(24,25,26,0.4), rgba(24,25,26,0)); --negative:hsl(350, 87%, 55%); --negative-background:hsl(350, 87%, 55%, 20%); --new-notification-background:#E7F3FF; --non-media-pressed:rgba(68, 73, 80, 0.15); --non-media-pressed-on-dark:rgba(255, 255, 255, 0.3); --notification-badge:#e41e3f; --placeholder-icon:#8A8D91; --placeholder-image:rgb(164, 167, 171); --placeholder-text:#8A8D91; --placeholder-text-on-media:rgba(255, 255, 255, 0.5); --popover-background:#3E4042; --positive:#31A24C; --positive-background:#1F3520; --press-overlay:rgba(255, 255, 255, 0.1); --primary-button-background:#0095F6; --primary-button-icon:#FFFFFF; --primary-button-pressed:#77A7FF; --primary-button-text:#FFFFFF; --primary-deemphasized-button-background:rgba(45, 136, 255, 0.2); --primary-deemphasized-button-pressed:rgba(24, 119, 242, 0.2); --primary-deemphasized-button-pressed-overlay:rgba(25, 110, 255, 0.15); --primary-deemphasized-button-text:#2D88FF; --primary-icon:#E4E6EB; --primary-text:#E4E6EB; --primary-text-on-media:white; --primary-web-focus-indicator:#D24294; --progress-ring-neutral-background:rgba(255, 255, 255, 0.2); --progress-ring-neutral-foreground:#ffffff; --progress-ring-on-media-background:rgba(255, 255, 255, 0.2); --progress-ring-on-media-foreground:#FFFFFF; --progress-ring-blue-background:rgba(45, 136, 255, 0.2); --progress-ring-blue-foreground:hsl(214, 100%, 59%); --progress-ring-disabled-background:rgba(122,125,130, 0.2); --progress-ring-disabled-foreground:#7A7D82; --rating-star-active:#FF9831; --scroll-thumb:rgba(255, 255, 255, 0.3); --scroll-shadow:0 1px 2px rgba(0, 0, 0, 0.1), 0 -1px rgba(255, 255, 255, 0.05) inset; --secondary-button-background:rgba(255,255,255,0.1); --secondary-button-background-floating:#4B4C4F; --secondary-button-background-on-dark:rgba(255, 255, 255, 0.4); --secondary-button-pressed:rgba(0, 0, 0, 0.05); --secondary-button-stroke:transparent; --secondary-button-text:#E4E6EB; --secondary-icon:#B0B3B8; --secondary-text:#B0B3B8; --secondary-text-on-media:rgba(255, 255, 255, 0.9); --section-header-text:#BCC0C4; --shadow-1:rgba(0, 0, 0, 0.1); --shadow-2:rgba(0, 0, 0, 0.2); --shadow-5:rgba(0, 0, 0, 0.5); --shadow-8:rgba(0, 0, 0, 0.8); --shadow-inset:rgba(255, 255, 255, 0.05); --shadow-elevated:0px 5px 12px rgba(28, 43, 51, 0.6); --shadow-persistent:0px 0px 12px rgba(28, 43, 51, 0.6); --shadow-primary:0px 0px 12px rgba(28, 43, 51, 0.1); --surface-background:#242526; --switch-active:hsl(214, 100%, 59%); --text-highlight:rgba(24, 119, 242, 0.45); --text-input-background:#242526; --toast-background:#242526; --toast-text:#FFFFFF; --toast-text-link:#4599FF; --toggle-active-background:rgb(45, 136, 255); --toggle-active-icon:#FFFFFF; --toggle-active-text:#FFFFFF; --toggle-button-active-background:#E6F2FF; --wash:#3E4042; --web-wash:#18191A; --warning:hsl(40, 89%, 52%); --fb-logo-color:#2D88FF; --dialog-anchor-vertical-padding:56px; --header-height:0px; --global-panel-width:0px; --global-panel-width-expanded:0px; --alert-banner-corner-radius:8px; --button-corner-radius:4px; --button-corner-radius-medium:10px; --button-corner-radius-large:12px; --button-height-large:40px; --button-height-medium:36px; --button-padding-horizontal-large:16px; --button-padding-horizontal-medium:16px; --button-icon-padding-large:16px; --button-icon-padding-medium:16px; --button-inner-icon-spacing-large:3px; --button-inner-icon-spacing-medium:3px; --blueprint-button-height-medium:40px; --blueprint-button-height-large:48px; --card-corner-radius:4px; --card-box-shadow:0 12px 28px 0 var(--shadow-2), 0 2px 4px 0 var(--shadow-1); --card-padding-vertical:20px; --chip-corner-radius:6px; --dialog-corner-radius:8px; --glimmer-corner-radius:8px; --image-corner-radius:4px; --input-corner-radius:4px; --nav-list-cell-corner-radius:8px; --list-cell-corner-radius:8px; --list-cell-min-height:52px; --list-cell-padding-vertical:20px; --list-cell-padding-vertical-with-addon:14px; --nav-list-cell-min-height:0px; --nav-list-cell-padding-vertical:16px; --nav-list-cell-padding-vertical-with-addon:16px; --text-input-multi-padding-between-text-scrollbar:20px; --text-input-multi-padding-scrollbar:16px; --toast-corner-radius:4px; --text-input-caption-margin-top:10px; --text-input-label-top:22px; --text-input-min-height:64px; --text-input-padding-vertical:12px; --fds-animation-enter-exit-in:cubic-bezier(0.14, 1, 0.34, 1); --fds-animation-enter-exit-out:cubic-bezier(0.45, 0.1, 0.2, 1); --fds-animation-swap-shuffle-in:cubic-bezier(0.14, 1, 0.34, 1); --fds-animation-swap-shuffle-out:cubic-bezier(0.45, 0.1, 0.2, 1); --fds-animation-move-in:cubic-bezier(0.17, 0.17, 0, 1); --fds-animation-move-out:cubic-bezier(0.17, 0.17, 0, 1); --fds-animation-expand-collapse-in:cubic-bezier(0.17, 0.17, 0, 1); --fds-animation-expand-collapse-out:cubic-bezier(0.17, 0.17, 0, 1); --fds-animation-passive-move-in:cubic-bezier(0.5, 0, 0.1, 1); --fds-animation-passive-move-out:cubic-bezier(0.5, 0, 0.1, 1); --fds-animation-quick-move-in:cubic-bezier(0.1, 0.9, 0.2, 1); --fds-animation-quick-move-out:cubic-bezier(0.1, 0.9, 0.2, 1); --fds-animation-fade-in:cubic-bezier(0, 0, 1, 1); --fds-animation-fade-out:cubic-bezier(0, 0, 1, 1); --fds-duration-extra-extra-short-in:100ms; --fds-duration-extra-extra-short-out:100ms; --fds-duration-extra-short-in:200ms; --fds-duration-extra-short-out:150ms; --fds-duration-short-in:280ms; --fds-duration-short-out:200ms; --fds-duration-medium-in:400ms; --fds-duration-medium-out:350ms; --fds-duration-long-in:500ms; --fds-duration-long-out:350ms; --fds-duration-extra-long-in:1000ms; --fds-duration-extra-long-out:1000ms; --fds-duration-none:0ms; --fds-fast:200ms; --fds-slow:400ms; --font-family-apple:system-ui, -apple-system, BlinkMacSystemFont, &quot;.SFNSText-Regular&quot;, sans-serif; --font-family-code:ui-monospace, Menlo, Consolas, Monaco, monospace; --font-family-default:Helvetica, Arial, sans-serif; --font-family-segoe:Segoe UI Historic, Segoe UI, Helvetica, Arial, sans-serif; --body-font-family:Placeholder Font; --body-font-size:0.9375rem; --body-font-weight:400; --body-line-height:1.3333; --body-emphasized-font-family:Placeholder Font; --body-emphasized-font-size:0.9375rem; --body-emphasized-font-weight:600; --body-emphasized-line-height:1.3333; --headline1-font-family:Optimistic Display Bold, system-ui, sans-serif; --headline1-font-size:1.75rem; --headline1-font-weight:700; --headline1-line-height:1.2143; --headline2-font-family:Optimistic Display Bold, system-ui, sans-serif; --headline2-font-size:1.5rem; --headline2-font-weight:700; --headline2-line-height:1.25; --headline3-font-family:Optimistic Display Bold, system-ui, sans-serif; --headline3-font-size:1.0625rem; --headline3-font-weight:700; --headline3-line-height:1.2941; --meta-font-family:Placeholder Font; --meta-font-size:0.8125rem; --meta-font-weight:400; --meta-line-height:1.3846; --meta-emphasized-font-family:Placeholder Font; --meta-emphasized-font-size:0.8125rem; --meta-emphasized-font-weight:600; --meta-emphasized-line-height:1.3846; --primary-label-font-family:Optimistic Display Medium, system-ui, sans-serif; --primary-label-font-size:1.0625rem; --primary-label-font-weight:500; --primary-label-line-height:1.2941; --secondary-label-font-family:Placeholder Font; --secondary-label-font-size:0.9375rem; --secondary-label-font-weight:500; --secondary-label-line-height:1.3333; --text-input-field-font-family:Placeholder Font; --text-input-field-font-size:1rem; --text-input-field-font-weight:500; --text-input-field-line-height:1.2941; --text-input-label-font-family:Placeholder Font; --text-input-label-font-size:17px; --text-input-label-font-size-scale-multiplier:0.75; --text-input-label-font-weight:400; --text-input-label-line-height:1.2941; --dataviz-primary-2:rgb(134,218,255); --dataviz-primary-3:rgb(95,170,255); --dataviz-secondary-1:rgb(129,77,231); --dataviz-secondary-2:rgb(168,124,255); --dataviz-secondary-3:rgb(219,26,139); --dataviz-supplementary-1:rgb(255,122,105); --dataviz-supplementary-2:rgb(241,168,23); --dataviz-supplementary-3:rgb(49,162,76); --dataviz-supplementary-4:rgb(228,230,235); --base-unit:4px; --blue-0:#f5fbff; --blue-2:#b3dbff; --blue-4:#47afff; --blue-5:#0095f6; --blue-6:#0074cc; --blue-7:#0057a3; --blue-8:#00376b; --blue-9:#002952; --breakpoint-medium-width:1536px; --breakpoint-small-width:1024px; --challenge-width:460px; --clr-separator:#efefef; --clr_red_dark_30:#af2634; --cluster-card-border-radius:8px; --creation-composer-height:81px; --creation-header-composer-height:126px; --creation-header-height:43px; --creation-min-padding-x:32px; --creation-modal-max-height:898px; --creation-modal-min-height:391px; --creation-padding-x:64px; --creation-padding-y:112px; --creation-settings-width:340px; --cyan-5:#27c4f5; --desktop-center-feed-min-width-breakpoint:1500px; --desktop-cluster-card-height:89px; --desktop-cluster-card-width:140px; --desktop-collapsed-nav-height:52px; --desktop-grid-item-margin:28px; --desktop-in-feed-story-item-height:208px; --desktop-in-feed-story-item-width:116px; --desktop-large-modal-max-height:781px; --desktop-large-modal-max-width:1491px; --desktop-large-modal-min-height:664px; --desktop-large-modal-min-width:908px; --desktop-nav-anim-duration:0.2s; --desktop-nav-height:60px; --desktop-nav-search-box-large-width:268px; --desktop-nav-search-box-width:215px; --desktop-regular-nav-height:77px; --desktop-skinny-nav-height:60px; --direct-attachment-image-grid-border-size:1px; --direct-attachment-image-grid-item-size:78px; --direct-attachment-image-grid-width:236px; --direct-attachment-story-height:150px; --direct-attachment-story-large-height:256px; --direct-attachment-story-large-width:164px; --direct-attachment-story-width:84px; --direct-message-margin:8px; --direct-message-max-width:236px; --extra-small-screen-max:413px; --fb-connect-blue:#4f67b0; --fb-signup-page-profile-pic-size:88px; --feed-sidebar-padding:32px; --feed-sidebar-width:319px; --feed-polaris-padding-small:32px; --feed-polaris-padding-med:70px; --feed-polaris-padding-large:96px; --feed-polaris-sidebar-width:268px; --feed-width-wide:614px; --feed-with-padding-threshold-min:640px; --font-family-system:-apple-system, BlinkMacSystemFont, &quot;Segoe UI&quot;, Roboto, Helvetica, Arial, sans-serif; --font-weight-system-bold:700; --font-weight-system-extra-bold:800; --font-weight-system-extra-light:200; --font-weight-system-light:300; --font-weight-system-medium:500; --font-weight-system-regular:400; --font-weight-system-semibold:600; --gradient-lavender:#d300c5; --gradient-orange:#ff7a00; --gradient-pink:#ff0169; --gradient-purple:#7638fa; --gradient-yellow:#ffd600; --green-4:#78de45; --green-5:#58c322; --green-6:#37a600; --grey-0:#f5f5f5; --grey-1:#efefef; --grey-2:#dbdbdb; --grey-4:#a8a8a8; --grey-5:#8e8e8e; --grey-6:#737373; --grey-8:#363636; --grey-9:#262626; --grid-column-width-modal:6.25%; --grid-column-width:5.55556%; --hscc-collapse-transition-duration:0.3s; --ig-badge:255, 48, 64; --ig-close-friends-refreshed:28, 209, 79; --ig-disabled-action-text:169, 219, 255; --ig-error-or-destructive:237, 73, 86; --ig-facebook-blue:53, 121, 234; --ig-full-screen-background:54, 54, 54; --ig-live-badge:255, 1, 105; --ig-primary-button:0, 149, 246; --ig-primary-button-hover:24, 119, 242; --ig-secondary-button-background:239, 239, 239; --ig-secondary-button-hover:219, 219, 219; --ig-secondary-button-focused:224, 241, 255; --ig-tertiary-button-background:255, 255, 255; --ig-tertiary-button-border:219, 219, 219; --ig-tertiary-button-hover:245, 245, 245; --ig-tertiary-button-text:38, 38, 38; --ig-subscribers-only:118, 56, 250; --ig-success:88, 195, 34; --ig-text-on-color:255, 255, 255; --ig-text-on-media:255, 255, 255; --igui-border-radius:3px; --in-feed-story-item-height:240px; --in-feed-story-item-width:135px; --input-border-radius:6px; --large-layout-min:1500px; --large-screen-min:876px; --like-animation-duration:1000ms; --live-video-border-radius:4px; --live-video-right-col-width:336px; --media-content-card-width:350px; --media-content-card-width-small:300px; --media-info:335px; --medium-layout-max:1499px; --medium-layout-min:1080px; --medium-screen-max:875px; --medium-screen-min:736px; --mobile-cluster-card-height:74px; --mobile-cluster-card-width:108px; --mobile-grid-item-margin:2px; --mobile-nav-height:45px; --modal-backdrop-dark:rgba(0, 0, 0, 0.85); --modal-backdrop-default:rgba(0, 0, 0, 0.65); --modal-border-radius:12px; --modal-padding:16px; --modal-z-index:100; --nav-narrow-width:72px; --nav-medium-width:244px; --nav-wide-width:335px; --nav-bottom-screen-max:767px; --nav-narrow-screen-min:768px; --nav-medium-screen-min:1264px; --nav-wide-screen-min:1920px; --orange-5:#fd8d32; --photo:600px; --pink-5:#d10869; --post-modal-large-screen-min:1536px; --post-modal-small-screen-max:1366px; --post-step-indicator:168, 168, 168; --purple-5:#a307ba; --red-4:#ff6874; --red-5:#ed4956; --red-6:#c62330; --red-7:#a70311; --reels-large-screen-min:1366px; --refinement-section-height:50px; --revamp-nav-bottom-toolbar-height:50px; --revamp-feed-card-max-height:758px; --revamp-feed-card-min-height:615px; --revamp-feed-card-min-width:710px; --revamp-feed-card-media-min-width:390px; --revamp-feed-card-details-section-width:320px; --revamp-feed-card-details-section-width-xl:340px; --revamp-feed-horizontal-padding-small-screen:24px; --revamp-feed-horizontal-padding-large-screen:32px; --revamp-feed-vertical-padding:32px; --right-rail-width:300px; --scrollable-content-header-height-large:56px; --scrollable-content-header-height-med:49px; --scrollable-content-header-height:44px; --search-box-height:40px; --search-modal-height-expanded:450px; --search-modal-height:362px; --search-modal-top-offset:12px; --search-result-height:50px; --search-result-inline-top-offset:60px; --search-result-list-width:375px; --site-padding-top:30px; --site-width-narrow:600px; --site-width-wide:935px; --small-layout-max:1079px; --small-layout-min:800px; --small-screen-max:735px; --small-screen-min:414px; --story-cube-shading-duration:200ms; --story-desktop-margin-bottom:26px; --story-desktop-margin-top:82px; --story-gallery-preview-scale-correction:2.5; --story-progressbar-update-tick:0.1s; --story-swap-animation-duration:350ms; --system-10-font-size:10px; --system-10-line-height:12px; --system-11-font-size:11px; --system-11-line-height:13px; --system-12-font-size:12px; --system-12-line-height:16px; --system-14-font-size:14px; --system-14-line-height:18px; --system-16-font-size:16px; --system-16-line-height:24px; --system-18-font-size:18px; --system-18-line-height:24px; --system-20-font-size:20px; --system-20-line-height:25px; --system-22-font-size:22px; --system-22-line-height:26px; --system-24-font-size:24px; --system-24-line-height:27px; --system-26-font-size:26px; --system-26-line-height:28px; --system-28-font-size:28px; --system-28-line-height:32px; --system-30-font-size:30px; --system-30-line-height:36px; --system-32-font-size:32px; --system-32-line-height:40px; --web-always-black:0, 0, 0; --web-always-white:255, 255, 255; --web-overlay-on-media:38, 38, 38; --web-secondary-action:224, 241, 255; --yellow-5:#fdcb5c; --challenge-link:219,219,219; --docpen-lightgrey:38,38,38; --ig-banner-background:38,38,38; --ig-elevated-background:38,38,38; --ig-elevated-separator:54,54,54; --ig-focus-stroke:85,85,85; --ig-highlight-background:38,38,38; --ig-link:224,241,255; --ig-primary-background:0,0,0; --ig-primary-text:250,250,250; --ig-secondary-background:18,18,18; --ig-secondary-button:250,250,250; --ig-secondary-text:168, 168, 168; --ig-separator:38,38,38; --ig-stroke:85,85,85; --ig-temporary-highlight:0,149,246; --ig-tertiary-text:115,115,115; --post-separator:38,38,38; --tos-box-shadow:255,255,255;\">...</div>\n  (Session info: chrome=108.0.5359.125)\nStacktrace:\nBacktrace:\n\t(No symbol) [0x00FAF243]\n\t(No symbol) [0x00F37FD1]\n\t(No symbol) [0x00E2D04D]\n\t(No symbol) [0x00E628B9]\n\t(No symbol) [0x00E608CC]\n\t(No symbol) [0x00E5E4CB]\n\t(No symbol) [0x00E5D164]\n\t(No symbol) [0x00E532A6]\n\t(No symbol) [0x00E7858C]\n\t(No symbol) [0x00E52BFF]\n\t(No symbol) [0x00E78804]\n\t(No symbol) [0x00E8C9EB]\n\t(No symbol) [0x00E78386]\n\t(No symbol) [0x00E5163C]\n\t(No symbol) [0x00E5269D]\n\tGetHandleVerifier [0x01249A22+2655074]\n\tGetHandleVerifier [0x0123CA24+2601828]\n\tGetHandleVerifier [0x01058C0A+619850]\n\tGetHandleVerifier [0x01057830+614768]\n\t(No symbol) [0x00F405FC]\n\t(No symbol) [0x00F45968]\n\t(No symbol) [0x00F45A55]\n\t(No symbol) [0x00F5051B]\n\tBaseThreadInitThunk [0x768000F9+25]\n\tRtlGetAppContainerNamedObjectPath [0x776C7BBE+286]\n\tRtlGetAppContainerNamedObjectPath [0x776C7B8E+238]\n"
     ]
    }
   ],
   "source": [
    "if driver.find_element(By.XPATH, '//div[contains(@class, \"_aacw\")]').text == \"Following\":\n",
    "    follow_btn.click()"
   ]
  },
  {
   "cell_type": "markdown",
   "metadata": {},
   "source": []
  }
 ],
 "metadata": {
  "kernelspec": {
   "display_name": "Python 3",
   "language": "python",
   "name": "python3"
  },
  "language_info": {
   "codemirror_mode": {
    "name": "ipython",
    "version": 3
   },
   "file_extension": ".py",
   "mimetype": "text/x-python",
   "name": "python",
   "nbconvert_exporter": "python",
   "pygments_lexer": "ipython3",
   "version": "3.10.5"
  },
  "orig_nbformat": 4,
  "vscode": {
   "interpreter": {
    "hash": "26de051ba29f2982a8de78e945f0abaf191376122a1563185a90213a26c5da77"
   }
  }
 },
 "nbformat": 4,
 "nbformat_minor": 2
}
