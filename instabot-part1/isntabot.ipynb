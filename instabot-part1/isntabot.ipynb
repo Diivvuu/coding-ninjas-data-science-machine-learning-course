{
 "cells": [
  {
   "attachments": {},
   "cell_type": "markdown",
   "metadata": {},
   "source": [
    "#  Importing Libraries"
   ]
  },
  {
   "cell_type": "code",
   "execution_count": 27,
   "metadata": {},
   "outputs": [],
   "source": [
    "import time\n",
    "from selenium import webdriver\n",
    "from webdriver_manager.chrome import ChromeDriverManager\n",
    "from selenium.webdriver.common.by import By\n",
    "from selenium.webdriver.support.ui import WebDriverWait\n",
    "from selenium.webdriver.support import expected_conditions as EC\n",
    "from selenium.webdriver.chrome.service import Service"
   ]
  },
  {
   "cell_type": "code",
   "execution_count": 28,
   "metadata": {},
   "outputs": [
    {
     "name": "stderr",
     "output_type": "stream",
     "text": [
      "C:\\Users\\WELCOME\\AppData\\Local\\Temp\\ipykernel_8568\\365059496.py:1: DeprecationWarning: executable_path has been deprecated, please pass in a Service object\n",
      "  driver=webdriver.Chrome(ChromeDriverManager().install())\n"
     ]
    }
   ],
   "source": [
    "driver=webdriver.Chrome(ChromeDriverManager().install())"
   ]
  },
  {
   "attachments": {},
   "cell_type": "markdown",
   "metadata": {},
   "source": [
    "## Login to your Instagram Handle\n",
    "#### Submit with sample username and password"
   ]
  },
  {
   "cell_type": "code",
   "execution_count": 29,
   "metadata": {},
   "outputs": [],
   "source": [
    "driver.get('https://www.instagram.com/')\n",
    "driver.maximize_window()\n",
    "driver.implicitly_wait(5)\n",
    "# waiter=WebDriverWait(driver, 10).until(EC.presence_of_element_located((By.LINK_TEXT, \"Log in\")))"
   ]
  },
  {
   "attachments": {},
   "cell_type": "markdown",
   "metadata": {},
   "source": [
    "#### Logging in instagram"
   ]
  },
  {
   "cell_type": "code",
   "execution_count": 30,
   "metadata": {},
   "outputs": [],
   "source": [
    "SAMPLE_USERNAME = 'testAccountselenium'\n",
    "SAMPLE_PASSWORD = 'selenium123'\n",
    "username = driver.find_element(By.NAME, 'username')\n",
    "username.send_keys(SAMPLE_USERNAME)\n",
    "password = driver.find_element(By.NAME, 'password')\n",
    "password.send_keys(SAMPLE_PASSWORD)\n",
    "driver.implicitly_wait(5)"
   ]
  },
  {
   "cell_type": "code",
   "execution_count": 31,
   "metadata": {},
   "outputs": [
    {
     "data": {
      "text/plain": [
       "<selenium.webdriver.remote.webelement.WebElement (session=\"644a637746899d55627a17bf1587b1cb\", element=\"11a5efee-e790-4eea-ba4f-5f8a3acd8ff6\")>"
      ]
     },
     "execution_count": 31,
     "metadata": {},
     "output_type": "execute_result"
    }
   ],
   "source": [
    "login_btn = driver.find_element(By.XPATH, '//button[contains(@class, \"_acap\")]/div')\n",
    "login_btn.click()\n",
    "\n",
    "WebDriverWait(driver, 5).until(EC.presence_of_element_located((By.CLASS_NAME, '_ac8f')))"
   ]
  },
  {
   "attachments": {},
   "cell_type": "markdown",
   "metadata": {},
   "source": [
    "##### Clicking on save info button(for saving username and password)"
   ]
  },
  {
   "cell_type": "code",
   "execution_count": 32,
   "metadata": {},
   "outputs": [
    {
     "data": {
      "text/plain": [
       "<selenium.webdriver.remote.webelement.WebElement (session=\"644a637746899d55627a17bf1587b1cb\", element=\"3aa38ad8-5e83-4045-af42-dcf981e387e7\")>"
      ]
     },
     "execution_count": 32,
     "metadata": {},
     "output_type": "execute_result"
    }
   ],
   "source": [
    "save_info = driver.find_element(By.CLASS_NAME, \"_ac8f\")\n",
    "save_info.click()\n",
    "WebDriverWait(driver, 5).until(EC.presence_of_element_located((By.CLASS_NAME, '_a9-z')))"
   ]
  },
  {
   "attachments": {},
   "cell_type": "markdown",
   "metadata": {},
   "source": [
    "#### CLicking on turn on notifications"
   ]
  },
  {
   "cell_type": "code",
   "execution_count": 33,
   "metadata": {},
   "outputs": [],
   "source": [
    "notif=driver.find_element(By.CLASS_NAME, '_a9-z').click()"
   ]
  },
  {
   "attachments": {},
   "cell_type": "markdown",
   "metadata": {},
   "source": [
    "#### Type for “food” in search bar and print all the names of the Instagram Handles that are displayed in list after typing “food”\n",
    "##### Note : Make sure to avoid printing hashtags"
   ]
  },
  {
   "cell_type": "code",
   "execution_count": 34,
   "metadata": {},
   "outputs": [],
   "source": [
    "search_box = driver.find_element(By.XPATH, '//div[starts-with(@class, \"xh8yej3 x1iyjqo2\")]/div[2]')\n",
    "search_box.click()\n",
    "wait = WebDriverWait(driver, 10).until(EC.presence_of_element_located((By.CLASS_NAME, '_aauy')))"
   ]
  },
  {
   "cell_type": "code",
   "execution_count": 35,
   "metadata": {},
   "outputs": [],
   "source": [
    "search_text = driver.find_element(By.CLASS_NAME, '_aauy')\n",
    "search_text.send_keys('food')\n",
    "# food_list = driver.find_elements(By.XPATH, '//div[starts-with(@class, \"_aac1\")]/div/div')\n",
    "food_list = driver.find_elements(By.XPATH, '//div[starts-with(@class, \"_abm4\")]/a/div/div[2]/div/div/div/div')"
   ]
  },
  {
   "cell_type": "code",
   "execution_count": 36,
   "metadata": {},
   "outputs": [
    {
     "name": "stdout",
     "output_type": "stream",
     "text": [
      "foodgod\n",
      "\n",
      "foodie_incarnate\n",
      "\n",
      "love_food\n",
      "foodporn\n",
      "\n",
      "usa.explores\n",
      "\n",
      "foodcorps\n",
      "food\n",
      "germany.explores\n",
      "\n",
      "foodhunter_sabu\n",
      "\n",
      "healthyfood.addiction\n",
      "maldives.explores\n",
      "\n",
      "china.travels\n",
      "\n",
      "philippines.explores\n",
      "\n",
      "food.darzee\n",
      "\n",
      "foodfusionpk\n",
      "\n",
      "switzerland.explores\n",
      "\n",
      "minniespantry\n",
      "food_calories\n",
      "canada.explores\n",
      "\n",
      "uk.explores\n",
      "\n",
      "poland.explore\n",
      "\n",
      "albaik\n",
      "\n",
      "sana\n",
      "\n",
      "foodbible\n",
      "\n",
      "healthyfood.facts\n",
      "switzerland_incredible\n",
      "mexico.explores\n",
      "\n",
      "healthy.foods.today\n",
      "foodesearch\n",
      "foodbank4nyc\n",
      "\n",
      "foodbabyny\n",
      "\n",
      "grandvillefood\n",
      "asianfoodnetwork\n",
      "\n",
      "asideofsweet\n",
      "delectable__crunch\n",
      "thailand.explores\n",
      "\n",
      "jewishfood\n",
      "southkorea.explores\n",
      "\n",
      "foodstirs\n",
      "\n",
      "villagefoodchannel_official\n",
      "\n",
      "foodnetwork\n",
      "\n",
      "foodbetweenfriends\n",
      "\n",
      "spainexplore\n",
      "\n",
      "foodrepublic\n",
      "\n",
      "sundaybrunchfood\n",
      "\n",
      "sibungbung\n",
      "\n",
      "grabfoodid\n",
      "\n",
      "fooddotcom\n",
      "\n",
      "fitwithrealfoodid\n",
      "\n"
     ]
    }
   ],
   "source": [
    "for i in food_list:\n",
    "    print(i.text)"
   ]
  },
  {
   "cell_type": "markdown",
   "metadata": {},
   "source": [
    "#### Clearing search bar"
   ]
  },
  {
   "cell_type": "code",
   "execution_count": 37,
   "metadata": {},
   "outputs": [],
   "source": [
    "# search_text.clear()\n",
    "cross = driver.find_element(By.XPATH, '//div[contains(@class, \"_aexm\")]/div[2]').click()\n",
    "search_text.send_keys('So Delhi')\n",
    "# WebDriverWait.until(EC.presence_of_element_located(()))"
   ]
  },
  {
   "attachments": {},
   "cell_type": "markdown",
   "metadata": {},
   "source": [
    "### Searching and Opening a profile using \n",
    "#### Open profile of “So Delhi” "
   ]
  },
  {
   "cell_type": "code",
   "execution_count": 38,
   "metadata": {},
   "outputs": [
    {
     "data": {
      "text/plain": [
       "<selenium.webdriver.remote.webelement.WebElement (session=\"644a637746899d55627a17bf1587b1cb\", element=\"e60e3935-ccf2-4942-ad80-dc49317a48ab\")>"
      ]
     },
     "execution_count": 38,
     "metadata": {},
     "output_type": "execute_result"
    }
   ],
   "source": [
    "So_Delhi = driver.find_element(By.CLASS_NAME, '_abm4')\n",
    "So_Delhi.click()\n",
    "WebDriverWait(driver, 10).until(EC.presence_of_element_located((By.XPATH, '//div[contains(@class, \"_aa_y\")]')))"
   ]
  },
  {
   "attachments": {},
   "cell_type": "markdown",
   "metadata": {},
   "source": [
    "### Follow/Unfollow given handle - \n",
    "#### Open the Instagram Handle of “So Delhi”\n",
    "#### Start following it. Print a message if you are already following\n"
   ]
  },
  {
   "cell_type": "code",
   "execution_count": 39,
   "metadata": {},
   "outputs": [
    {
     "name": "stdout",
     "output_type": "stream",
     "text": [
      "Already following it.\n"
     ]
    }
   ],
   "source": [
    "if driver.find_element(By.XPATH, '//div[contains(@class, \"_aacw\")]').text == \"Following\":\n",
    "    print(\"Already following it.\")\n",
    "else:\n",
    "    follow_btn = driver.find_element(By.XPATH, '//button[starts-with(@class, \"_acan\")]')\n",
    "    follow_btn.click()\n",
    "driver.implicitly_wait(5)"
   ]
  },
  {
   "attachments": {},
   "cell_type": "markdown",
   "metadata": {},
   "source": [
    "#### After following, unfollow the instagram handle. Print a message if you have already unfollowed."
   ]
  },
  {
   "cell_type": "code",
   "execution_count": 42,
   "metadata": {},
   "outputs": [
    {
     "name": "stdout",
     "output_type": "stream",
     "text": [
      "cds\n"
     ]
    }
   ],
   "source": [
    "if driver.find_element(By.XPATH, '//div[contains(@class, \"_aacw\")]').text == \"Following\":\n",
    "    driver.find_element(By.XPATH, '//button[contains(@class, \"_aacw\")]').click()"
   ]
  },
  {
   "cell_type": "code",
   "execution_count": 43,
   "metadata": {},
   "outputs": [],
   "source": []
  },
  {
   "cell_type": "markdown",
   "metadata": {},
   "source": []
  }
 ],
 "metadata": {
  "kernelspec": {
   "display_name": "Python 3",
   "language": "python",
   "name": "python3"
  },
  "language_info": {
   "codemirror_mode": {
    "name": "ipython",
    "version": 3
   },
   "file_extension": ".py",
   "mimetype": "text/x-python",
   "name": "python",
   "nbconvert_exporter": "python",
   "pygments_lexer": "ipython3",
   "version": "3.10.5"
  },
  "orig_nbformat": 4,
  "vscode": {
   "interpreter": {
    "hash": "26de051ba29f2982a8de78e945f0abaf191376122a1563185a90213a26c5da77"
   }
  }
 },
 "nbformat": 4,
 "nbformat_minor": 2
}
